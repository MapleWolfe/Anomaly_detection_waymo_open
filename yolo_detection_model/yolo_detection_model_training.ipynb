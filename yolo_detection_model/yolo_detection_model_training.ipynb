{
  "cells": [
    {
      "cell_type": "markdown",
      "metadata": {
        "id": "25GdaRiEvePn"
      },
      "source": [
        "# Building Model for Waymo open dataset\n",
        "- please see the detection_model_readme.txt"
      ]
    },
    {
      "cell_type": "markdown",
      "metadata": {
        "id": "d-VVlaMJ_S4s"
      },
      "source": [
        "##### Enviornment Notebook was built in:\n",
        "- Kindly run this notebook in Google Colab\n",
        "\n",
        "##### Hardware needs:\n",
        "\n",
        "- Kindly use a minimum of 12 GB CPU ram\n",
        "- the standard Nvidia T4 GPU that comes with the free version of Google Colab.\n",
        "- 50 GB disk Minimum (less should work but this was the minimum during notebook creation)\n",
        "\n",
        "##### following files should be in local directory if using the local notebook\n",
        "- these files should be in the same folder as notebook\n",
        "\n",
        "##### instructions to run notebook,\n",
        "- Kindly fill in the code cell below to use the local parquet files stored in the same folder as notebook or the parquet files stored in a GCS bucket"
      ]
    },
    {
      "cell_type": "code",
      "execution_count": 9,
      "metadata": {
        "id": "TLmtrOPvfAgx"
      },
      "outputs": [],
      "source": [
        "# do you want to use local sample files or google cloud storage?\n",
        "file_store = 'GCS' # kindly use either 'GCS' for Google cloud storage or 'LOCAL' for files stored in the same folder as notebook\n",
        "\n",
        "# leave both as None if using LOCAL or kindly replace this with your GCS api key json file and Bucket name or else\n",
        "gcs_json_key = '/content/organic-reef-390716-609989a4c6da.json' # please remember to start file path here with '/content/' + your json key file name\n",
        "bucket_name = 'waymo_sample_bucket'\n",
        "\n",
        "#these are the file download limits for hyper param tuning, it limits the number of parquet files being downloaded for training / validation / test\n",
        "train_limit = 2 #-1 means all relevant files in your google bucket\n",
        "val_limit = 1 #-1 means all relevant files in your google bucket\n",
        "test_limit = 1 #-1 means all relevant files in your google bucket\n",
        "\n",
        "final_model_train_limit = 40 #-1 means all relevant files in your google bucket\n",
        "\n",
        "# the path below is to the sample files: there are 4 parquets in total, you just need to upload them into colab enviornment\n",
        "train_box_data_file_path  = 'training_camera_box_10017090168044687777_6380_000_6400_000.parquet'\n",
        "train_image_data_file_path = 'training_camera_image_10017090168044687777_6380_000_6400_000.parquet'\n",
        "val_box_data_file_path = 'training_camera_box_10017090168044687777_6380_000_6400_000.parquet'\n",
        "val_image_data_file_path = 'training_camera_image_10017090168044687777_6380_000_6400_000.parquet'\n"
      ]
    },
    {
      "cell_type": "markdown",
      "metadata": {
        "id": "1efbiYyBwl5V"
      },
      "source": [
        "## installs, imports, pre-sets\n",
        "\n",
        "- kindly open and run cell blocks based on the enviornment being run in to save computational resources."
      ]
    },
    {
      "cell_type": "markdown",
      "metadata": {
        "id": "4TZffgE6--bq"
      },
      "source": [
        "### Using detect_model_requirements.txt\n",
        "- please uncomment to use"
      ]
    },
    {
      "cell_type": "code",
      "execution_count": null,
      "metadata": {
        "id": "AEw4lY1k8_EE"
      },
      "outputs": [],
      "source": [
        "# uncomment to create notebook package requirments file called detect_model_requirements.txt\n",
        "# !pip freeze > detect_model_requirements.txt\n",
        "\n",
        "# use the code below to use detect_model_requirements.txt to install all necessary packages\n",
        "#!pip install -r detect_model_requirements.txt"
      ]
    },
    {
      "cell_type": "markdown",
      "metadata": {
        "id": "EXuACyZEEya7"
      },
      "source": [
        "### Neccessary installs on top of google colab\n",
        "- uncomment and Run this cell if you aren't using detect_model_requirements.txt and are operating in the GPU google colab enviornment"
      ]
    },
    {
      "cell_type": "code",
      "execution_count": null,
      "metadata": {
        "id": "pvf-dj0GvdxW"
      },
      "outputs": [],
      "source": [
        "#!pip install google-cloud-storage\n",
        "#!pip install ultralytics\n",
        "#!pip install altair"
      ]
    },
    {
      "cell_type": "markdown",
      "metadata": {
        "id": "BuxoPuoiHKka"
      },
      "source": [
        "### Imports"
      ]
    },
    {
      "cell_type": "code",
      "execution_count": 24,
      "metadata": {
        "id": "HrS7BbTI8vEQ"
      },
      "outputs": [],
      "source": [
        "# installs for google cloud storage\n",
        "from google.cloud import storage\n",
        "\n",
        "# general tool installs\n",
        "import os, io, shutil, warnings\n",
        "from tqdm.notebook import tqdm\n",
        "\n",
        "#image processing and plotting libraries\n",
        "from PIL import Image\n",
        "import matplotlib.pyplot as plt\n",
        "import matplotlib.patches as patches\n",
        "import altair as alt\n",
        "\n",
        "# data processing librarires\n",
        "import pandas as pd\n",
        "import numpy as np\n",
        "import dask.dataframe as dd\n",
        "\n",
        "# model evaluation\n",
        "from sklearn.model_selection import ParameterGrid\n",
        "\n",
        "# model libraries\n",
        "import tensorflow as tf\n",
        "from ultralytics import YOLO\n",
        "\n",
        "#pre-sets\n",
        "warnings.filterwarnings(\"ignore\")"
      ]
    },
    {
      "cell_type": "markdown",
      "metadata": {
        "id": "qE6iWVWNq0md"
      },
      "source": [
        "## utility functions\n",
        "- functions that may be used at a later point"
      ]
    },
    {
      "cell_type": "markdown",
      "metadata": {
        "id": "GO9cCRwqq9G1"
      },
      "source": [
        "### delete file function"
      ]
    },
    {
      "cell_type": "code",
      "execution_count": 10,
      "metadata": {
        "id": "neffr318q_Fu"
      },
      "outputs": [],
      "source": [
        "# code to delete a file\n",
        "def delete_file(file_path_list):\n",
        "  for a_file in (file_path_list):\n",
        "    os.remove(a_file)\n",
        "  return None"
      ]
    },
    {
      "cell_type": "markdown",
      "metadata": {
        "id": "KQOjtFvRR3rs"
      },
      "source": [
        "### move copy function"
      ]
    },
    {
      "cell_type": "code",
      "execution_count": 11,
      "metadata": {
        "id": "-wXmxJz8R87z"
      },
      "outputs": [],
      "source": [
        "def move_copy(old_location, new_location):\n",
        "  shutil.copy(old_location, new_location)\n",
        "  return None"
      ]
    },
    {
      "cell_type": "markdown",
      "metadata": {
        "id": "QGybKhahuvLH"
      },
      "source": [
        "### download blob function"
      ]
    },
    {
      "cell_type": "code",
      "execution_count": 12,
      "metadata": {
        "id": "0EXbcuJcuzq-"
      },
      "outputs": [],
      "source": [
        "# to download a blob file\n",
        "def download_blob(a_blob,file_name):\n",
        "  a_blob.download_to_filename(file_name)\n",
        "  return None"
      ]
    },
    {
      "cell_type": "markdown",
      "metadata": {
        "id": "JwM9qp-8tTl0"
      },
      "source": [
        "### Let's create folder directory for YOLO\n",
        "- built as per .yaml file"
      ]
    },
    {
      "cell_type": "code",
      "execution_count": 13,
      "metadata": {
        "id": "wPeKxiYvtMXt"
      },
      "outputs": [],
      "source": [
        "#folder name list for directory\n",
        "def make_directory(folder_name_list):\n",
        "  folder_path = os.path.join(*folder_name_list)\n",
        "  if not os.path.exists(folder_path):\n",
        "    os.makedirs(folder_path)\n",
        "\n",
        "  return None\n",
        "\n",
        "#function to build yolo directory structure\n",
        "def build_yolo_directory():\n",
        "  for folder_type in ['train','test','eval']:\n",
        "    for data_type in ['images', 'labels']:\n",
        "      make_directory(['datasets',folder_type,data_type])\n",
        "  return None\n",
        "\n"
      ]
    },
    {
      "cell_type": "code",
      "execution_count": 14,
      "metadata": {
        "id": "xDggpi2_voCu"
      },
      "outputs": [],
      "source": [
        "# running directory function\n",
        "build_yolo_directory()"
      ]
    },
    {
      "cell_type": "markdown",
      "metadata": {
        "id": "TnpY5qVHuE9x"
      },
      "source": [
        "## Google Cloud Storage section\n",
        "\n",
        "- Run these cells if you are using your private google cloud storage.\n",
        "- kindly ensure that your bucket has the same structure and file names as the waymo_open_dataset_v_2_0_0 bucket"
      ]
    },
    {
      "cell_type": "code",
      "execution_count": 15,
      "metadata": {
        "id": "PRZeQG2scdL_"
      },
      "outputs": [],
      "source": [
        "def start_gcs(gcs_json_key = gcs_json_key, bucket_name = bucket_name):\n",
        "# Please input API JSON KEY FOR your private google cloud storage where the files are kept in gcs_json_key defined in the first codeblock\n",
        "    os.environ['GOOGLE_APPLICATION_CREDENTIALS'] = gcs_json_key\n",
        "    client = storage.Client()\n",
        "# replace the bucket name with the bucket name in your GCS, use the bucket_name object  in the first codeblock\n",
        "    bucket = client.get_bucket(bucket_name)\n",
        "\n",
        "#getting file list\n",
        "    files = bucket.list_blobs()\n",
        "    files_list = [a_file.name for a_file in files]\n",
        "    return bucket, files_list\n"
      ]
    },
    {
      "cell_type": "markdown",
      "metadata": {
        "id": "EeMf3LBtorBu"
      },
      "source": [
        "### GCS Iterative File Dowload function\n",
        "(Bare Image parquet and Bounding box parquet files)"
      ]
    },
    {
      "cell_type": "code",
      "execution_count": 16,
      "metadata": {
        "id": "Wi1hP1Hbs7sB"
      },
      "outputs": [],
      "source": [
        "# in the following function we are creating blobs: one blob object for images parquet and another blob for box coordinates parquet\n",
        "def open_gcs_file(files_list,bucket, storage_folder = 'training'):\n",
        "    # lets ensure that we have the correct file type\n",
        "    if storage_folder not in ['training','testing','validation']:\n",
        "      print('''please retype storage_folder it should either be ('training','testing','validation') in the second parameter of function)''')\n",
        "      return None\n",
        "\n",
        "    image_box_str = storage_folder +'/'+ 'camera_box'+'/'\n",
        "    bare_image_str = storage_folder +'/'+ 'camera_image'+'/'\n",
        "    print('files_list: ', files_list)\n",
        "    for a_file in files_list:\n",
        "        if image_box_str in a_file:\n",
        "          try:\n",
        "            box_file_name = a_file\n",
        "            box_file_blob = bucket.blob(box_file_name)\n",
        "            bare_image_file_name = box_file_name.replace(image_box_str, bare_image_str)\n",
        "            bare_image_blob = bucket.blob(bare_image_file_name)\n",
        "            if bare_image_blob is not None:\n",
        "              yield box_file_blob, os.path.basename(box_file_name),bare_image_blob, os.path.basename(bare_image_file_name)\n",
        "          except:\n",
        "            continue\n"
      ]
    },
    {
      "cell_type": "markdown",
      "metadata": {
        "id": "G4lVqS4YqYRW"
      },
      "source": [
        "## Storing files for yolo model\n",
        "- functions to unpack and store from parquet files"
      ]
    },
    {
      "cell_type": "markdown",
      "metadata": {
        "id": "hkq6ulNgZQpm"
      },
      "source": [
        "#### save path and create unique key function"
      ]
    },
    {
      "cell_type": "code",
      "execution_count": 17,
      "metadata": {
        "id": "GzLiKA0OY1ZF"
      },
      "outputs": [],
      "source": [
        "# creating a save path\n",
        "def create_path(file_id,store_type, images_labels = 'images'):\n",
        "  if store_type == 'train':\n",
        "    if images_labels == 'images':\n",
        "      return 'datasets/train/images/' +str(file_id) + '.jpg'\n",
        "    else:\n",
        "      return 'datasets/train/labels/' +str(file_id) + '.txt'\n",
        "\n",
        "  elif store_type == 'eval':\n",
        "    if images_labels == 'images':\n",
        "      return 'datasets/eval/images/' +str(file_id) + '.jpg'\n",
        "    else:\n",
        "      return 'datasets/eval/labels/' +str(file_id) + '.txt'\n",
        "  elif store_type == 'train':\n",
        "    if images_labels == 'images':\n",
        "      return 'datasets/train/images/' +str(file_id) + '.jpg'\n",
        "    else:\n",
        "      return 'datasets/train/labels/' +str(file_id) + '.txt'\n",
        "  else:\n",
        "    print('error type parameter: train / eval / test')\n",
        "\n",
        "# creating a key column\n",
        "def create_key_column(select_df):\n",
        "  return select_df['key.segment_context_name'].astype(str) +  select_df['key.frame_timestamp_micros'].astype(str) + select_df['key.camera_name'].astype(str)\n"
      ]
    },
    {
      "cell_type": "markdown",
      "metadata": {
        "id": "7_i3GODJY93L"
      },
      "source": [
        "#### unpacking, scaling, storing images and annotations seperately"
      ]
    },
    {
      "cell_type": "code",
      "execution_count": 18,
      "metadata": {
        "id": "g8iMbnDsY-UU"
      },
      "outputs": [],
      "source": [
        "# constructing and saving image to path we are\n",
        "# here we are checking the image size and resizing it to 640 x 640\n",
        "def build_save_image(byte_string,image_path):\n",
        "  image_bytes = io.BytesIO(byte_string)\n",
        "  image = Image.open(image_bytes)\n",
        "  original_image_size = image.size\n",
        "  if (original_image_size[0] %32 == 0) and (original_image_size[1] %32 == 0):\n",
        "    resized_image = image.resize((640,640))\n",
        "    resized_image.save(image_path)\n",
        "    return ('success', original_image_size)\n",
        "  else:\n",
        "    return 'fail'\n",
        "\n",
        "# building bounding box labels\n",
        "# here we are also scaling the bounding box positions to the new image of 640 x 640\n",
        "def build_save_labels(df,txt_file_path,image_size):\n",
        "  width, height = image_size\n",
        "  df.loc[:,'center_x'] = (df.loc[:,'[CameraBoxComponent].box.center.x'] * (640/width))/640\n",
        "  df.loc[:,'center_y'] = (df.loc[:,'[CameraBoxComponent].box.center.y'] * (640/height))/640\n",
        "  df.loc[:,'size_x'] = (df.loc[:,'[CameraBoxComponent].box.size.x'] * (640/width))/640\n",
        "  df.loc[:,'size_y'] = (df.loc[:,'[CameraBoxComponent].box.size.y'] * (640/height))/640\n",
        "\n",
        "  select_col_df = df[['[CameraBoxComponent].type','center_x','center_y','size_x','size_y']]\n",
        "  select_col_pd = select_col_df\n",
        "  select_col_pd.to_csv(txt_file_path, sep=' ', header=False, index=False)\n",
        "  return None\n",
        "\n"
      ]
    },
    {
      "cell_type": "code",
      "execution_count": 19,
      "metadata": {
        "id": "b7YA2v812Ghv"
      },
      "outputs": [],
      "source": [
        "# combining all functions above\n",
        "def unpack_store_images(image_parquet,box_parquet, store_type = 'train'):\n",
        "  file_path_store = []\n",
        "  image_df = pd.read_parquet(image_parquet)\n",
        "  box_df = pd.read_parquet(box_parquet)\n",
        "\n",
        "  image_df.loc[:,'key_column'] = create_key_column(image_df)\n",
        "  box_df.loc[:,'key_column'] = create_key_column(box_df)\n",
        "\n",
        "  commmon_key_list = list(set(box_df['key_column'].tolist()) & set(image_df['key_column'].tolist()))\n",
        "  id_iterator = 0\n",
        "  for common_key in tqdm(commmon_key_list):\n",
        "    key_loc_image = image_df.loc[image_df['key_column'] == common_key]\n",
        "    image_bytes = key_loc_image.reset_index().loc[0, '[CameraImageComponent].image']\n",
        "    image_path = create_path(id_iterator,store_type, images_labels = 'images')\n",
        "\n",
        "    key_loc_box = box_df.loc[box_df['key_column'] == common_key]\n",
        "    label_path = create_path(id_iterator,store_type, images_labels = 'text')\n",
        "\n",
        "    save_confirm = build_save_image(image_bytes,image_path)\n",
        "    if save_confirm[0] == 'success':\n",
        "      # lets now complete box\n",
        "\n",
        "      build_save_labels(key_loc_box,label_path,save_confirm[1])\n",
        "\n",
        "      #lets update accumulators\n",
        "      id_iterator +=1\n",
        "      file_path_store.append(image_path)\n",
        "      file_path_store.append(label_path)\n",
        "\n",
        "  return file_path_store"
      ]
    },
    {
      "cell_type": "markdown",
      "metadata": {
        "id": "bBH2p3xymiUk"
      },
      "source": [
        "## building model"
      ]
    },
    {
      "cell_type": "code",
      "execution_count": 20,
      "metadata": {
        "id": "5arGsX1wmqUJ"
      },
      "outputs": [],
      "source": [
        "def train_model(file_counter, prev_model_list):\n",
        "  if (file_counter == 0):\n",
        "    model_list = []\n",
        "    model_data_dict = {}\n",
        "    param_grid = {'data':['yolov8_waymo.yaml'], 'epochs' : [20],\n",
        "                  'device' : [0], 'patience' : [10],\n",
        "                  'workers' : [0],'batch': [64],\n",
        "                  'optimizer': ['SGD','Adamax'],\n",
        "                  'lr0': [0.01,0.05], 'lrf': [0.01,0.05],\n",
        "                  'momentum': [0.90,0.95], 'weight_decay': [0.0001,0.0005]}\n",
        "    grid_iterator = ParameterGrid(param_grid)\n",
        "    model_number = 0\n",
        "    for a_grid in grid_iterator:\n",
        "      model = YOLO('yolov8n.yaml')\n",
        "      model.train(data=a_grid['data'], epochs = a_grid['epochs'],device = a_grid['device'],\n",
        "                  patience = a_grid['patience'], workers = a_grid['workers'], batch = a_grid['batch'],\n",
        "                  optimizer = a_grid['optimizer'], lr0 = a_grid['lr0'],\n",
        "                  lrf = a_grid['lrf'], momentum = a_grid['momentum'], weight_decay = a_grid['weight_decay'])\n",
        "\n",
        "      model_path ='model_'+str(model_number) + '.pt'\n",
        "      model_data_dict={'parameters': a_grid,'model_path': model_path}\n",
        "\n",
        "      output_location = model.export()\n",
        "      updated_location = output_location.replace('torchscript','pt')\n",
        "      move_copy(updated_location, model_path)\n",
        "\n",
        "      model_list.append(model_data_dict)\n",
        "      model_number +=1\n",
        "\n",
        "    return model_list\n",
        "\n",
        "  else:\n",
        "      for a_model_dict in prev_model_list:\n",
        "        model = YOLO(a_model_dict['model_path'])\n",
        "        model.train(data=a_model_dict['parameters']['data'], epochs = a_model_dict['parameters']['epochs'],\n",
        "                    device = a_model_dict['parameters']['device'],patience = a_model_dict['parameters']['patience'],\n",
        "                    workers = a_model_dict['parameters']['workers'], batch = a_model_dict['parameters']['batch'],\n",
        "                    optimizer = a_model_dict['parameters']['optimizer'], lr0 = a_model_dict['parameters']['lr0'],\n",
        "                    lrf = a_model_dict['parameters']['lrf'], momentum = a_model_dict['parameters']['momentum'],\n",
        "                    weight_decay = a_model_dict['parameters']['weight_decay'])\n",
        "\n",
        "        output_location = model.export()\n",
        "        updated_location = output_location.replace('torchscript','pt')\n",
        "        delete_file([a_model_dict['model_path']])\n",
        "        move_copy(updated_location, a_model_dict['model_path'])\n",
        "      return prev_model_list\n"
      ]
    },
    {
      "cell_type": "markdown",
      "metadata": {
        "id": "lHpjdrljGkTj"
      },
      "source": [
        "## Creating validation data"
      ]
    },
    {
      "cell_type": "code",
      "execution_count": null,
      "metadata": {
        "colab": {
          "base_uri": "https://localhost:8080/",
          "height": 105,
          "referenced_widgets": [
            "4d2f343568844374af05bcfb05639a4a",
            "8299a919e75349519ba12e134e85c698",
            "4ec205f6648c40fba56f59b65d77ec2a",
            "1dd17957a8424b3f9e8ef8b5df9732f6",
            "ace0506d5c6545d09232c9c4dcb4ed5e",
            "1a6e9ee372ec4f11bbdef6cad254cdaa",
            "83aeb51fbcb34aceac696a2d54f471d6",
            "03c713fd9e91496fac3394130044516e",
            "98d1c725792740a8869cbebe73d52389",
            "1b3d209119604868893d9ba9214f6cf0",
            "6f83ea1a2d374e0fb6ae3870039f4efd"
          ]
        },
        "id": "QFtHGq_aGn_U",
        "outputId": "883a3de7-04f0-4ffb-9c79-1cd18218f22b"
      },
      "outputs": [],
      "source": [
        "# checking and then initiating GCS file download\n",
        "if file_store == 'GCS':\n",
        "  bucket, files_list = start_gcs()\n",
        "  gcs_iterator = open_gcs_file(files_list,bucket, storage_folder = 'validation')\n",
        "  file_counter = 0\n",
        "  train_file_path_list = []\n",
        "  for a_file in gcs_iterator:\n",
        "    # evaluation data\n",
        "    box_file_blob, box_file_name,bare_image_blob, bare_image_file_name = a_file\n",
        "\n",
        "    download_blob(box_file_blob,box_file_name)\n",
        "    new_box_file_name = 'box_file_'+ box_file_name\n",
        "    os.rename(box_file_name, new_box_file_name)\n",
        "\n",
        "    download_blob(bare_image_blob,bare_image_file_name)\n",
        "    new_image_file_name = 'image_file_'+ bare_image_file_name\n",
        "    os.rename(bare_image_file_name, new_image_file_name)\n",
        "\n",
        "    eval_file_path_list = unpack_store_images(new_image_file_name,new_box_file_name, store_type = 'eval')\n",
        "    delete_file([new_box_file_name,new_image_file_name])\n",
        "\n",
        "    print('completed_file_number: ',file_counter)\n",
        "    file_counter += 1\n",
        "    if (file_counter >= val_limit) and (val_limit != -1):\n",
        "      break\n",
        "\n",
        "elif file_store == 'LOCAL':\n",
        "    train_file_path_list = unpack_store_images(val_box_data_file_path,val_image_data_file_path, store_type = 'eval')\n",
        "else:\n",
        "  print('''check file_store variable, it should be in capital 'GCS' or 'LOCAL' ''')\n"
      ]
    },
    {
      "cell_type": "markdown",
      "metadata": {
        "id": "VphlxgrHyf4p"
      },
      "source": [
        "## Main run to create train data store and train different hyperparam models"
      ]
    },
    {
      "cell_type": "code",
      "execution_count": null,
      "metadata": {
        "id": "CePd2VYmgOxZ"
      },
      "outputs": [],
      "source": [
        "# checking and then initiating GCS file download\n",
        "if file_store == 'GCS':\n",
        "  bucket, files_list = start_gcs()\n",
        "  gcs_iterator = open_gcs_file(files_list,bucket, storage_folder = 'training')\n",
        "  file_counter = 0\n",
        "  model_list = []\n",
        "  train_file_path_list = []\n",
        "  for a_file in gcs_iterator:\n",
        "    # train data\n",
        "      box_file_blob, box_file_name,bare_image_blob, bare_image_file_name = a_file\n",
        "\n",
        "      download_blob(box_file_blob,box_file_name)\n",
        "      new_box_file_name = 'box_file_'+ box_file_name\n",
        "      os.rename(box_file_name, new_box_file_name)\n",
        "\n",
        "      download_blob(bare_image_blob,bare_image_file_name)\n",
        "      new_image_file_name = 'image_file_'+ bare_image_file_name\n",
        "      os.rename(bare_image_file_name, new_image_file_name)\n",
        "\n",
        "      train_file_path_list = unpack_store_images(new_image_file_name,new_box_file_name, store_type = 'train')\n",
        "      model_list = train_model(file_counter, model_list)\n",
        "      print('completed_file_number: ',file_counter)\n",
        "      file_counter += 1\n",
        "\n",
        "      delete_file([new_box_file_name,new_image_file_name]+train_file_path_list)\n",
        "      if (file_counter >= train_limit) and (train_limit != -1):\n",
        "        break\n",
        "\n",
        "elif file_store == 'LOCAL':\n",
        "    file_counter = 0\n",
        "    model_list = []\n",
        "    train_file_path_list = unpack_store_images(train_box_data_file_path,train_image_data_file_path, store_type = 'train')\n",
        "    model_list = train_model(file_counter, model_list)\n",
        "    delete_file([train_box_data_file_path,train_image_data_file_path]+train_file_path_list)\n",
        "else:\n",
        "  print('''check file_store variable, it should be in capital 'GCS' or 'LOCAL' ''')\n"
      ]
    },
    {
      "cell_type": "markdown",
      "metadata": {
        "id": "Ou4B6On87oTr"
      },
      "source": [
        "## Model evaluation and comparison"
      ]
    },
    {
      "cell_type": "code",
      "execution_count": null,
      "metadata": {
        "id": "hElcLbaZ7z_s"
      },
      "outputs": [],
      "source": [
        "# lets get evaluation metrics in our dicts\n",
        "parameter_dict_list =[]\n",
        "for model_dict in model_list:\n",
        "  model = YOLO(model_dict['model_path'])\n",
        "  metrics = model.val(batch = 64, device\t= 'cpu')\n",
        "  map_50_95 = metrics.box.map\n",
        "  model_dict['parameters']['map_50_95'] = map_50_95\n",
        "  parameter_dict_list.append(model_dict['parameters'])"
      ]
    },
    {
      "cell_type": "code",
      "execution_count": null,
      "metadata": {
        "id": "am6BwYV_Cudn"
      },
      "outputs": [],
      "source": [
        "# let's create a model performance dataframe\n",
        "model_eval_df = pd.DataFrame(parameter_dict_list)\n",
        "dropped_df = model_eval_df.drop(['data','device','patience','workers'],axis = 1)\n",
        "dropped_df.to_csv('yolo_hyperparameter_evaluation.csv', index=False)\n",
        "dropped_df['lr0:lrf'] = dropped_df['lr0'].astype(str) + ' : '+ dropped_df['lrf'].astype(str)\n"
      ]
    },
    {
      "cell_type": "code",
      "execution_count": 83,
      "metadata": {
        "colab": {
          "base_uri": "https://localhost:8080/",
          "height": 836
        },
        "id": "Ras3nF1MJC1T",
        "outputId": "ea1470d4-3e03-4928-b34f-ba56fb40f555"
      },
      "outputs": [
        {
          "data": {
            "text/html": [
              "\n",
              "<div id=\"altair-viz-1787d3306bf244f8a784fd1c609a4705\"></div>\n",
              "<script type=\"text/javascript\">\n",
              "  var VEGA_DEBUG = (typeof VEGA_DEBUG == \"undefined\") ? {} : VEGA_DEBUG;\n",
              "  (function(spec, embedOpt){\n",
              "    let outputDiv = document.currentScript.previousElementSibling;\n",
              "    if (outputDiv.id !== \"altair-viz-1787d3306bf244f8a784fd1c609a4705\") {\n",
              "      outputDiv = document.getElementById(\"altair-viz-1787d3306bf244f8a784fd1c609a4705\");\n",
              "    }\n",
              "    const paths = {\n",
              "      \"vega\": \"https://cdn.jsdelivr.net/npm//vega@5?noext\",\n",
              "      \"vega-lib\": \"https://cdn.jsdelivr.net/npm//vega-lib?noext\",\n",
              "      \"vega-lite\": \"https://cdn.jsdelivr.net/npm//vega-lite@4.17.0?noext\",\n",
              "      \"vega-embed\": \"https://cdn.jsdelivr.net/npm//vega-embed@6?noext\",\n",
              "    };\n",
              "\n",
              "    function maybeLoadScript(lib, version) {\n",
              "      var key = `${lib.replace(\"-\", \"\")}_version`;\n",
              "      return (VEGA_DEBUG[key] == version) ?\n",
              "        Promise.resolve(paths[lib]) :\n",
              "        new Promise(function(resolve, reject) {\n",
              "          var s = document.createElement('script');\n",
              "          document.getElementsByTagName(\"head\")[0].appendChild(s);\n",
              "          s.async = true;\n",
              "          s.onload = () => {\n",
              "            VEGA_DEBUG[key] = version;\n",
              "            return resolve(paths[lib]);\n",
              "          };\n",
              "          s.onerror = () => reject(`Error loading script: ${paths[lib]}`);\n",
              "          s.src = paths[lib];\n",
              "        });\n",
              "    }\n",
              "\n",
              "    function showError(err) {\n",
              "      outputDiv.innerHTML = `<div class=\"error\" style=\"color:red;\">${err}</div>`;\n",
              "      throw err;\n",
              "    }\n",
              "\n",
              "    function displayChart(vegaEmbed) {\n",
              "      vegaEmbed(outputDiv, spec, embedOpt)\n",
              "        .catch(err => showError(`Javascript Error: ${err.message}<br>This usually means there's a typo in your chart specification. See the javascript console for the full traceback.`));\n",
              "    }\n",
              "\n",
              "    if(typeof define === \"function\" && define.amd) {\n",
              "      requirejs.config({paths});\n",
              "      require([\"vega-embed\"], displayChart, err => showError(`Error loading script: ${err.message}`));\n",
              "    } else {\n",
              "      maybeLoadScript(\"vega\", \"5\")\n",
              "        .then(() => maybeLoadScript(\"vega-lite\", \"4.17.0\"))\n",
              "        .then(() => maybeLoadScript(\"vega-embed\", \"6\"))\n",
              "        .catch(showError)\n",
              "        .then(() => displayChart(vegaEmbed));\n",
              "    }\n",
              "  })({\"config\": {\"view\": {\"continuousWidth\": 400, \"continuousHeight\": 300, \"stroke\": null}, \"axis\": {\"ticks\": false}, \"axisY\": {\"titleAnchor\": \"start\", \"titleAngle\": 0}}, \"vconcat\": [{\"mark\": {\"type\": \"tick\", \"size\": 25, \"thickness\": 3}, \"encoding\": {\"color\": {\"field\": \"optimizer\", \"legend\": {\"title\": \"Optimizer function\"}, \"type\": \"nominal\"}, \"x\": {\"field\": \"map_50_95\", \"title\": \"mean_average_percision (50:95)\", \"type\": \"quantitative\"}, \"y\": {\"field\": \"lr0:lrf\", \"title\": \"start : end (learning rate)\", \"type\": \"nominal\"}}, \"height\": 200, \"title\": \"Impact of learning rate on yolo model performance\", \"width\": 600}, {\"mark\": {\"type\": \"tick\", \"size\": 25, \"thickness\": 3}, \"encoding\": {\"color\": {\"field\": \"optimizer\", \"legend\": null, \"type\": \"nominal\"}, \"x\": {\"field\": \"map_50_95\", \"title\": \"mean_average_percision (50:95)\", \"type\": \"quantitative\"}, \"y\": {\"field\": \"momentum\", \"title\": \"momentum\", \"type\": \"nominal\"}}, \"height\": 200, \"title\": \"Impact of momentum on yolo model performance\", \"width\": 600}, {\"mark\": {\"type\": \"tick\", \"size\": 25, \"thickness\": 3}, \"encoding\": {\"color\": {\"field\": \"optimizer\", \"legend\": null, \"type\": \"nominal\"}, \"x\": {\"field\": \"map_50_95\", \"title\": \"mean_average_percision (50:95)\", \"type\": \"quantitative\"}, \"y\": {\"field\": \"weight_decay\", \"title\": \"weight_decay\", \"type\": \"nominal\"}}, \"height\": 200, \"title\": \"Impact of weight decay on yolo model performance\", \"width\": 600}], \"data\": {\"name\": \"data-455a20488774ed55c66e7e50af9c1311\"}, \"$schema\": \"https://vega.github.io/schema/vega-lite/v4.17.0.json\", \"datasets\": {\"data-455a20488774ed55c66e7e50af9c1311\": [{\"batch\": 64, \"epochs\": 20, \"lr0\": 0.01, \"lrf\": 0.01, \"momentum\": 0.9, \"optimizer\": \"SGD\", \"weight_decay\": 0.0001, \"map_50_95\": 0.0025351325359895, \"lr0:lrf\": \"0.01 : 0.01\"}, {\"batch\": 64, \"epochs\": 20, \"lr0\": 0.01, \"lrf\": 0.01, \"momentum\": 0.9, \"optimizer\": \"SGD\", \"weight_decay\": 0.0005, \"map_50_95\": 0.0024145614504163, \"lr0:lrf\": \"0.01 : 0.01\"}, {\"batch\": 64, \"epochs\": 20, \"lr0\": 0.01, \"lrf\": 0.01, \"momentum\": 0.9, \"optimizer\": \"Adamax\", \"weight_decay\": 0.0001, \"map_50_95\": 0.0079872616019802, \"lr0:lrf\": \"0.01 : 0.01\"}, {\"batch\": 64, \"epochs\": 20, \"lr0\": 0.01, \"lrf\": 0.01, \"momentum\": 0.9, \"optimizer\": \"Adamax\", \"weight_decay\": 0.0005, \"map_50_95\": 0.0064847953300419, \"lr0:lrf\": \"0.01 : 0.01\"}, {\"batch\": 64, \"epochs\": 20, \"lr0\": 0.01, \"lrf\": 0.01, \"momentum\": 0.95, \"optimizer\": \"SGD\", \"weight_decay\": 0.0001, \"map_50_95\": 0.0024518275258813, \"lr0:lrf\": \"0.01 : 0.01\"}, {\"batch\": 64, \"epochs\": 20, \"lr0\": 0.01, \"lrf\": 0.01, \"momentum\": 0.95, \"optimizer\": \"SGD\", \"weight_decay\": 0.0005, \"map_50_95\": 0.0031559376407862, \"lr0:lrf\": \"0.01 : 0.01\"}, {\"batch\": 64, \"epochs\": 20, \"lr0\": 0.01, \"lrf\": 0.01, \"momentum\": 0.95, \"optimizer\": \"Adamax\", \"weight_decay\": 0.0001, \"map_50_95\": 0.0038134302767985, \"lr0:lrf\": \"0.01 : 0.01\"}, {\"batch\": 64, \"epochs\": 20, \"lr0\": 0.01, \"lrf\": 0.01, \"momentum\": 0.95, \"optimizer\": \"Adamax\", \"weight_decay\": 0.0005, \"map_50_95\": 0.0082752780192372, \"lr0:lrf\": \"0.01 : 0.01\"}, {\"batch\": 64, \"epochs\": 20, \"lr0\": 0.01, \"lrf\": 0.05, \"momentum\": 0.9, \"optimizer\": \"SGD\", \"weight_decay\": 0.0001, \"map_50_95\": 0.0024181561425424, \"lr0:lrf\": \"0.01 : 0.05\"}, {\"batch\": 64, \"epochs\": 20, \"lr0\": 0.01, \"lrf\": 0.05, \"momentum\": 0.9, \"optimizer\": \"SGD\", \"weight_decay\": 0.0005, \"map_50_95\": 0.003036437785226, \"lr0:lrf\": \"0.01 : 0.05\"}, {\"batch\": 64, \"epochs\": 20, \"lr0\": 0.01, \"lrf\": 0.05, \"momentum\": 0.9, \"optimizer\": \"Adamax\", \"weight_decay\": 0.0001, \"map_50_95\": 0.0057986431546112, \"lr0:lrf\": \"0.01 : 0.05\"}, {\"batch\": 64, \"epochs\": 20, \"lr0\": 0.01, \"lrf\": 0.05, \"momentum\": 0.9, \"optimizer\": \"Adamax\", \"weight_decay\": 0.0005, \"map_50_95\": 0.0097912052850018, \"lr0:lrf\": \"0.01 : 0.05\"}, {\"batch\": 64, \"epochs\": 20, \"lr0\": 0.01, \"lrf\": 0.05, \"momentum\": 0.95, \"optimizer\": \"SGD\", \"weight_decay\": 0.0001, \"map_50_95\": 0.003061267758536, \"lr0:lrf\": \"0.01 : 0.05\"}, {\"batch\": 64, \"epochs\": 20, \"lr0\": 0.01, \"lrf\": 0.05, \"momentum\": 0.95, \"optimizer\": \"SGD\", \"weight_decay\": 0.0005, \"map_50_95\": 0.0027737031850958, \"lr0:lrf\": \"0.01 : 0.05\"}, {\"batch\": 64, \"epochs\": 20, \"lr0\": 0.01, \"lrf\": 0.05, \"momentum\": 0.95, \"optimizer\": \"Adamax\", \"weight_decay\": 0.0001, \"map_50_95\": 0.0043567444617262, \"lr0:lrf\": \"0.01 : 0.05\"}, {\"batch\": 64, \"epochs\": 20, \"lr0\": 0.01, \"lrf\": 0.05, \"momentum\": 0.95, \"optimizer\": \"Adamax\", \"weight_decay\": 0.0005, \"map_50_95\": 0.0063856838637932, \"lr0:lrf\": \"0.01 : 0.05\"}, {\"batch\": 64, \"epochs\": 20, \"lr0\": 0.05, \"lrf\": 0.01, \"momentum\": 0.9, \"optimizer\": \"SGD\", \"weight_decay\": 0.0001, \"map_50_95\": 0.0043356474212288, \"lr0:lrf\": \"0.05 : 0.01\"}, {\"batch\": 64, \"epochs\": 20, \"lr0\": 0.05, \"lrf\": 0.01, \"momentum\": 0.9, \"optimizer\": \"SGD\", \"weight_decay\": 0.0005, \"map_50_95\": 0.0052158039383205, \"lr0:lrf\": \"0.05 : 0.01\"}, {\"batch\": 64, \"epochs\": 20, \"lr0\": 0.05, \"lrf\": 0.01, \"momentum\": 0.9, \"optimizer\": \"Adamax\", \"weight_decay\": 0.0001, \"map_50_95\": 0.0030335253154217, \"lr0:lrf\": \"0.05 : 0.01\"}, {\"batch\": 64, \"epochs\": 20, \"lr0\": 0.05, \"lrf\": 0.01, \"momentum\": 0.9, \"optimizer\": \"Adamax\", \"weight_decay\": 0.0005, \"map_50_95\": 0.0037546106608346, \"lr0:lrf\": \"0.05 : 0.01\"}, {\"batch\": 64, \"epochs\": 20, \"lr0\": 0.05, \"lrf\": 0.01, \"momentum\": 0.95, \"optimizer\": \"SGD\", \"weight_decay\": 0.0001, \"map_50_95\": 0.0111822476019015, \"lr0:lrf\": \"0.05 : 0.01\"}, {\"batch\": 64, \"epochs\": 20, \"lr0\": 0.05, \"lrf\": 0.01, \"momentum\": 0.95, \"optimizer\": \"SGD\", \"weight_decay\": 0.0005, \"map_50_95\": 0.0055019799706722, \"lr0:lrf\": \"0.05 : 0.01\"}, {\"batch\": 64, \"epochs\": 20, \"lr0\": 0.05, \"lrf\": 0.01, \"momentum\": 0.95, \"optimizer\": \"Adamax\", \"weight_decay\": 0.0001, \"map_50_95\": 0.0025511294011732, \"lr0:lrf\": \"0.05 : 0.01\"}, {\"batch\": 64, \"epochs\": 20, \"lr0\": 0.05, \"lrf\": 0.01, \"momentum\": 0.95, \"optimizer\": \"Adamax\", \"weight_decay\": 0.0005, \"map_50_95\": 0.0032577672283897, \"lr0:lrf\": \"0.05 : 0.01\"}, {\"batch\": 64, \"epochs\": 20, \"lr0\": 0.05, \"lrf\": 0.05, \"momentum\": 0.9, \"optimizer\": \"SGD\", \"weight_decay\": 0.0001, \"map_50_95\": 0.0034481939835411, \"lr0:lrf\": \"0.05 : 0.05\"}, {\"batch\": 64, \"epochs\": 20, \"lr0\": 0.05, \"lrf\": 0.05, \"momentum\": 0.9, \"optimizer\": \"SGD\", \"weight_decay\": 0.0005, \"map_50_95\": 0.0048226252458306, \"lr0:lrf\": \"0.05 : 0.05\"}, {\"batch\": 64, \"epochs\": 20, \"lr0\": 0.05, \"lrf\": 0.05, \"momentum\": 0.9, \"optimizer\": \"Adamax\", \"weight_decay\": 0.0001, \"map_50_95\": 0.003533957747442, \"lr0:lrf\": \"0.05 : 0.05\"}, {\"batch\": 64, \"epochs\": 20, \"lr0\": 0.05, \"lrf\": 0.05, \"momentum\": 0.9, \"optimizer\": \"Adamax\", \"weight_decay\": 0.0005, \"map_50_95\": 0.0031599023062989, \"lr0:lrf\": \"0.05 : 0.05\"}, {\"batch\": 64, \"epochs\": 20, \"lr0\": 0.05, \"lrf\": 0.05, \"momentum\": 0.95, \"optimizer\": \"SGD\", \"weight_decay\": 0.0001, \"map_50_95\": 0.0134190986036897, \"lr0:lrf\": \"0.05 : 0.05\"}, {\"batch\": 64, \"epochs\": 20, \"lr0\": 0.05, \"lrf\": 0.05, \"momentum\": 0.95, \"optimizer\": \"SGD\", \"weight_decay\": 0.0005, \"map_50_95\": 0.0049785018239168, \"lr0:lrf\": \"0.05 : 0.05\"}, {\"batch\": 64, \"epochs\": 20, \"lr0\": 0.05, \"lrf\": 0.05, \"momentum\": 0.95, \"optimizer\": \"Adamax\", \"weight_decay\": 0.0001, \"map_50_95\": 0.0030392019416289, \"lr0:lrf\": \"0.05 : 0.05\"}, {\"batch\": 64, \"epochs\": 20, \"lr0\": 0.05, \"lrf\": 0.05, \"momentum\": 0.95, \"optimizer\": \"Adamax\", \"weight_decay\": 0.0005, \"map_50_95\": 0.0039469095880451, \"lr0:lrf\": \"0.05 : 0.05\"}]}}, {\"mode\": \"vega-lite\"});\n",
              "</script>"
            ],
            "text/plain": [
              "alt.VConcatChart(...)"
            ]
          },
          "execution_count": 83,
          "metadata": {},
          "output_type": "execute_result"
        }
      ],
      "source": [
        "# let's create a plot\n",
        "\n",
        "learning_rate_chart = alt.Chart(dropped_df).mark_tick(size = 25, thickness =3).encode(\n",
        "    x= alt.X('map_50_95:Q',title = 'mean_average_percision (50:95)' ),\n",
        "    y= alt.X('lr0:lrf:N',title = 'start : end (learning rate)' ),\n",
        "    color=alt.Color(\"optimizer:N\",legend=alt.Legend(title=\"Optimizer function\"))\n",
        ").properties(title='Impact of learning rate on yolo model performance', width=600,height=200\n",
        ")\n",
        "\n",
        "momentum = alt.Chart(dropped_df).mark_tick(size = 25, thickness =3).encode(\n",
        "    x= alt.X('map_50_95:Q',title = 'mean_average_percision (50:95)' ),\n",
        "    y= alt.X('momentum:N',title = 'momentum' ),\n",
        "    color=alt.Color(\"optimizer:N\",legend=None)\n",
        ").properties(title='Impact of momentum on yolo model performance', width=600,height=200 )\n",
        "\n",
        "weight_decay = alt.Chart(dropped_df).mark_tick(size = 25, thickness =3).encode(\n",
        "    x= alt.X('map_50_95:Q',title = 'mean_average_percision (50:95)' ),\n",
        "    y= alt.X('weight_decay:N',title = 'weight_decay' ),\n",
        "    color=alt.Color(\"optimizer:N\",legend=None)\n",
        ").properties(title='Impact of weight decay on yolo model performance', width=600,height=200 )\n",
        "\n",
        "evaluation_chart = (learning_rate_chart & momentum & weight_decay).configure_axisY(titleAngle=0, titleAnchor='start').configure_axis(ticks=False\n",
        ").configure_view(stroke=None)\n",
        "\n",
        "evaluation_chart"
      ]
    },
    {
      "cell_type": "markdown",
      "metadata": {
        "id": "0UD7bqZ7bj-Z"
      },
      "source": [
        "## Selected Model Train\n",
        "- here we only train one model, based on the top. parameters identified above"
      ]
    },
    {
      "cell_type": "code",
      "execution_count": 89,
      "metadata": {
        "id": "eGb3EWdIbmJ3"
      },
      "outputs": [],
      "source": [
        "def updated_train_model(file_counter, prev_model_list):\n",
        "  if (file_counter == 0):\n",
        "    model_list = []\n",
        "    model_data_dict = {}\n",
        "    param_grid = {'data':['yolov8_waymo.yaml'], 'epochs' : [20],\n",
        "                  'device' : [0], 'patience' : [10],\n",
        "                  'workers' : [0],'batch': [64],\n",
        "                  'optimizer': ['SGD'],\n",
        "                  'lr0': [0.05], 'lrf': [0.05],\n",
        "                  'momentum': [0.95], 'weight_decay': [0.0001], 'pretrained' : [True]}\n",
        "    grid_iterator = ParameterGrid(param_grid)\n",
        "    model_number = 0\n",
        "    for a_grid in grid_iterator:\n",
        "      model = YOLO('yolov8n.yaml')\n",
        "      model.train(data=a_grid['data'], epochs = a_grid['epochs'],device = a_grid['device'],\n",
        "                  patience = a_grid['patience'], workers = a_grid['workers'], batch = a_grid['batch'],\n",
        "                  optimizer = a_grid['optimizer'], lr0 = a_grid['lr0'], pretrained = a_grid['pretrained'],\n",
        "                  lrf = a_grid['lrf'], momentum = a_grid['momentum'], weight_decay = a_grid['weight_decay'])\n",
        "\n",
        "      model_path ='final_model' + '.pt'\n",
        "      model_data_dict={'parameters': a_grid,'model_path': model_path}\n",
        "\n",
        "      output_location = model.export()\n",
        "      updated_location = output_location.replace('torchscript','pt')\n",
        "      move_copy(updated_location, model_path)\n",
        "\n",
        "      model_list.append(model_data_dict)\n",
        "      model_number +=1\n",
        "\n",
        "    return model_list\n",
        "\n",
        "  else:\n",
        "      for a_model_dict in prev_model_list:\n",
        "        model = YOLO(a_model_dict['model_path'])\n",
        "        model.train(data=a_model_dict['parameters']['data'], epochs = a_model_dict['parameters']['epochs'],\n",
        "                    device = a_model_dict['parameters']['device'],patience = a_model_dict['parameters']['patience'],\n",
        "                    workers = a_model_dict['parameters']['workers'], batch = a_model_dict['parameters']['batch'],\n",
        "                    optimizer = a_model_dict['parameters']['optimizer'], lr0 = a_model_dict['parameters']['lr0'],\n",
        "                    lrf = a_model_dict['parameters']['lrf'], momentum = a_model_dict['parameters']['momentum'],\n",
        "                    weight_decay = a_model_dict['parameters']['weight_decay'])\n",
        "\n",
        "        output_location = model.export()\n",
        "        updated_location = output_location.replace('torchscript','pt')\n",
        "        delete_file([a_model_dict['model_path']])\n",
        "        move_copy(updated_location, a_model_dict['model_path'])\n",
        "      return prev_model_list\n"
      ]
    },
    {
      "cell_type": "code",
      "execution_count": null,
      "metadata": {
        "colab": {
          "base_uri": "https://localhost:8080/",
          "height": 1000,
          "referenced_widgets": [
            "d7778474bc8c452092df07b265cb6ba9",
            "61e78a9d37524fdbb8ad7d67aeba09b0",
            "aa7b7aaf12104d58986132f60a4ef9c1",
            "5f862e4582ce4e53baccb0bc46d8c742",
            "5d298cee574e4c16935eaa54401b4a97",
            "2a0ed7b82f9b4bf987934b797c5fc9a0",
            "eebeb4ed1784455ba2ad78ddad6d1c09",
            "7d8439511b4a4c988832f5f91f5e3e4d",
            "0e388e033bb545ba884234079731d7e5",
            "b12e5005ba92444e8e9a5af59a0ffced",
            "9ce62dd13d074393ac4ed9e4c348f572",
            "bfa7f2b948304973bbcb15881b39c6de",
            "a368e1570468464fa5d636410fd87b95",
            "45e2a4b6eb93411ea68214e33c8e1832",
            "08f7c1b2baa849c4ba40d345729ac368",
            "0b0e2d61e1c747128d346976726d8e86",
            "8c1232a03317417bac2b7dc649a951ea",
            "a0da873addc94a3896e70865eb80cbe8",
            "4e9e22cb00cc4985a30b3085ece35502",
            "2eaf3dde331c48d6876a79356476620f",
            "6c76242acfc042ef863c3a0286fd6f1c",
            "a330d5e3014145aca298ac29147a200f"
          ]
        },
        "collapsed": true,
        "id": "6-TrDvuddgni",
        "outputId": "49b81f37-6a26-4769-f2f1-f1ed4294f597"
      },
      "outputs": [],
      "source": [
        "# @title\n",
        "# checking and then initiating GCS file download\n",
        "if file_store == 'GCS':\n",
        "  bucket, files_list = start_gcs()\n",
        "  gcs_iterator = open_gcs_file(files_list,bucket, storage_folder = 'training')\n",
        "  file_counter = 0\n",
        "  model_list = []\n",
        "  train_file_path_list = []\n",
        "  for a_file in gcs_iterator:\n",
        "    # train data\n",
        "      box_file_blob, box_file_name,bare_image_blob, bare_image_file_name = a_file\n",
        "\n",
        "      download_blob(box_file_blob,box_file_name)\n",
        "      new_box_file_name = 'box_file_'+ box_file_name\n",
        "      os.rename(box_file_name, new_box_file_name)\n",
        "\n",
        "      download_blob(bare_image_blob,bare_image_file_name)\n",
        "      new_image_file_name = 'image_file_'+ bare_image_file_name\n",
        "      os.rename(bare_image_file_name, new_image_file_name)\n",
        "\n",
        "      train_file_path_list = unpack_store_images(new_image_file_name,new_box_file_name, store_type = 'train')\n",
        "      model_list = updated_train_model(file_counter, model_list)\n",
        "      print('completed_file_number: ',file_counter)\n",
        "      file_counter += 1\n",
        "\n",
        "      delete_file([new_box_file_name,new_image_file_name]+train_file_path_list)\n",
        "      if (file_counter >= final_model_train_limit) and (final_model_train_limit != -1):\n",
        "        break\n",
        "\n",
        "elif file_store == 'LOCAL':\n",
        "    file_counter = 0\n",
        "    model_list = []\n",
        "    train_file_path_list = unpack_store_images(train_box_data_file_path,train_image_data_file_path, store_type = 'train')\n",
        "    model_list = train_model(file_counter, model_list)\n",
        "    delete_file([train_box_data_file_path,train_image_data_file_path]+train_file_path_list)\n",
        "else:\n",
        "  print('''check file_store variable, it should be in capital 'GCS' or 'LOCAL' ''')\n"
      ]
    }
  ],
  "metadata": {
    "colab": {
      "collapsed_sections": [
        "4TZffgE6--bq",
        "QGybKhahuvLH",
        "JwM9qp-8tTl0",
        "XUrapc9XePXh",
        "sbHvg1owuqr6"
      ],
      "provenance": []
    },
    "kernelspec": {
      "display_name": "Python 3",
      "name": "python3"
    },
    "language_info": {
      "name": "python"
    },
    "widgets": {
      "application/vnd.jupyter.widget-state+json": {
        "03c713fd9e91496fac3394130044516e": {
          "model_module": "@jupyter-widgets/base",
          "model_module_version": "1.2.0",
          "model_name": "LayoutModel",
          "state": {
            "_model_module": "@jupyter-widgets/base",
            "_model_module_version": "1.2.0",
            "_model_name": "LayoutModel",
            "_view_count": null,
            "_view_module": "@jupyter-widgets/base",
            "_view_module_version": "1.2.0",
            "_view_name": "LayoutView",
            "align_content": null,
            "align_items": null,
            "align_self": null,
            "border": null,
            "bottom": null,
            "display": null,
            "flex": null,
            "flex_flow": null,
            "grid_area": null,
            "grid_auto_columns": null,
            "grid_auto_flow": null,
            "grid_auto_rows": null,
            "grid_column": null,
            "grid_gap": null,
            "grid_row": null,
            "grid_template_areas": null,
            "grid_template_columns": null,
            "grid_template_rows": null,
            "height": null,
            "justify_content": null,
            "justify_items": null,
            "left": null,
            "margin": null,
            "max_height": null,
            "max_width": null,
            "min_height": null,
            "min_width": null,
            "object_fit": null,
            "object_position": null,
            "order": null,
            "overflow": null,
            "overflow_x": null,
            "overflow_y": null,
            "padding": null,
            "right": null,
            "top": null,
            "visibility": null,
            "width": null
          }
        },
        "08f7c1b2baa849c4ba40d345729ac368": {
          "model_module": "@jupyter-widgets/controls",
          "model_module_version": "1.5.0",
          "model_name": "HTMLModel",
          "state": {
            "_dom_classes": [],
            "_model_module": "@jupyter-widgets/controls",
            "_model_module_version": "1.5.0",
            "_model_name": "HTMLModel",
            "_view_count": null,
            "_view_module": "@jupyter-widgets/controls",
            "_view_module_version": "1.5.0",
            "_view_name": "HTMLView",
            "description": "",
            "description_tooltip": null,
            "layout": "IPY_MODEL_6c76242acfc042ef863c3a0286fd6f1c",
            "placeholder": "​",
            "style": "IPY_MODEL_a330d5e3014145aca298ac29147a200f",
            "value": " 979/979 [00:28&lt;00:00, 30.60it/s]"
          }
        },
        "0b0e2d61e1c747128d346976726d8e86": {
          "model_module": "@jupyter-widgets/base",
          "model_module_version": "1.2.0",
          "model_name": "LayoutModel",
          "state": {
            "_model_module": "@jupyter-widgets/base",
            "_model_module_version": "1.2.0",
            "_model_name": "LayoutModel",
            "_view_count": null,
            "_view_module": "@jupyter-widgets/base",
            "_view_module_version": "1.2.0",
            "_view_name": "LayoutView",
            "align_content": null,
            "align_items": null,
            "align_self": null,
            "border": null,
            "bottom": null,
            "display": null,
            "flex": null,
            "flex_flow": null,
            "grid_area": null,
            "grid_auto_columns": null,
            "grid_auto_flow": null,
            "grid_auto_rows": null,
            "grid_column": null,
            "grid_gap": null,
            "grid_row": null,
            "grid_template_areas": null,
            "grid_template_columns": null,
            "grid_template_rows": null,
            "height": null,
            "justify_content": null,
            "justify_items": null,
            "left": null,
            "margin": null,
            "max_height": null,
            "max_width": null,
            "min_height": null,
            "min_width": null,
            "object_fit": null,
            "object_position": null,
            "order": null,
            "overflow": null,
            "overflow_x": null,
            "overflow_y": null,
            "padding": null,
            "right": null,
            "top": null,
            "visibility": null,
            "width": null
          }
        },
        "0e388e033bb545ba884234079731d7e5": {
          "model_module": "@jupyter-widgets/controls",
          "model_module_version": "1.5.0",
          "model_name": "ProgressStyleModel",
          "state": {
            "_model_module": "@jupyter-widgets/controls",
            "_model_module_version": "1.5.0",
            "_model_name": "ProgressStyleModel",
            "_view_count": null,
            "_view_module": "@jupyter-widgets/base",
            "_view_module_version": "1.2.0",
            "_view_name": "StyleView",
            "bar_color": null,
            "description_width": ""
          }
        },
        "1a6e9ee372ec4f11bbdef6cad254cdaa": {
          "model_module": "@jupyter-widgets/base",
          "model_module_version": "1.2.0",
          "model_name": "LayoutModel",
          "state": {
            "_model_module": "@jupyter-widgets/base",
            "_model_module_version": "1.2.0",
            "_model_name": "LayoutModel",
            "_view_count": null,
            "_view_module": "@jupyter-widgets/base",
            "_view_module_version": "1.2.0",
            "_view_name": "LayoutView",
            "align_content": null,
            "align_items": null,
            "align_self": null,
            "border": null,
            "bottom": null,
            "display": null,
            "flex": null,
            "flex_flow": null,
            "grid_area": null,
            "grid_auto_columns": null,
            "grid_auto_flow": null,
            "grid_auto_rows": null,
            "grid_column": null,
            "grid_gap": null,
            "grid_row": null,
            "grid_template_areas": null,
            "grid_template_columns": null,
            "grid_template_rows": null,
            "height": null,
            "justify_content": null,
            "justify_items": null,
            "left": null,
            "margin": null,
            "max_height": null,
            "max_width": null,
            "min_height": null,
            "min_width": null,
            "object_fit": null,
            "object_position": null,
            "order": null,
            "overflow": null,
            "overflow_x": null,
            "overflow_y": null,
            "padding": null,
            "right": null,
            "top": null,
            "visibility": null,
            "width": null
          }
        },
        "1b3d209119604868893d9ba9214f6cf0": {
          "model_module": "@jupyter-widgets/base",
          "model_module_version": "1.2.0",
          "model_name": "LayoutModel",
          "state": {
            "_model_module": "@jupyter-widgets/base",
            "_model_module_version": "1.2.0",
            "_model_name": "LayoutModel",
            "_view_count": null,
            "_view_module": "@jupyter-widgets/base",
            "_view_module_version": "1.2.0",
            "_view_name": "LayoutView",
            "align_content": null,
            "align_items": null,
            "align_self": null,
            "border": null,
            "bottom": null,
            "display": null,
            "flex": null,
            "flex_flow": null,
            "grid_area": null,
            "grid_auto_columns": null,
            "grid_auto_flow": null,
            "grid_auto_rows": null,
            "grid_column": null,
            "grid_gap": null,
            "grid_row": null,
            "grid_template_areas": null,
            "grid_template_columns": null,
            "grid_template_rows": null,
            "height": null,
            "justify_content": null,
            "justify_items": null,
            "left": null,
            "margin": null,
            "max_height": null,
            "max_width": null,
            "min_height": null,
            "min_width": null,
            "object_fit": null,
            "object_position": null,
            "order": null,
            "overflow": null,
            "overflow_x": null,
            "overflow_y": null,
            "padding": null,
            "right": null,
            "top": null,
            "visibility": null,
            "width": null
          }
        },
        "1dd17957a8424b3f9e8ef8b5df9732f6": {
          "model_module": "@jupyter-widgets/controls",
          "model_module_version": "1.5.0",
          "model_name": "HTMLModel",
          "state": {
            "_dom_classes": [],
            "_model_module": "@jupyter-widgets/controls",
            "_model_module_version": "1.5.0",
            "_model_name": "HTMLModel",
            "_view_count": null,
            "_view_module": "@jupyter-widgets/controls",
            "_view_module_version": "1.5.0",
            "_view_name": "HTMLView",
            "description": "",
            "description_tooltip": null,
            "layout": "IPY_MODEL_1b3d209119604868893d9ba9214f6cf0",
            "placeholder": "​",
            "style": "IPY_MODEL_6f83ea1a2d374e0fb6ae3870039f4efd",
            "value": " 959/959 [00:27&lt;00:00, 31.98it/s]"
          }
        },
        "2a0ed7b82f9b4bf987934b797c5fc9a0": {
          "model_module": "@jupyter-widgets/base",
          "model_module_version": "1.2.0",
          "model_name": "LayoutModel",
          "state": {
            "_model_module": "@jupyter-widgets/base",
            "_model_module_version": "1.2.0",
            "_model_name": "LayoutModel",
            "_view_count": null,
            "_view_module": "@jupyter-widgets/base",
            "_view_module_version": "1.2.0",
            "_view_name": "LayoutView",
            "align_content": null,
            "align_items": null,
            "align_self": null,
            "border": null,
            "bottom": null,
            "display": null,
            "flex": null,
            "flex_flow": null,
            "grid_area": null,
            "grid_auto_columns": null,
            "grid_auto_flow": null,
            "grid_auto_rows": null,
            "grid_column": null,
            "grid_gap": null,
            "grid_row": null,
            "grid_template_areas": null,
            "grid_template_columns": null,
            "grid_template_rows": null,
            "height": null,
            "justify_content": null,
            "justify_items": null,
            "left": null,
            "margin": null,
            "max_height": null,
            "max_width": null,
            "min_height": null,
            "min_width": null,
            "object_fit": null,
            "object_position": null,
            "order": null,
            "overflow": null,
            "overflow_x": null,
            "overflow_y": null,
            "padding": null,
            "right": null,
            "top": null,
            "visibility": null,
            "width": null
          }
        },
        "2eaf3dde331c48d6876a79356476620f": {
          "model_module": "@jupyter-widgets/controls",
          "model_module_version": "1.5.0",
          "model_name": "ProgressStyleModel",
          "state": {
            "_model_module": "@jupyter-widgets/controls",
            "_model_module_version": "1.5.0",
            "_model_name": "ProgressStyleModel",
            "_view_count": null,
            "_view_module": "@jupyter-widgets/base",
            "_view_module_version": "1.2.0",
            "_view_name": "StyleView",
            "bar_color": null,
            "description_width": ""
          }
        },
        "45e2a4b6eb93411ea68214e33c8e1832": {
          "model_module": "@jupyter-widgets/controls",
          "model_module_version": "1.5.0",
          "model_name": "FloatProgressModel",
          "state": {
            "_dom_classes": [],
            "_model_module": "@jupyter-widgets/controls",
            "_model_module_version": "1.5.0",
            "_model_name": "FloatProgressModel",
            "_view_count": null,
            "_view_module": "@jupyter-widgets/controls",
            "_view_module_version": "1.5.0",
            "_view_name": "ProgressView",
            "bar_style": "success",
            "description": "",
            "description_tooltip": null,
            "layout": "IPY_MODEL_4e9e22cb00cc4985a30b3085ece35502",
            "max": 979,
            "min": 0,
            "orientation": "horizontal",
            "style": "IPY_MODEL_2eaf3dde331c48d6876a79356476620f",
            "value": 979
          }
        },
        "4d2f343568844374af05bcfb05639a4a": {
          "model_module": "@jupyter-widgets/controls",
          "model_module_version": "1.5.0",
          "model_name": "HBoxModel",
          "state": {
            "_dom_classes": [],
            "_model_module": "@jupyter-widgets/controls",
            "_model_module_version": "1.5.0",
            "_model_name": "HBoxModel",
            "_view_count": null,
            "_view_module": "@jupyter-widgets/controls",
            "_view_module_version": "1.5.0",
            "_view_name": "HBoxView",
            "box_style": "",
            "children": [
              "IPY_MODEL_8299a919e75349519ba12e134e85c698",
              "IPY_MODEL_4ec205f6648c40fba56f59b65d77ec2a",
              "IPY_MODEL_1dd17957a8424b3f9e8ef8b5df9732f6"
            ],
            "layout": "IPY_MODEL_ace0506d5c6545d09232c9c4dcb4ed5e"
          }
        },
        "4e9e22cb00cc4985a30b3085ece35502": {
          "model_module": "@jupyter-widgets/base",
          "model_module_version": "1.2.0",
          "model_name": "LayoutModel",
          "state": {
            "_model_module": "@jupyter-widgets/base",
            "_model_module_version": "1.2.0",
            "_model_name": "LayoutModel",
            "_view_count": null,
            "_view_module": "@jupyter-widgets/base",
            "_view_module_version": "1.2.0",
            "_view_name": "LayoutView",
            "align_content": null,
            "align_items": null,
            "align_self": null,
            "border": null,
            "bottom": null,
            "display": null,
            "flex": null,
            "flex_flow": null,
            "grid_area": null,
            "grid_auto_columns": null,
            "grid_auto_flow": null,
            "grid_auto_rows": null,
            "grid_column": null,
            "grid_gap": null,
            "grid_row": null,
            "grid_template_areas": null,
            "grid_template_columns": null,
            "grid_template_rows": null,
            "height": null,
            "justify_content": null,
            "justify_items": null,
            "left": null,
            "margin": null,
            "max_height": null,
            "max_width": null,
            "min_height": null,
            "min_width": null,
            "object_fit": null,
            "object_position": null,
            "order": null,
            "overflow": null,
            "overflow_x": null,
            "overflow_y": null,
            "padding": null,
            "right": null,
            "top": null,
            "visibility": null,
            "width": null
          }
        },
        "4ec205f6648c40fba56f59b65d77ec2a": {
          "model_module": "@jupyter-widgets/controls",
          "model_module_version": "1.5.0",
          "model_name": "FloatProgressModel",
          "state": {
            "_dom_classes": [],
            "_model_module": "@jupyter-widgets/controls",
            "_model_module_version": "1.5.0",
            "_model_name": "FloatProgressModel",
            "_view_count": null,
            "_view_module": "@jupyter-widgets/controls",
            "_view_module_version": "1.5.0",
            "_view_name": "ProgressView",
            "bar_style": "success",
            "description": "",
            "description_tooltip": null,
            "layout": "IPY_MODEL_03c713fd9e91496fac3394130044516e",
            "max": 959,
            "min": 0,
            "orientation": "horizontal",
            "style": "IPY_MODEL_98d1c725792740a8869cbebe73d52389",
            "value": 959
          }
        },
        "5d298cee574e4c16935eaa54401b4a97": {
          "model_module": "@jupyter-widgets/base",
          "model_module_version": "1.2.0",
          "model_name": "LayoutModel",
          "state": {
            "_model_module": "@jupyter-widgets/base",
            "_model_module_version": "1.2.0",
            "_model_name": "LayoutModel",
            "_view_count": null,
            "_view_module": "@jupyter-widgets/base",
            "_view_module_version": "1.2.0",
            "_view_name": "LayoutView",
            "align_content": null,
            "align_items": null,
            "align_self": null,
            "border": null,
            "bottom": null,
            "display": null,
            "flex": null,
            "flex_flow": null,
            "grid_area": null,
            "grid_auto_columns": null,
            "grid_auto_flow": null,
            "grid_auto_rows": null,
            "grid_column": null,
            "grid_gap": null,
            "grid_row": null,
            "grid_template_areas": null,
            "grid_template_columns": null,
            "grid_template_rows": null,
            "height": null,
            "justify_content": null,
            "justify_items": null,
            "left": null,
            "margin": null,
            "max_height": null,
            "max_width": null,
            "min_height": null,
            "min_width": null,
            "object_fit": null,
            "object_position": null,
            "order": null,
            "overflow": null,
            "overflow_x": null,
            "overflow_y": null,
            "padding": null,
            "right": null,
            "top": null,
            "visibility": null,
            "width": null
          }
        },
        "5f862e4582ce4e53baccb0bc46d8c742": {
          "model_module": "@jupyter-widgets/controls",
          "model_module_version": "1.5.0",
          "model_name": "HTMLModel",
          "state": {
            "_dom_classes": [],
            "_model_module": "@jupyter-widgets/controls",
            "_model_module_version": "1.5.0",
            "_model_name": "HTMLModel",
            "_view_count": null,
            "_view_module": "@jupyter-widgets/controls",
            "_view_module_version": "1.5.0",
            "_view_name": "HTMLView",
            "description": "",
            "description_tooltip": null,
            "layout": "IPY_MODEL_b12e5005ba92444e8e9a5af59a0ffced",
            "placeholder": "​",
            "style": "IPY_MODEL_9ce62dd13d074393ac4ed9e4c348f572",
            "value": " 685/685 [00:20&lt;00:00, 36.48it/s]"
          }
        },
        "61e78a9d37524fdbb8ad7d67aeba09b0": {
          "model_module": "@jupyter-widgets/controls",
          "model_module_version": "1.5.0",
          "model_name": "HTMLModel",
          "state": {
            "_dom_classes": [],
            "_model_module": "@jupyter-widgets/controls",
            "_model_module_version": "1.5.0",
            "_model_name": "HTMLModel",
            "_view_count": null,
            "_view_module": "@jupyter-widgets/controls",
            "_view_module_version": "1.5.0",
            "_view_name": "HTMLView",
            "description": "",
            "description_tooltip": null,
            "layout": "IPY_MODEL_2a0ed7b82f9b4bf987934b797c5fc9a0",
            "placeholder": "​",
            "style": "IPY_MODEL_eebeb4ed1784455ba2ad78ddad6d1c09",
            "value": "100%"
          }
        },
        "6c76242acfc042ef863c3a0286fd6f1c": {
          "model_module": "@jupyter-widgets/base",
          "model_module_version": "1.2.0",
          "model_name": "LayoutModel",
          "state": {
            "_model_module": "@jupyter-widgets/base",
            "_model_module_version": "1.2.0",
            "_model_name": "LayoutModel",
            "_view_count": null,
            "_view_module": "@jupyter-widgets/base",
            "_view_module_version": "1.2.0",
            "_view_name": "LayoutView",
            "align_content": null,
            "align_items": null,
            "align_self": null,
            "border": null,
            "bottom": null,
            "display": null,
            "flex": null,
            "flex_flow": null,
            "grid_area": null,
            "grid_auto_columns": null,
            "grid_auto_flow": null,
            "grid_auto_rows": null,
            "grid_column": null,
            "grid_gap": null,
            "grid_row": null,
            "grid_template_areas": null,
            "grid_template_columns": null,
            "grid_template_rows": null,
            "height": null,
            "justify_content": null,
            "justify_items": null,
            "left": null,
            "margin": null,
            "max_height": null,
            "max_width": null,
            "min_height": null,
            "min_width": null,
            "object_fit": null,
            "object_position": null,
            "order": null,
            "overflow": null,
            "overflow_x": null,
            "overflow_y": null,
            "padding": null,
            "right": null,
            "top": null,
            "visibility": null,
            "width": null
          }
        },
        "6f83ea1a2d374e0fb6ae3870039f4efd": {
          "model_module": "@jupyter-widgets/controls",
          "model_module_version": "1.5.0",
          "model_name": "DescriptionStyleModel",
          "state": {
            "_model_module": "@jupyter-widgets/controls",
            "_model_module_version": "1.5.0",
            "_model_name": "DescriptionStyleModel",
            "_view_count": null,
            "_view_module": "@jupyter-widgets/base",
            "_view_module_version": "1.2.0",
            "_view_name": "StyleView",
            "description_width": ""
          }
        },
        "7d8439511b4a4c988832f5f91f5e3e4d": {
          "model_module": "@jupyter-widgets/base",
          "model_module_version": "1.2.0",
          "model_name": "LayoutModel",
          "state": {
            "_model_module": "@jupyter-widgets/base",
            "_model_module_version": "1.2.0",
            "_model_name": "LayoutModel",
            "_view_count": null,
            "_view_module": "@jupyter-widgets/base",
            "_view_module_version": "1.2.0",
            "_view_name": "LayoutView",
            "align_content": null,
            "align_items": null,
            "align_self": null,
            "border": null,
            "bottom": null,
            "display": null,
            "flex": null,
            "flex_flow": null,
            "grid_area": null,
            "grid_auto_columns": null,
            "grid_auto_flow": null,
            "grid_auto_rows": null,
            "grid_column": null,
            "grid_gap": null,
            "grid_row": null,
            "grid_template_areas": null,
            "grid_template_columns": null,
            "grid_template_rows": null,
            "height": null,
            "justify_content": null,
            "justify_items": null,
            "left": null,
            "margin": null,
            "max_height": null,
            "max_width": null,
            "min_height": null,
            "min_width": null,
            "object_fit": null,
            "object_position": null,
            "order": null,
            "overflow": null,
            "overflow_x": null,
            "overflow_y": null,
            "padding": null,
            "right": null,
            "top": null,
            "visibility": null,
            "width": null
          }
        },
        "8299a919e75349519ba12e134e85c698": {
          "model_module": "@jupyter-widgets/controls",
          "model_module_version": "1.5.0",
          "model_name": "HTMLModel",
          "state": {
            "_dom_classes": [],
            "_model_module": "@jupyter-widgets/controls",
            "_model_module_version": "1.5.0",
            "_model_name": "HTMLModel",
            "_view_count": null,
            "_view_module": "@jupyter-widgets/controls",
            "_view_module_version": "1.5.0",
            "_view_name": "HTMLView",
            "description": "",
            "description_tooltip": null,
            "layout": "IPY_MODEL_1a6e9ee372ec4f11bbdef6cad254cdaa",
            "placeholder": "​",
            "style": "IPY_MODEL_83aeb51fbcb34aceac696a2d54f471d6",
            "value": "100%"
          }
        },
        "83aeb51fbcb34aceac696a2d54f471d6": {
          "model_module": "@jupyter-widgets/controls",
          "model_module_version": "1.5.0",
          "model_name": "DescriptionStyleModel",
          "state": {
            "_model_module": "@jupyter-widgets/controls",
            "_model_module_version": "1.5.0",
            "_model_name": "DescriptionStyleModel",
            "_view_count": null,
            "_view_module": "@jupyter-widgets/base",
            "_view_module_version": "1.2.0",
            "_view_name": "StyleView",
            "description_width": ""
          }
        },
        "8c1232a03317417bac2b7dc649a951ea": {
          "model_module": "@jupyter-widgets/base",
          "model_module_version": "1.2.0",
          "model_name": "LayoutModel",
          "state": {
            "_model_module": "@jupyter-widgets/base",
            "_model_module_version": "1.2.0",
            "_model_name": "LayoutModel",
            "_view_count": null,
            "_view_module": "@jupyter-widgets/base",
            "_view_module_version": "1.2.0",
            "_view_name": "LayoutView",
            "align_content": null,
            "align_items": null,
            "align_self": null,
            "border": null,
            "bottom": null,
            "display": null,
            "flex": null,
            "flex_flow": null,
            "grid_area": null,
            "grid_auto_columns": null,
            "grid_auto_flow": null,
            "grid_auto_rows": null,
            "grid_column": null,
            "grid_gap": null,
            "grid_row": null,
            "grid_template_areas": null,
            "grid_template_columns": null,
            "grid_template_rows": null,
            "height": null,
            "justify_content": null,
            "justify_items": null,
            "left": null,
            "margin": null,
            "max_height": null,
            "max_width": null,
            "min_height": null,
            "min_width": null,
            "object_fit": null,
            "object_position": null,
            "order": null,
            "overflow": null,
            "overflow_x": null,
            "overflow_y": null,
            "padding": null,
            "right": null,
            "top": null,
            "visibility": null,
            "width": null
          }
        },
        "98d1c725792740a8869cbebe73d52389": {
          "model_module": "@jupyter-widgets/controls",
          "model_module_version": "1.5.0",
          "model_name": "ProgressStyleModel",
          "state": {
            "_model_module": "@jupyter-widgets/controls",
            "_model_module_version": "1.5.0",
            "_model_name": "ProgressStyleModel",
            "_view_count": null,
            "_view_module": "@jupyter-widgets/base",
            "_view_module_version": "1.2.0",
            "_view_name": "StyleView",
            "bar_color": null,
            "description_width": ""
          }
        },
        "9ce62dd13d074393ac4ed9e4c348f572": {
          "model_module": "@jupyter-widgets/controls",
          "model_module_version": "1.5.0",
          "model_name": "DescriptionStyleModel",
          "state": {
            "_model_module": "@jupyter-widgets/controls",
            "_model_module_version": "1.5.0",
            "_model_name": "DescriptionStyleModel",
            "_view_count": null,
            "_view_module": "@jupyter-widgets/base",
            "_view_module_version": "1.2.0",
            "_view_name": "StyleView",
            "description_width": ""
          }
        },
        "a0da873addc94a3896e70865eb80cbe8": {
          "model_module": "@jupyter-widgets/controls",
          "model_module_version": "1.5.0",
          "model_name": "DescriptionStyleModel",
          "state": {
            "_model_module": "@jupyter-widgets/controls",
            "_model_module_version": "1.5.0",
            "_model_name": "DescriptionStyleModel",
            "_view_count": null,
            "_view_module": "@jupyter-widgets/base",
            "_view_module_version": "1.2.0",
            "_view_name": "StyleView",
            "description_width": ""
          }
        },
        "a330d5e3014145aca298ac29147a200f": {
          "model_module": "@jupyter-widgets/controls",
          "model_module_version": "1.5.0",
          "model_name": "DescriptionStyleModel",
          "state": {
            "_model_module": "@jupyter-widgets/controls",
            "_model_module_version": "1.5.0",
            "_model_name": "DescriptionStyleModel",
            "_view_count": null,
            "_view_module": "@jupyter-widgets/base",
            "_view_module_version": "1.2.0",
            "_view_name": "StyleView",
            "description_width": ""
          }
        },
        "a368e1570468464fa5d636410fd87b95": {
          "model_module": "@jupyter-widgets/controls",
          "model_module_version": "1.5.0",
          "model_name": "HTMLModel",
          "state": {
            "_dom_classes": [],
            "_model_module": "@jupyter-widgets/controls",
            "_model_module_version": "1.5.0",
            "_model_name": "HTMLModel",
            "_view_count": null,
            "_view_module": "@jupyter-widgets/controls",
            "_view_module_version": "1.5.0",
            "_view_name": "HTMLView",
            "description": "",
            "description_tooltip": null,
            "layout": "IPY_MODEL_8c1232a03317417bac2b7dc649a951ea",
            "placeholder": "​",
            "style": "IPY_MODEL_a0da873addc94a3896e70865eb80cbe8",
            "value": "100%"
          }
        },
        "aa7b7aaf12104d58986132f60a4ef9c1": {
          "model_module": "@jupyter-widgets/controls",
          "model_module_version": "1.5.0",
          "model_name": "FloatProgressModel",
          "state": {
            "_dom_classes": [],
            "_model_module": "@jupyter-widgets/controls",
            "_model_module_version": "1.5.0",
            "_model_name": "FloatProgressModel",
            "_view_count": null,
            "_view_module": "@jupyter-widgets/controls",
            "_view_module_version": "1.5.0",
            "_view_name": "ProgressView",
            "bar_style": "success",
            "description": "",
            "description_tooltip": null,
            "layout": "IPY_MODEL_7d8439511b4a4c988832f5f91f5e3e4d",
            "max": 685,
            "min": 0,
            "orientation": "horizontal",
            "style": "IPY_MODEL_0e388e033bb545ba884234079731d7e5",
            "value": 685
          }
        },
        "ace0506d5c6545d09232c9c4dcb4ed5e": {
          "model_module": "@jupyter-widgets/base",
          "model_module_version": "1.2.0",
          "model_name": "LayoutModel",
          "state": {
            "_model_module": "@jupyter-widgets/base",
            "_model_module_version": "1.2.0",
            "_model_name": "LayoutModel",
            "_view_count": null,
            "_view_module": "@jupyter-widgets/base",
            "_view_module_version": "1.2.0",
            "_view_name": "LayoutView",
            "align_content": null,
            "align_items": null,
            "align_self": null,
            "border": null,
            "bottom": null,
            "display": null,
            "flex": null,
            "flex_flow": null,
            "grid_area": null,
            "grid_auto_columns": null,
            "grid_auto_flow": null,
            "grid_auto_rows": null,
            "grid_column": null,
            "grid_gap": null,
            "grid_row": null,
            "grid_template_areas": null,
            "grid_template_columns": null,
            "grid_template_rows": null,
            "height": null,
            "justify_content": null,
            "justify_items": null,
            "left": null,
            "margin": null,
            "max_height": null,
            "max_width": null,
            "min_height": null,
            "min_width": null,
            "object_fit": null,
            "object_position": null,
            "order": null,
            "overflow": null,
            "overflow_x": null,
            "overflow_y": null,
            "padding": null,
            "right": null,
            "top": null,
            "visibility": null,
            "width": null
          }
        },
        "b12e5005ba92444e8e9a5af59a0ffced": {
          "model_module": "@jupyter-widgets/base",
          "model_module_version": "1.2.0",
          "model_name": "LayoutModel",
          "state": {
            "_model_module": "@jupyter-widgets/base",
            "_model_module_version": "1.2.0",
            "_model_name": "LayoutModel",
            "_view_count": null,
            "_view_module": "@jupyter-widgets/base",
            "_view_module_version": "1.2.0",
            "_view_name": "LayoutView",
            "align_content": null,
            "align_items": null,
            "align_self": null,
            "border": null,
            "bottom": null,
            "display": null,
            "flex": null,
            "flex_flow": null,
            "grid_area": null,
            "grid_auto_columns": null,
            "grid_auto_flow": null,
            "grid_auto_rows": null,
            "grid_column": null,
            "grid_gap": null,
            "grid_row": null,
            "grid_template_areas": null,
            "grid_template_columns": null,
            "grid_template_rows": null,
            "height": null,
            "justify_content": null,
            "justify_items": null,
            "left": null,
            "margin": null,
            "max_height": null,
            "max_width": null,
            "min_height": null,
            "min_width": null,
            "object_fit": null,
            "object_position": null,
            "order": null,
            "overflow": null,
            "overflow_x": null,
            "overflow_y": null,
            "padding": null,
            "right": null,
            "top": null,
            "visibility": null,
            "width": null
          }
        },
        "bfa7f2b948304973bbcb15881b39c6de": {
          "model_module": "@jupyter-widgets/controls",
          "model_module_version": "1.5.0",
          "model_name": "HBoxModel",
          "state": {
            "_dom_classes": [],
            "_model_module": "@jupyter-widgets/controls",
            "_model_module_version": "1.5.0",
            "_model_name": "HBoxModel",
            "_view_count": null,
            "_view_module": "@jupyter-widgets/controls",
            "_view_module_version": "1.5.0",
            "_view_name": "HBoxView",
            "box_style": "",
            "children": [
              "IPY_MODEL_a368e1570468464fa5d636410fd87b95",
              "IPY_MODEL_45e2a4b6eb93411ea68214e33c8e1832",
              "IPY_MODEL_08f7c1b2baa849c4ba40d345729ac368"
            ],
            "layout": "IPY_MODEL_0b0e2d61e1c747128d346976726d8e86"
          }
        },
        "d7778474bc8c452092df07b265cb6ba9": {
          "model_module": "@jupyter-widgets/controls",
          "model_module_version": "1.5.0",
          "model_name": "HBoxModel",
          "state": {
            "_dom_classes": [],
            "_model_module": "@jupyter-widgets/controls",
            "_model_module_version": "1.5.0",
            "_model_name": "HBoxModel",
            "_view_count": null,
            "_view_module": "@jupyter-widgets/controls",
            "_view_module_version": "1.5.0",
            "_view_name": "HBoxView",
            "box_style": "",
            "children": [
              "IPY_MODEL_61e78a9d37524fdbb8ad7d67aeba09b0",
              "IPY_MODEL_aa7b7aaf12104d58986132f60a4ef9c1",
              "IPY_MODEL_5f862e4582ce4e53baccb0bc46d8c742"
            ],
            "layout": "IPY_MODEL_5d298cee574e4c16935eaa54401b4a97"
          }
        },
        "eebeb4ed1784455ba2ad78ddad6d1c09": {
          "model_module": "@jupyter-widgets/controls",
          "model_module_version": "1.5.0",
          "model_name": "DescriptionStyleModel",
          "state": {
            "_model_module": "@jupyter-widgets/controls",
            "_model_module_version": "1.5.0",
            "_model_name": "DescriptionStyleModel",
            "_view_count": null,
            "_view_module": "@jupyter-widgets/base",
            "_view_module_version": "1.2.0",
            "_view_name": "StyleView",
            "description_width": ""
          }
        }
      }
    }
  },
  "nbformat": 4,
  "nbformat_minor": 0
}
