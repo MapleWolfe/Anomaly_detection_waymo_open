{
  "cells": [
    {
      "cell_type": "markdown",
      "metadata": {
        "id": "view-in-github",
        "colab_type": "text"
      },
      "source": [
        "<a href=\"https://colab.research.google.com/github/MapleWolfe/Anomaly_detection_waymo_open/blob/main/yolo_detection_model/yolo_detection_model_training.ipynb\" target=\"_parent\"><img src=\"https://colab.research.google.com/assets/colab-badge.svg\" alt=\"Open In Colab\"/></a>"
      ]
    },
    {
      "cell_type": "markdown",
      "metadata": {
        "id": "25GdaRiEvePn"
      },
      "source": [
        "# Building Model for Waymo open dataset\n",
        "- please see the detection_model_readme.txt"
      ]
    },
    {
      "cell_type": "markdown",
      "source": [
        "##### Enviornment Notebook was built in:\n",
        "- Kindly run this notebook in Google Colab\n",
        "\n",
        "##### Hardware needs:\n",
        "\n",
        "- Kindly use a minimum of 12 GB CPU ram\n",
        "- the standard Nvidia T4 GPU that comes with the free version of Google Colab.\n",
        "- 50 GB disk Minimum (less should work but this was the minimum during notebook creation)\n",
        "\n",
        "##### following files should be in local directory if using the local notebook\n",
        "- these files should be in the same folder as notebook\n",
        "\n",
        "##### instructions to run notebook,\n",
        "- Kindly fill in the code cell below to use the local parquet files stored in the same folder as notebook or the parquet files stored in a GCS bucket"
      ],
      "metadata": {
        "id": "d-VVlaMJ_S4s"
      }
    },
    {
      "cell_type": "code",
      "source": [
        "# do you want to use local sample files or google cloud storage?\n",
        "file_store = 'GCS' # kindly use either 'GCS' for Google cloud storage or 'LOCAL' for files stored in the same folder as notebook\n",
        "\n",
        "# leave both as None if using LOCAL or kindly replace this with your GCS api key json file and Bucket name or else\n",
        "gcs_json_key = 'put_google_json_key.json' # please remember to start file path here with '/content/' + your json key file name\n",
        "bucket_name = 'waymo_sample_bucket' # remember to replace this\n",
        "\n",
        "#these are the file download limits for hyper param tuning, it limits the number of parquet files being downloaded for training / validation / test\n",
        "train_limit = 2 #-1 means all relevant files in your google bucket\n",
        "val_limit = 1 #-1 means all relevant files in your google bucket\n",
        "test_limit = 1 #-1 means all relevant files in your google bucket\n",
        "\n",
        "final_model_train_limit = 40 #-1 means all relevant files in your google bucket\n",
        "\n",
        "# the path below is to the sample files: there are 4 parquets in total, you just need to upload the waymo_sample_data folder from github repo\n",
        "train_box_data_file_path  = 'waymo_sample_data/training/camera_box/training_camera_box_10017090168044687777_6380_000_6400_000.parquet'\n",
        "train_image_data_file_path = 'waymo_sample_data/training/camera_image/training_camera_image_10017090168044687777_6380_000_6400_000.parquet'\n",
        "val_box_data_file_path = 'waymo_sample_data/validation/camera_box/validation_camera_box_10203656353524179475_7625_000_7645_000.parquet'\n",
        "val_image_data_file_path = 'waymo_sample_data/validation/camera_image/validation_camera_image_10203656353524179475_7625_000_7645_000.parquet'\n"
      ],
      "metadata": {
        "id": "TLmtrOPvfAgx"
      },
      "execution_count": null,
      "outputs": []
    },
    {
      "cell_type": "markdown",
      "metadata": {
        "id": "1efbiYyBwl5V"
      },
      "source": [
        "## installs, imports, pre-sets\n",
        "\n",
        "- kindly open and run cell blocks based on the enviornment being run in to save computational resources."
      ]
    },
    {
      "cell_type": "markdown",
      "source": [
        "### Using detect_model_requirements.txt\n",
        "- please uncomment to use"
      ],
      "metadata": {
        "id": "4TZffgE6--bq"
      }
    },
    {
      "cell_type": "code",
      "source": [
        "# uncomment to create notebook package requirments file called detect_model_requirements.txt\n",
        "# !pip freeze > detect_model_requirements.txt\n",
        "\n",
        "# use the code below to use detect_model_requirements.txt to install all necessary packages\n",
        "#!pip install -r detect_model_requirements.txt"
      ],
      "metadata": {
        "id": "AEw4lY1k8_EE"
      },
      "execution_count": null,
      "outputs": []
    },
    {
      "cell_type": "markdown",
      "source": [
        "### Neccessary installs on top of google colab\n",
        "- uncomment and Run this cell if you aren't using detect_model_requirements.txt and are operating in the GPU google colab enviornment"
      ],
      "metadata": {
        "id": "EXuACyZEEya7"
      }
    },
    {
      "cell_type": "code",
      "execution_count": null,
      "metadata": {
        "id": "pvf-dj0GvdxW"
      },
      "outputs": [],
      "source": [
        "#!pip install google-cloud-storage\n",
        "#!pip install ultralytics\n",
        "#!pip install altair"
      ]
    },
    {
      "cell_type": "markdown",
      "source": [
        "### Imports"
      ],
      "metadata": {
        "id": "BuxoPuoiHKka"
      }
    },
    {
      "cell_type": "code",
      "execution_count": null,
      "metadata": {
        "id": "HrS7BbTI8vEQ"
      },
      "outputs": [],
      "source": [
        "# installs for google cloud storage\n",
        "from google.cloud import storage\n",
        "\n",
        "# general tool installs\n",
        "import os, io, shutil, warnings\n",
        "from tqdm.notebook import tqdm\n",
        "\n",
        "#image processing and plotting libraries\n",
        "from PIL import Image\n",
        "import matplotlib.pyplot as plt\n",
        "import matplotlib.patches as patches\n",
        "import altair as alt\n",
        "\n",
        "# data processing librarires\n",
        "import pandas as pd\n",
        "import numpy as np\n",
        "import dask.dataframe as dd\n",
        "\n",
        "# model evaluation\n",
        "from sklearn.model_selection import ParameterGrid\n",
        "\n",
        "# model libraries\n",
        "import tensorflow as tf\n",
        "from ultralytics import YOLO\n",
        "\n",
        "#pre-sets\n",
        "warnings.filterwarnings(\"ignore\")"
      ]
    },
    {
      "cell_type": "markdown",
      "source": [
        "## utility functions\n",
        "- functions that may be used at a later point"
      ],
      "metadata": {
        "id": "qE6iWVWNq0md"
      }
    },
    {
      "cell_type": "markdown",
      "source": [
        "### delete file function"
      ],
      "metadata": {
        "id": "GO9cCRwqq9G1"
      }
    },
    {
      "cell_type": "code",
      "source": [
        "# code to delete a file\n",
        "def delete_file(file_path_list):\n",
        "  for a_file in (file_path_list):\n",
        "    os.remove(a_file)\n",
        "  return None"
      ],
      "metadata": {
        "id": "neffr318q_Fu"
      },
      "execution_count": null,
      "outputs": []
    },
    {
      "cell_type": "markdown",
      "source": [
        "### move copy function"
      ],
      "metadata": {
        "id": "KQOjtFvRR3rs"
      }
    },
    {
      "cell_type": "code",
      "source": [
        "def move_copy(old_location, new_location):\n",
        "  shutil.copy(old_location, new_location)\n",
        "  return None"
      ],
      "metadata": {
        "id": "-wXmxJz8R87z"
      },
      "execution_count": null,
      "outputs": []
    },
    {
      "cell_type": "markdown",
      "source": [
        "### download blob function"
      ],
      "metadata": {
        "id": "QGybKhahuvLH"
      }
    },
    {
      "cell_type": "code",
      "source": [
        "# to download a blob file\n",
        "def download_blob(a_blob,file_name):\n",
        "  a_blob.download_to_filename(file_name)\n",
        "  return None"
      ],
      "metadata": {
        "id": "0EXbcuJcuzq-"
      },
      "execution_count": null,
      "outputs": []
    },
    {
      "cell_type": "markdown",
      "source": [
        "### Let's create folder directory for YOLO\n",
        "- built as per .yaml file"
      ],
      "metadata": {
        "id": "JwM9qp-8tTl0"
      }
    },
    {
      "cell_type": "code",
      "source": [
        "#folder name list for directory\n",
        "def make_directory(folder_name_list):\n",
        "  folder_path = os.path.join(*folder_name_list)\n",
        "  if not os.path.exists(folder_path):\n",
        "    os.makedirs(folder_path)\n",
        "\n",
        "  return None\n",
        "\n",
        "#function to build yolo directory structure\n",
        "def build_yolo_directory():\n",
        "  for folder_type in ['train','test','eval']:\n",
        "    for data_type in ['images', 'labels']:\n",
        "      make_directory(['datasets',folder_type,data_type])\n",
        "  return None\n",
        "\n"
      ],
      "metadata": {
        "id": "wPeKxiYvtMXt"
      },
      "execution_count": null,
      "outputs": []
    },
    {
      "cell_type": "code",
      "source": [
        "# running directory function\n",
        "build_yolo_directory()"
      ],
      "metadata": {
        "id": "xDggpi2_voCu"
      },
      "execution_count": null,
      "outputs": []
    },
    {
      "cell_type": "markdown",
      "metadata": {
        "id": "TnpY5qVHuE9x"
      },
      "source": [
        "## Google Cloud Storage section\n",
        "\n",
        "- Run these cells if you are using your private google cloud storage.\n",
        "- kindly ensure that your bucket has the same structure and file names as the waymo_open_dataset_v_2_0_0 bucket"
      ]
    },
    {
      "cell_type": "code",
      "source": [
        "def start_gcs(gcs_json_key = gcs_json_key, bucket_name = bucket_name):\n",
        "# Please input API JSON KEY FOR your private google cloud storage where the files are kept in gcs_json_key defined in the first codeblock\n",
        "    os.environ['GOOGLE_APPLICATION_CREDENTIALS'] = gcs_json_key\n",
        "    client = storage.Client()\n",
        "# replace the bucket name with the bucket name in your GCS, use the bucket_name object  in the first codeblock\n",
        "    bucket = client.get_bucket(bucket_name)\n",
        "\n",
        "#getting file list\n",
        "    files = bucket.list_blobs()\n",
        "    files_list = [a_file.name for a_file in files]\n",
        "    return bucket, files_list\n"
      ],
      "metadata": {
        "id": "PRZeQG2scdL_"
      },
      "execution_count": null,
      "outputs": []
    },
    {
      "cell_type": "markdown",
      "source": [
        "### GCS Iterative File Dowload function\n",
        "(Bare Image parquet and Bounding box parquet files)"
      ],
      "metadata": {
        "id": "EeMf3LBtorBu"
      }
    },
    {
      "cell_type": "code",
      "execution_count": null,
      "metadata": {
        "id": "Wi1hP1Hbs7sB"
      },
      "outputs": [],
      "source": [
        "# in the following function we are creating blobs: one blob object for images parquet and another blob for box coordinates parquet\n",
        "def open_gcs_file(files_list,bucket, storage_folder = 'training'):\n",
        "    # lets ensure that we have the correct file type\n",
        "    if storage_folder not in ['training','testing','validation']:\n",
        "      print('''please retype storage_folder it should either be ('training','testing','validation') in the second parameter of function)''')\n",
        "      return None\n",
        "\n",
        "    image_box_str = storage_folder +'/'+ 'camera_box'+'/'\n",
        "    bare_image_str = storage_folder +'/'+ 'camera_image'+'/'\n",
        "    print('files_list: ', files_list)\n",
        "    for a_file in files_list:\n",
        "        if image_box_str in a_file:\n",
        "          try:\n",
        "            box_file_name = a_file\n",
        "            box_file_blob = bucket.blob(box_file_name)\n",
        "            bare_image_file_name = box_file_name.replace(image_box_str, bare_image_str)\n",
        "            bare_image_blob = bucket.blob(bare_image_file_name)\n",
        "            if bare_image_blob is not None:\n",
        "              yield box_file_blob, os.path.basename(box_file_name),bare_image_blob, os.path.basename(bare_image_file_name)\n",
        "          except:\n",
        "            continue\n"
      ]
    },
    {
      "cell_type": "markdown",
      "source": [
        "## Storing files for yolo model\n",
        "- functions to unpack and store from parquet files"
      ],
      "metadata": {
        "id": "G4lVqS4YqYRW"
      }
    },
    {
      "cell_type": "markdown",
      "source": [
        "#### save path and create unique key function"
      ],
      "metadata": {
        "id": "hkq6ulNgZQpm"
      }
    },
    {
      "cell_type": "code",
      "source": [
        "# creating a save path\n",
        "def create_path(file_id,store_type, images_labels = 'images'):\n",
        "  if store_type == 'train':\n",
        "    if images_labels == 'images':\n",
        "      return 'datasets/train/images/' +str(file_id) + '.jpg'\n",
        "    else:\n",
        "      return 'datasets/train/labels/' +str(file_id) + '.txt'\n",
        "\n",
        "  elif store_type == 'eval':\n",
        "    if images_labels == 'images':\n",
        "      return 'datasets/eval/images/' +str(file_id) + '.jpg'\n",
        "    else:\n",
        "      return 'datasets/eval/labels/' +str(file_id) + '.txt'\n",
        "  elif store_type == 'train':\n",
        "    if images_labels == 'images':\n",
        "      return 'datasets/train/images/' +str(file_id) + '.jpg'\n",
        "    else:\n",
        "      return 'datasets/train/labels/' +str(file_id) + '.txt'\n",
        "  else:\n",
        "    print('error type parameter: train / eval / test')\n",
        "\n",
        "# creating a key column\n",
        "def create_key_column(select_df):\n",
        "  return select_df['key.segment_context_name'].astype(str) +  select_df['key.frame_timestamp_micros'].astype(str) + select_df['key.camera_name'].astype(str)\n"
      ],
      "metadata": {
        "id": "GzLiKA0OY1ZF"
      },
      "execution_count": null,
      "outputs": []
    },
    {
      "cell_type": "markdown",
      "source": [
        "#### unpacking, scaling, storing images and annotations seperately"
      ],
      "metadata": {
        "id": "7_i3GODJY93L"
      }
    },
    {
      "cell_type": "code",
      "source": [
        "# constructing and saving image to path we are\n",
        "# here we are checking the image size and resizing it to 640 x 640\n",
        "def build_save_image(byte_string,image_path):\n",
        "  image_bytes = io.BytesIO(byte_string)\n",
        "  image = Image.open(image_bytes)\n",
        "  original_image_size = image.size\n",
        "  if (original_image_size[0] %32 == 0) and (original_image_size[1] %32 == 0):\n",
        "    resized_image = image.resize((640,640))\n",
        "    resized_image.save(image_path)\n",
        "    return ('success', original_image_size)\n",
        "  else:\n",
        "    return 'fail'\n",
        "\n",
        "# building bounding box labels\n",
        "# here we are also scaling the bounding box positions to the new image of 640 x 640\n",
        "def build_save_labels(df,txt_file_path,image_size):\n",
        "  width, height = image_size\n",
        "  df.loc[:,'center_x'] = (df.loc[:,'[CameraBoxComponent].box.center.x'] * (640/width))/640\n",
        "  df.loc[:,'center_y'] = (df.loc[:,'[CameraBoxComponent].box.center.y'] * (640/height))/640\n",
        "  df.loc[:,'size_x'] = (df.loc[:,'[CameraBoxComponent].box.size.x'] * (640/width))/640\n",
        "  df.loc[:,'size_y'] = (df.loc[:,'[CameraBoxComponent].box.size.y'] * (640/height))/640\n",
        "\n",
        "  select_col_df = df[['[CameraBoxComponent].type','center_x','center_y','size_x','size_y']]\n",
        "  select_col_pd = select_col_df\n",
        "  select_col_pd.to_csv(txt_file_path, sep=' ', header=False, index=False)\n",
        "  return None\n",
        "\n"
      ],
      "metadata": {
        "id": "g8iMbnDsY-UU"
      },
      "execution_count": null,
      "outputs": []
    },
    {
      "cell_type": "code",
      "source": [
        "# combining all functions above\n",
        "def unpack_store_images(image_parquet,box_parquet, store_type = 'train'):\n",
        "  file_path_store = []\n",
        "  image_df = pd.read_parquet(image_parquet)\n",
        "  box_df = pd.read_parquet(box_parquet)\n",
        "\n",
        "  image_df.loc[:,'key_column'] = create_key_column(image_df)\n",
        "  box_df.loc[:,'key_column'] = create_key_column(box_df)\n",
        "\n",
        "  commmon_key_list = list(set(box_df['key_column'].tolist()) & set(image_df['key_column'].tolist()))\n",
        "  id_iterator = 0\n",
        "  for common_key in tqdm(commmon_key_list):\n",
        "    key_loc_image = image_df.loc[image_df['key_column'] == common_key]\n",
        "    image_bytes = key_loc_image.reset_index().loc[0, '[CameraImageComponent].image']\n",
        "    image_path = create_path(id_iterator,store_type, images_labels = 'images')\n",
        "\n",
        "    key_loc_box = box_df.loc[box_df['key_column'] == common_key]\n",
        "    label_path = create_path(id_iterator,store_type, images_labels = 'text')\n",
        "\n",
        "    save_confirm = build_save_image(image_bytes,image_path)\n",
        "    if save_confirm[0] == 'success':\n",
        "      # lets now complete box\n",
        "\n",
        "      build_save_labels(key_loc_box,label_path,save_confirm[1])\n",
        "\n",
        "      #lets update accumulators\n",
        "      id_iterator +=1\n",
        "      file_path_store.append(image_path)\n",
        "      file_path_store.append(label_path)\n",
        "\n",
        "  return file_path_store"
      ],
      "metadata": {
        "id": "b7YA2v812Ghv"
      },
      "execution_count": null,
      "outputs": []
    },
    {
      "cell_type": "markdown",
      "source": [
        "## building model"
      ],
      "metadata": {
        "id": "bBH2p3xymiUk"
      }
    },
    {
      "cell_type": "code",
      "source": [
        "def train_model(file_counter, prev_model_list):\n",
        "  if (file_counter == 0):\n",
        "    model_list = []\n",
        "    model_data_dict = {}\n",
        "    param_grid = {'data':['yolov8_waymo.yaml'], 'epochs' : [20],\n",
        "                  'device' : [0], 'patience' : [10],\n",
        "                  'workers' : [0],'batch': [64],\n",
        "                  'optimizer': ['SGD','Adamax'],\n",
        "                  'lr0': [0.01,0.05], 'lrf': [0.01,0.05],\n",
        "                  'momentum': [0.90,0.95], 'weight_decay': [0.0001,0.0005]}\n",
        "    grid_iterator = ParameterGrid(param_grid)\n",
        "    model_number = 0\n",
        "    for a_grid in grid_iterator:\n",
        "      model = YOLO('yolov8n.yaml')\n",
        "      model.train(data=a_grid['data'], epochs = a_grid['epochs'],device = a_grid['device'],\n",
        "                  patience = a_grid['patience'], workers = a_grid['workers'], batch = a_grid['batch'],\n",
        "                  optimizer = a_grid['optimizer'], lr0 = a_grid['lr0'],\n",
        "                  lrf = a_grid['lrf'], momentum = a_grid['momentum'], weight_decay = a_grid['weight_decay'])\n",
        "\n",
        "      model_path ='model_'+str(model_number) + '.pt'\n",
        "      model_data_dict={'parameters': a_grid,'model_path': model_path}\n",
        "\n",
        "      output_location = model.export()\n",
        "      updated_location = output_location.replace('torchscript','pt')\n",
        "      move_copy(updated_location, model_path)\n",
        "\n",
        "      model_list.append(model_data_dict)\n",
        "      model_number +=1\n",
        "\n",
        "    return model_list\n",
        "\n",
        "  else:\n",
        "      for a_model_dict in prev_model_list:\n",
        "        model = YOLO(a_model_dict['model_path'])\n",
        "        model.train(data=a_model_dict['parameters']['data'], epochs = a_model_dict['parameters']['epochs'],\n",
        "                    device = a_model_dict['parameters']['device'],patience = a_model_dict['parameters']['patience'],\n",
        "                    workers = a_model_dict['parameters']['workers'], batch = a_model_dict['parameters']['batch'],\n",
        "                    optimizer = a_model_dict['parameters']['optimizer'], lr0 = a_model_dict['parameters']['lr0'],\n",
        "                    lrf = a_model_dict['parameters']['lrf'], momentum = a_model_dict['parameters']['momentum'],\n",
        "                    weight_decay = a_model_dict['parameters']['weight_decay'])\n",
        "\n",
        "        output_location = model.export()\n",
        "        updated_location = output_location.replace('torchscript','pt')\n",
        "        delete_file([a_model_dict['model_path']])\n",
        "        move_copy(updated_location, a_model_dict['model_path'])\n",
        "      return prev_model_list\n"
      ],
      "metadata": {
        "id": "5arGsX1wmqUJ"
      },
      "execution_count": null,
      "outputs": []
    },
    {
      "cell_type": "markdown",
      "source": [
        "## Creating validation data"
      ],
      "metadata": {
        "id": "lHpjdrljGkTj"
      }
    },
    {
      "cell_type": "code",
      "source": [
        "# checking and then initiating GCS file download\n",
        "if file_store == 'GCS':\n",
        "  bucket, files_list = start_gcs()\n",
        "  gcs_iterator = open_gcs_file(files_list,bucket, storage_folder = 'validation')\n",
        "  file_counter = 0\n",
        "  train_file_path_list = []\n",
        "  for a_file in gcs_iterator:\n",
        "    # evaluation data\n",
        "    box_file_blob, box_file_name,bare_image_blob, bare_image_file_name = a_file\n",
        "\n",
        "    download_blob(box_file_blob,box_file_name)\n",
        "    new_box_file_name = 'box_file_'+ box_file_name\n",
        "    os.rename(box_file_name, new_box_file_name)\n",
        "\n",
        "    download_blob(bare_image_blob,bare_image_file_name)\n",
        "    new_image_file_name = 'image_file_'+ bare_image_file_name\n",
        "    os.rename(bare_image_file_name, new_image_file_name)\n",
        "\n",
        "    eval_file_path_list = unpack_store_images(new_image_file_name,new_box_file_name, store_type = 'eval')\n",
        "    delete_file([new_box_file_name,new_image_file_name])\n",
        "\n",
        "    print('completed_file_number: ',file_counter)\n",
        "    file_counter += 1\n",
        "    if (file_counter >= val_limit) and (val_limit != -1):\n",
        "      break\n",
        "\n",
        "elif file_store == 'LOCAL':\n",
        "    train_file_path_list = unpack_store_images(val_box_data_file_path,val_image_data_file_path, store_type = 'eval')\n",
        "else:\n",
        "  print('''check file_store variable, it should be in capital 'GCS' or 'LOCAL' ''')\n"
      ],
      "metadata": {
        "id": "QFtHGq_aGn_U",
        "colab": {
          "base_uri": "https://localhost:8080/",
          "height": 105,
          "referenced_widgets": [
            "4d2f343568844374af05bcfb05639a4a",
            "8299a919e75349519ba12e134e85c698",
            "4ec205f6648c40fba56f59b65d77ec2a",
            "1dd17957a8424b3f9e8ef8b5df9732f6",
            "ace0506d5c6545d09232c9c4dcb4ed5e",
            "1a6e9ee372ec4f11bbdef6cad254cdaa",
            "83aeb51fbcb34aceac696a2d54f471d6",
            "03c713fd9e91496fac3394130044516e",
            "98d1c725792740a8869cbebe73d52389",
            "1b3d209119604868893d9ba9214f6cf0",
            "6f83ea1a2d374e0fb6ae3870039f4efd"
          ]
        },
        "outputId": "883a3de7-04f0-4ffb-9c79-1cd18218f22b"
      },
      "execution_count": null,
      "outputs": [
        {
          "output_type": "stream",
          "name": "stdout",
          "text": [
            "files_list:  ['testing/', 'training/', 'training/camera_box/10017090168044687777_6380_000_6400_000.parquet', 'training/camera_box/10023947602400723454_1120_000_1140_000.parquet', 'training/camera_box/1005081002024129653_5313_150_5333_150.parquet', 'training/camera_box/10061305430875486848_1080_000_1100_000.parquet', 'training/camera_box/10072140764565668044_4060_000_4080_000.parquet', 'training/camera_box/10072231702153043603_5725_000_5745_000.parquet', 'training/camera_box/10075870402459732738_1060_000_1080_000.parquet', 'training/camera_box/10082223140073588526_6140_000_6160_000.parquet', 'training/camera_box/10094743350625019937_3420_000_3440_000.parquet', 'training/camera_box/10096619443888687526_2820_000_2840_000.parquet', 'training/camera_box/10107710434105775874_760_000_780_000.parquet', 'training/camera_box/10153695247769592104_787_000_807_000.parquet', 'training/camera_box/10206293520369375008_2796_800_2816_800.parquet', 'training/camera_box/10212406498497081993_5300_000_5320_000.parquet', 'training/camera_box/1022527355599519580_4866_960_4886_960.parquet', 'training/camera_box/10226164909075980558_180_000_200_000.parquet', 'training/camera_box/10231929575853664160_1160_000_1180_000.parquet', 'training/camera_box/10235335145367115211_5420_000_5440_000.parquet', 'training/camera_box/10241508783381919015_2889_360_2909_360.parquet', 'training/camera_box/10275144660749673822_5755_561_5775_561.parquet', 'training/camera_box/10327752107000040525_1120_000_1140_000.parquet', 'training/camera_box/10391312872392849784_4099_400_4119_400.parquet', 'training/camera_box/10444454289801298640_4360_000_4380_000.parquet', 'training/camera_box/10455472356147194054_1560_000_1580_000.parquet', 'training/camera_box/10485926982439064520_4980_000_5000_000.parquet', 'training/camera_box/10498013744573185290_1240_000_1260_000.parquet', 'training/camera_box/10500357041547037089_1474_800_1494_800.parquet', 'training/camera_box/10517728057304349900_3360_000_3380_000.parquet', 'training/camera_box/1051897962568538022_238_170_258_170.parquet', 'training/camera_box/10526338824408452410_5714_660_5734_660.parquet', 'training/camera_box/10584247114982259878_490_000_510_000.parquet', 'training/camera_box/10588771936253546636_2300_000_2320_000.parquet', 'training/camera_box/10596949720463106554_1933_530_1953_530.parquet', 'training/camera_box/10599748131695282446_1380_000_1400_000.parquet', 'training/camera_box/10625026498155904401_200_000_220_000.parquet', 'training/camera_box/10664823084372323928_4360_000_4380_000.parquet', 'training/camera_box/10676267326664322837_311_180_331_180.parquet', 'training/camera_box/10723911392655396041_860_000_880_000.parquet', 'training/camera_box/10724020115992582208_7660_400_7680_400.parquet', 'training/camera_box/10734565072045778791_440_000_460_000.parquet', 'training/camera_box/10750135302241325253_180_000_200_000.parquet', 'training/camera_box/10770759614217273359_1465_000_1485_000.parquet', 'training/camera_box/10786629299947667143_3440_000_3460_000.parquet', 'training/camera_box/10793018113277660068_2714_540_2734_540.parquet', 'training/camera_box/1083056852838271990_4080_000_4100_000.parquet', 'training/camera_box/10876852935525353526_1640_000_1660_000.parquet', 'training/camera_box/10923963890428322967_1445_000_1465_000.parquet', 'training/camera_box/10927752430968246422_4940_000_4960_000.parquet', 'training/camera_box/10940952441434390507_1888_710_1908_710.parquet', 'training/camera_box/10963653239323173269_1924_000_1944_000.parquet', 'training/camera_box/10964956617027590844_1584_680_1604_680.parquet', 'training/camera_box/10975280749486260148_940_000_960_000.parquet', 'training/camera_box/11004685739714500220_2300_000_2320_000.parquet', 'training/camera_box/11017034898130016754_697_830_717_830.parquet', 'training/camera_box/11060291335850384275_3761_210_3781_210.parquet', 'training/camera_box/11070802577416161387_740_000_760_000.parquet', 'training/camera_box/11076364019363412893_1711_000_1731_000.parquet', 'training/camera_box/11113047206980595400_2560_000_2580_000.parquet', 'training/camera_box/11119453952284076633_1369_940_1389_940.parquet', 'training/camera_box/11126313430116606120_1439_990_1459_990.parquet', 'training/camera_box/11139647661584646830_5470_000_5490_000.parquet', 'training/camera_box/11183906854663518829_2294_000_2314_000.parquet', 'training/camera_box/11199484219241918646_2810_030_2830_030.parquet', 'training/camera_box/11219370372259322863_5320_000_5340_000.parquet', 'training/camera_box/11236550977973464715_3620_000_3640_000.parquet', 'training/camera_box/11252086830380107152_1540_000_1560_000.parquet', 'training/camera_box/11318901554551149504_520_000_540_000.parquet', 'training/camera_box/11343624116265195592_5910_530_5930_530.parquet', 'training/camera_box/11355519273066561009_5323_000_5343_000.parquet', 'training/camera_box/11379226583756500423_6230_810_6250_810.parquet', 'training/camera_box/11388947676680954806_5427_320_5447_320.parquet', 'training/camera_box/11392401368700458296_1086_429_1106_429.parquet', 'training/camera_box/11454085070345530663_1905_000_1925_000.parquet', 'training/camera_box/1146261869236413282_1680_000_1700_000.parquet', 'training/camera_box/11486225968269855324_92_000_112_000.parquet', 'training/camera_box/11489533038039664633_4820_000_4840_000.parquet', 'training/camera_box/11566385337103696871_5740_000_5760_000.parquet', 'training/camera_box/11588853832866011756_2184_462_2204_462.parquet', 'training/camera_box/11623618970700582562_2840_367_2860_367.parquet', 'training/camera_box/11674150664140226235_680_000_700_000.parquet', 'training/camera_box/11718898130355901268_2300_000_2320_000.parquet', 'training/camera_box/1172406780360799916_1660_000_1680_000.parquet', 'training/camera_box/11799592541704458019_9828_750_9848_750.parquet', 'training/camera_box/11839652018869852123_2565_000_2585_000.parquet', 'training/camera_box/11846396154240966170_3540_000_3560_000.parquet', 'training/camera_box/11847506886204460250_1640_000_1660_000.parquet', 'training/camera_box/1191788760630624072_3880_000_3900_000.parquet', 'training/camera_box/11918003324473417938_1400_000_1420_000.parquet', 'training/camera_box/11925224148023145510_1040_000_1060_000.parquet', 'training/camera_box/11928449532664718059_1200_000_1220_000.parquet', 'training/camera_box/11940460932056521663_1760_000_1780_000.parquet', 'training/camera_box/11967272535264406807_580_000_600_000.parquet', 'training/camera_box/11971497357570544465_1200_000_1220_000.parquet', 'training/camera_box/12012663867578114640_820_000_840_000.parquet', 'training/camera_box/12027892938363296829_4086_280_4106_280.parquet', 'training/camera_box/1208303279778032257_1360_000_1380_000.parquet', 'training/camera_box/12161824480686739258_1813_380_1833_380.parquet', 'training/camera_box/12174529769287588121_3848_440_3868_440.parquet', 'training/camera_box/12179768245749640056_5561_070_5581_070.parquet', 'training/camera_box/12200383401366682847_2552_140_2572_140.parquet', 'training/camera_box/12208410199966712301_4480_000_4500_000.parquet', 'training/camera_box/12212767626682531382_2100_150_2120_150.parquet', 'training/camera_box/12251442326766052580_1840_000_1860_000.parquet', 'training/camera_box/12257951615341726923_2196_690_2216_690.parquet', 'training/camera_box/12273083120751993429_7285_000_7305_000.parquet', 'training/camera_box/12281202743097872109_3387_370_3407_370.parquet', 'training/camera_box/12303641360375776820_4378_000_4398_000.parquet', 'training/camera_box/12304907743194762419_1522_000_1542_000.parquet', 'training/camera_box/1231623110026745648_480_000_500_000.parquet', 'training/camera_box/12321865437129862911_3480_000_3500_000.parquet', 'training/camera_box/12337317986514501583_5346_260_5366_260.parquet', 'training/camera_box/12339284075576056695_1920_000_1940_000.parquet', 'training/camera_box/12365808668068790137_2920_000_2940_000.parquet', 'training/camera_box/12473470522729755785_4000_000_4020_000.parquet', 'training/camera_box/12505030131868863688_1740_000_1760_000.parquet', 'training/camera_box/12511696717465549299_4209_630_4229_630.parquet', 'training/camera_box/12551320916264703416_1420_000_1440_000.parquet', 'training/camera_box/1255991971750044803_1700_000_1720_000.parquet', 'training/camera_box/12566399510596872945_2078_320_2098_320.parquet', 'training/camera_box/12581809607914381746_1219_547_1239_547.parquet', 'training/camera_box/1265122081809781363_2879_530_2899_530.parquet', 'training/camera_box/12681651284932598380_3585_280_3605_280.parquet', 'training/camera_box/12844373518178303651_2140_000_2160_000.parquet', 'training/camera_box/12848519977617081063_2488_000_2508_000.parquet', 'training/camera_box/12856053589272984699_1020_000_1040_000.parquet', 'training/camera_box/12858738411692807959_2865_000_2885_000.parquet', 'training/camera_box/12879640240483815315_5852_605_5872_605.parquet', 'training/camera_box/12894036666871194216_787_000_807_000.parquet', 'training/camera_box/12896629105712361308_4520_000_4540_000.parquet', 'training/camera_box/12900898236728415654_1906_686_1926_686.parquet', 'training/camera_box/12956664801249730713_2840_000_2860_000.parquet', 'training/camera_box/12974838039736660070_4586_990_4606_990.parquet', 'training/camera_box/12979718722917614085_1039_490_1059_490.parquet', 'training/camera_box/12988666890418932775_5516_730_5536_730.parquet', 'training/camera_box/13005562150845909564_3141_360_3161_360.parquet', 'training/camera_box/13033853066564892960_1040_000_1060_000.parquet', 'training/camera_box/1305342127382455702_3720_000_3740_000.parquet', 'training/camera_box/1306458236359471795_2524_330_2544_330.parquet', 'training/camera_box/13078892192456386060_2960_000_2980_000.parquet', 'training/camera_box/13085453465864374565_2040_000_2060_000.parquet', 'training/camera_box/13142190313715360621_3888_090_3908_090.parquet', 'training/camera_box/13145971249179441231_1640_000_1660_000.parquet', 'training/camera_box/13177337129001451839_9160_000_9180_000.parquet', 'training/camera_box/13181198025433053194_2620_770_2640_770.parquet', 'training/camera_box/13182548552824592684_4160_250_4180_250.parquet', 'training/camera_box/13186511704021307558_2000_000_2020_000.parquet', 'training/camera_box/13196796799137805454_3036_940_3056_940.parquet', 'training/camera_box/13207915841618107559_2980_000_3000_000.parquet', 'training/camera_box/13238419657658219864_4630_850_4650_850.parquet', 'training/camera_box/13254498462985394788_980_000_1000_000.parquet', 'training/camera_box/13258835835415292197_965_000_985_000.parquet', 'training/camera_box/13271285919570645382_5320_000_5340_000.parquet', 'training/camera_box/13310437789759009684_2645_000_2665_000.parquet', 'training/camera_box/13355317306876751663_2200_000_2220_000.parquet', 'training/camera_box/13363977648531075793_343_000_363_000.parquet', 'training/camera_box/13390791323468600062_6718_570_6738_570.parquet', 'training/camera_box/13402473631986525162_5700_000_5720_000.parquet', 'training/camera_box/13476374534576730229_240_000_260_000.parquet', 'training/camera_box/13506499849906169066_120_000_140_000.parquet', 'training/camera_box/13517115297021862252_2680_000_2700_000.parquet', 'training/camera_box/13519445614718437933_4060_000_4080_000.parquet', 'training/camera_box/1352150727715827110_3710_250_3730_250.parquet', 'training/camera_box/1357883579772440606_2365_000_2385_000.parquet', 'training/camera_box/13585809231635721258_1910_770_1930_770.parquet', 'training/camera_box/13619063687271391084_1519_680_1539_680.parquet', 'training/camera_box/13622747960068272448_1678_930_1698_930.parquet', 'training/camera_box/13629997314951696814_1207_000_1227_000.parquet', 'training/camera_box/13667377240304615855_500_000_520_000.parquet', 'training/camera_box/13679757109245957439_4167_170_4187_170.parquet', 'training/camera_box/13731697468004921673_4920_000_4940_000.parquet', 'training/camera_box/13807633218762107566_6625_000_6645_000.parquet', 'training/camera_box/13823509240483976870_1514_190_1534_190.parquet', 'training/camera_box/1382515516588059826_780_000_800_000.parquet', 'training/camera_box/13830510593707564159_5575_000_5595_000.parquet', 'training/camera_box/13840133134545942567_1060_000_1080_000.parquet', 'training/camera_box/13862220583747475906_1260_000_1280_000.parquet', 'training/camera_box/13909033332341079321_4007_930_4027_930.parquet', 'training/camera_box/13940755514149579648_821_157_841_157.parquet', 'training/camera_box/13944915979337652825_4260_668_4280_668.parquet', 'training/camera_box/13965460994524880649_2842_050_2862_050.parquet', 'training/camera_box/13984577671034960830_4545_000_4565_000.parquet', 'training/camera_box/14004546003548947884_2331_861_2351_861.parquet', 'training/camera_box/14018515129165961775_483_260_503_260.parquet', 'training/camera_box/14073491244121877213_4066_056_4086_056.parquet', 'training/camera_box/14073578965827700743_1564_000_1584_000.parquet', 'training/camera_box/14076089808269682731_54_730_74_730.parquet', 'training/camera_box/14098575914252965554_511_000_531_000.parquet', 'training/camera_box/14098605172844003779_5084_630_5104_630.parquet', 'training/camera_box/14106113060128637865_1200_000_1220_000.parquet', 'training/camera_box/141184560845819621_10582_560_10602_560.parquet', 'training/camera_box/14133920963894906769_1480_000_1500_000.parquet', 'training/camera_box/14143054494855609923_4529_100_4549_100.parquet', 'training/camera_box/1416654423768444853_2660_000_2680_000.parquet', 'training/camera_box/14183710428479823719_3140_000_3160_000.parquet', 'training/camera_box/14193044537086402364_534_000_554_000.parquet', 'training/camera_box/1422926405879888210_51_310_71_310.parquet', 'training/camera_box/14233522945839943589_100_000_120_000.parquet', 'training/camera_box/14250544550818363063_880_000_900_000.parquet', 'training/camera_box/14276116893664145886_1785_080_1805_080.parquet', 'training/camera_box/1432918953215186312_5101_320_5121_320.parquet', 'training/camera_box/14348136031422182645_3360_000_3380_000.parquet', 'training/camera_box/14358192009676582448_3396_400_3416_400.parquet', 'training/camera_box/14369250836076988112_7249_040_7269_040.parquet', 'training/camera_box/14388269713149187289_1994_280_2014_280.parquet', 'training/camera_box/14424804287031718399_1281_030_1301_030.parquet', 'training/camera_box/1442753028323350651_4065_000_4085_000.parquet', 'training/camera_box/14430914081327266277_6480_000_6500_000.parquet', 'training/camera_box/14466332043440571514_6530_560_6550_560.parquet', 'training/camera_box/14479353969865741728_2340_000_2360_000.parquet', 'training/camera_box/14503113925613619599_975_506_995_506.parquet', 'training/camera_box/14561791273891593514_2558_030_2578_030.parquet', 'training/camera_box/14619874262915043759_2801_090_2821_090.parquet', 'training/camera_box/14705303724557273004_3105_000_3125_000.parquet', 'training/camera_box/14734824171146590110_880_000_900_000.parquet', 'training/camera_box/1473681173028010305_1780_000_1800_000.parquet', 'training/camera_box/14742731916935095621_1325_000_1345_000.parquet', 'training/camera_box/14752341928540512649_4960_000_4980_000.parquet', 'training/camera_box/14753089714893635383_873_600_893_600.parquet', 'training/camera_box/14763701469114129880_2260_000_2280_000.parquet', 'training/camera_box/14766384747691229841_6315_730_6335_730.parquet', 'training/camera_box/14777753086917826209_4147_000_4167_000.parquet', 'training/camera_box/14791260641858988448_1018_000_1038_000.parquet', 'training/camera_box/14810689888487451189_720_000_740_000.parquet', 'training/camera_box/14818835630668820137_1780_000_1800_000.parquet', 'training/camera_box/14824622621331930560_2395_420_2415_420.parquet', 'training/camera_box/14830022845193837364_3488_060_3508_060.parquet', 'training/camera_box/14869732972903148657_2420_000_2440_000.parquet', 'training/camera_box/14940138913070850675_5755_330_5775_330.parquet', 'training/camera_box/14964131310266936779_3292_850_3312_850.parquet', 'training/camera_box/14964691552976940738_2219_229_2239_229.parquet', 'training/camera_box/15036582848618865396_3752_830_3772_830.parquet', 'training/camera_box/15053781258223091665_3192_117_3212_117.parquet', 'training/camera_box/15062351272945542584_5921_360_5941_360.parquet', 'training/camera_box/15090871771939393635_1266_320_1286_320.parquet', 'training/camera_box/15125792363972595336_4960_000_4980_000.parquet', 'training/camera_box/15166409572599113654_808_000_828_000.parquet', 'training/camera_box/15202102284304593700_1900_000_1920_000.parquet', 'training/camera_box/15221704733958986648_1400_000_1420_000.parquet', 'training/camera_box/15241656472211725662_2500_000_2520_000.parquet', 'training/camera_box/15265053588821562107_60_000_80_000.parquet', 'training/camera_box/15266427834976906738_1620_000_1640_000.parquet', 'training/camera_box/15270638100874320175_2720_000_2740_000.parquet', 'training/camera_box/15308653868652290306_460_000_480_000.parquet', 'training/camera_box/15331851695963211598_1620_000_1640_000.parquet', 'training/camera_box/15342828002152531464_1543_000_1563_000.parquet', 'training/camera_box/15349503153813328111_2160_000_2180_000.parquet', 'training/camera_box/15365821471737026848_1160_000_1180_000.parquet', 'training/camera_box/15367782110311024266_2103_310_2123_310.parquet', 'training/camera_box/15374821596407640257_3388_480_3408_480.parquet', 'training/camera_box/15379350264706417068_3120_000_3140_000.parquet', 'training/camera_box/15445436653637630344_3957_561_3977_561.parquet', 'training/camera_box/15448466074775525292_2920_000_2940_000.parquet', 'training/camera_box/15458436361042752328_3549_030_3569_030.parquet', 'training/camera_box/15482064737890453610_5180_000_5200_000.parquet', 'training/camera_box/15533468984793020049_800_000_820_000.parquet', 'training/camera_box/15535062863944567958_1100_000_1120_000.parquet', 'training/camera_box/15539619898625779290_760_000_780_000.parquet', 'training/camera_box/15550613280008674010_1780_000_1800_000.parquet', 'training/camera_box/15578655130939579324_620_000_640_000.parquet', 'training/camera_box/15628918650068847391_8077_670_8097_670.parquet', 'training/camera_box/15644354861949427452_3645_350_3665_350.parquet', 'training/camera_box/15646511153936256674_1620_000_1640_000.parquet', 'training/camera_box/15696964848687303249_4615_200_4635_200.parquet', 'training/camera_box/15717839202171538526_1124_920_1144_920.parquet', 'training/camera_box/15787777881771177481_8820_000_8840_000.parquet', 'training/camera_box/15795616688853411272_1245_000_1265_000.parquet', 'training/camera_box/15803855782190483017_1060_000_1080_000.parquet', 'training/camera_box/15832924468527961_1564_160_1584_160.parquet', 'training/camera_box/15834329472172048691_2956_760_2976_760.parquet', 'training/camera_box/15844593126368860820_3260_000_3280_000.parquet', 'training/camera_box/15857303257471811288_1840_000_1860_000.parquet', 'training/camera_box/15868625208244306149_4340_000_4360_000.parquet', 'training/camera_box/15882343134097151256_4820_000_4840_000.parquet', 'training/camera_box/15903184480576180688_3160_000_3180_000.parquet', 'training/camera_box/15903544160717261009_3961_870_3981_870.parquet', 'training/camera_box/15942468615931009553_1243_190_1263_190.parquet', 'training/camera_box/15943938987133888575_2767_300_2787_300.parquet', 'training/camera_box/16034875274658204340_240_000_260_000.parquet', 'training/camera_box/16042842363202855955_265_000_285_000.parquet', 'training/camera_box/16042886962142359737_1060_000_1080_000.parquet', 'training/camera_box/1605912288178321742_451_000_471_000.parquet', 'training/camera_box/16080705915014211452_620_000_640_000.parquet', 'training/camera_box/16087604685956889409_40_000_60_000.parquet', 'training/camera_box/16093022852977039323_2981_100_3001_100.parquet', 'training/camera_box/16102220208346880_1420_000_1440_000.parquet', 'training/camera_box/16105359875195888139_4420_000_4440_000.parquet', 'training/camera_box/16121633832852116614_240_000_260_000.parquet', 'training/camera_box/16153607877566142572_2262_000_2282_000.parquet', 'training/camera_box/16191439239940794174_2245_000_2265_000.parquet', 'training/camera_box/16202688197024602345_3818_820_3838_820.parquet', 'training/camera_box/16208935658045135756_4412_730_4432_730.parquet', 'training/camera_box/16224018017168210482_6353_500_6373_500.parquet', 'training/camera_box/16238753252899859750_1340_000_1360_000.parquet', 'training/camera_box/16262849101474060261_3459_585_3479_585.parquet', 'training/camera_box/16331619444570993520_1020_000_1040_000.parquet', 'training/camera_box/16336545122307923741_486_637_506_637.parquet', 'training/camera_box/16341778301681295961_178_800_198_800.parquet', 'training/camera_box/16345319168590318167_1420_000_1440_000.parquet', 'training/camera_box/16372013171456210875_5631_040_5651_040.parquet', 'training/camera_box/16388696051060074747_140_000_160_000.parquet', 'training/camera_box/16403578704435467513_5133_870_5153_870.parquet', 'training/camera_box/16435050660165962165_3635_310_3655_310.parquet', 'training/camera_box/16470190748368943792_4369_490_4389_490.parquet', 'training/camera_box/16473613811052081539_1060_000_1080_000.parquet', 'training/camera_box/16485056021060230344_1576_741_1596_741.parquet', 'training/camera_box/16504318334867223853_480_000_500_000.parquet', 'training/camera_box/16511546224219511043_6226_000_6246_000.parquet', 'training/camera_box/16534202648288984983_900_000_920_000.parquet', 'training/camera_box/16552287303455735122_7587_380_7607_380.parquet', 'training/camera_box/16561295363965082313_3720_000_3740_000.parquet', 'training/camera_box/16578409328451172992_3780_000_3800_000.parquet', 'training/camera_box/16600468011801266684_1500_000_1520_000.parquet', 'training/camera_box/16608525782988721413_100_000_120_000.parquet', 'training/camera_box/16625429321676352815_1543_860_1563_860.parquet', 'training/camera_box/16646360389507147817_3320_000_3340_000.parquet', 'training/camera_box/16646502593577530501_4878_080_4898_080.parquet', 'training/camera_box/16651261238721788858_2365_000_2385_000.parquet', 'training/camera_box/16652690380969095006_2580_000_2600_000.parquet', 'training/camera_box/16676202516797441395_2460_000_2480_000.parquet', 'training/camera_box/16676683078119047936_300_000_320_000.parquet', 'training/camera_box/16735938448970076374_1126_430_1146_430.parquet', 'training/camera_box/16793466851577046940_2800_000_2820_000.parquet', 'training/camera_box/16797668128356194527_2430_390_2450_390.parquet', 'training/camera_box/16801666784196221098_2480_000_2500_000.parquet', 'training/camera_box/16873108320324977627_780_000_800_000.parquet', 'training/camera_box/16911037681440249335_700_000_720_000.parquet', 'training/camera_box/169115044301335945_480_000_500_000.parquet', 'training/camera_box/16951470340360921766_2840_000_2860_000.parquet', 'training/camera_box/16977844994272847523_2140_000_2160_000.parquet', 'training/camera_box/17066133495361694802_1220_000_1240_000.parquet', 'training/camera_box/17144150788361379549_2720_000_2740_000.parquet', 'training/camera_box/17159836069183024120_640_000_660_000.parquet', 'training/camera_box/17160696560226550358_6229_820_6249_820.parquet', 'training/camera_box/17216329305659006368_4800_000_4820_000.parquet', 'training/camera_box/17270469718624587995_5202_030_5222_030.parquet', 'training/camera_box/17295069199227237940_3160_000_3180_000.parquet', 'training/camera_box/1730266523558914470_305_260_325_260.parquet', 'training/camera_box/17330200445788773877_2700_000_2720_000.parquet', 'training/camera_box/17342274091983078806_80_000_100_000.parquet', 'training/camera_box/17356174167372765800_1720_000_1740_000.parquet', 'training/camera_box/17364342162691622478_780_000_800_000.parquet', 'training/camera_box/1737018592744049492_1960_000_1980_000.parquet', 'training/camera_box/17386176497741125938_2180_000_2200_000.parquet', 'training/camera_box/17386718718413812426_1763_140_1783_140.parquet', 'training/camera_box/17388121177218499911_2520_000_2540_000.parquet', 'training/camera_box/17407069523496279950_4354_900_4374_900.parquet', 'training/camera_box/17437352085580560526_2120_000_2140_000.parquet', 'training/camera_box/17547795428359040137_5056_070_5076_070.parquet', 'training/camera_box/17552108427312284959_3200_000_3220_000.parquet', 'training/camera_box/17564868480517233150_3643_000_3663_000.parquet', 'training/camera_box/175830748773502782_1580_000_1600_000.parquet', 'training/camera_box/1758724094753801109_1251_037_1271_037.parquet', 'training/camera_box/17597174721305220109_178_000_198_000.parquet', 'training/camera_box/17601040886987343289_472_000_492_000.parquet', 'training/camera_box/17642771458376274038_2080_000_2100_000.parquet', 'training/camera_box/17647858901077503501_1500_000_1520_000.parquet', 'training/camera_box/17674974223808194792_8787_692_8807_692.parquet', 'training/camera_box/17677899007099302421_5911_000_5931_000.parquet', 'training/camera_box/1773696223367475365_1060_000_1080_000.parquet', 'training/camera_box/17750787536486427868_560_000_580_000.parquet', 'training/camera_box/17752423643206316420_920_850_940_850.parquet', 'training/camera_box/17759280403078053118_6060_580_6080_580.parquet', 'training/camera_box/17761959194352517553_5448_420_5468_420.parquet', 'training/camera_box/17778522338768131809_5920_000_5940_000.parquet', 'training/camera_box/17782258508241656695_1354_000_1374_000.parquet', 'training/camera_box/17790754307864212354_1520_000_1540_000.parquet', 'training/camera_box/17792522237954398691_2698_000_2718_000.parquet', 'training/camera_box/17818548625922145895_1372_430_1392_430.parquet', 'training/camera_box/17850487901509155700_9065_000_9085_000.parquet', 'training/camera_box/17874036087982478403_733_674_753_674.parquet', 'training/camera_box/17885096890374683162_755_580_775_580.parquet', 'training/camera_box/17902907331132202998_1564_000_1584_000.parquet', 'training/camera_box/17912777897400903477_2047_500_2067_500.parquet', 'training/camera_box/17941839888833418904_1240_000_1260_000.parquet', 'training/camera_box/17958696356648515477_1660_000_1680_000.parquet', 'training/camera_box/17959337482465423746_2840_000_2860_000.parquet', 'training/camera_box/17987556068410436875_520_610_540_610.parquet', 'training/camera_box/17993467596234560701_4940_000_4960_000.parquet', 'training/camera_box/1800857743596232165_1500_000_1520_000.parquet', 'training/camera_box/18025338595059503802_571_216_591_216.parquet', 'training/camera_box/18068531698704694137_920_000_940_000.parquet', 'training/camera_box/18096167044602516316_2360_000_2380_000.parquet', 'training/camera_box/18111897798871103675_320_000_340_000.parquet', 'training/camera_box/18136695827203527782_2860_000_2880_000.parquet', 'training/camera_box/18141076662151909970_2755_710_2775_710.parquet', 'training/camera_box/18233614482685846350_7060_000_7080_000.parquet', 'training/camera_box/18244334282518155052_2360_000_2380_000.parquet', 'training/camera_box/18286677872269962604_3520_000_3540_000.parquet', 'training/camera_box/18295766828140813622_6775_000_6795_000.parquet', 'training/camera_box/18311996733670569136_5880_000_5900_000.parquet', 'training/camera_box/18331713844982117868_2920_900_2940_900.parquet', 'training/camera_box/18380281348728758158_4820_000_4840_000.parquet', 'training/camera_box/183829460855609442_430_000_450_000.parquet', 'training/camera_box/18397511418934954408_620_000_640_000.parquet', 'training/camera_box/18403940760739364047_920_000_940_000.parquet', 'training/camera_box/18418533015310829002_480_000_500_000.parquet', 'training/camera_box/18441113814326864765_725_000_745_000.parquet', 'training/camera_box/1857377326903987736_80_000_100_000.parquet', 'training/camera_box/1863454917318776530_1040_000_1060_000.parquet', 'training/camera_box/1887497421568128425_94_000_114_000.parquet', 'training/camera_box/1891390218766838725_4980_000_5000_000.parquet', 'training/camera_box/1907783283319966632_3221_000_3241_000.parquet', 'training/camera_box/1918764220984209654_5680_000_5700_000.parquet', 'training/camera_box/1921439581405198744_1354_000_1374_000.parquet', 'training/camera_box/1926967104529174124_5214_780_5234_780.parquet', 'training/camera_box/1939881723297238689_6848_040_6868_040.parquet', 'training/camera_box/1940032764689855266_3690_210_3710_210.parquet', 'training/camera_box/1972128316147758939_2500_000_2520_000.parquet', 'training/camera_box/1988987616835805847_3500_000_3520_000.parquet', 'training/camera_box/1994338527906508494_3438_100_3458_100.parquet', 'training/camera_box/1999080374382764042_7094_100_7114_100.parquet', 'training/camera_box/200287570390499785_2102_000_2122_000.parquet', 'training/camera_box/2025831330434849594_1520_000_1540_000.parquet', 'training/camera_box/2036908808378190283_4340_000_4360_000.parquet', 'training/camera_box/204421859195625800_1080_000_1100_000.parquet', 'training/camera_box/2064489349728221803_3060_000_3080_000.parquet', 'training/camera_box/2075681641472425669_2635_000_2655_000.parquet', 'training/camera_box/207754730878135627_1140_000_1160_000.parquet', 'training/camera_box/2088865281951278665_4460_000_4480_000.parquet', 'training/camera_box/2101027554826767753_2504_580_2524_580.parquet', 'training/camera_box/2107164705125601090_3920_000_3940_000.parquet', 'training/camera_box/2114574223307001959_1163_280_1183_280.parquet', 'training/camera_box/2151482270865536784_900_000_920_000.parquet', 'training/camera_box/2206505463279484253_476_189_496_189.parquet', 'training/camera_box/2209007584159204953_2200_000_2220_000.parquet', 'training/camera_box/2217043033232259972_2720_000_2740_000.parquet', 'training/camera_box/2224716024428969146_1420_000_1440_000.parquet', 'training/camera_box/2259324582958830057_3767_030_3787_030.parquet', 'training/camera_box/2265177645248606981_2340_000_2360_000.parquet', 'training/camera_box/2273990870973289942_4009_680_4029_680.parquet', 'training/camera_box/2323851946122476774_7240_000_7260_000.parquet', 'training/camera_box/2330686858362435307_603_210_623_210.parquet', 'training/camera_box/2336233899565126347_1180_000_1200_000.parquet', 'training/camera_box/2342300897175196823_1179_360_1199_360.parquet', 'training/camera_box/2400780041057579262_660_000_680_000.parquet', 'training/camera_box/2415873247906962761_5460_000_5480_000.parquet', 'training/camera_box/2475623575993725245_400_000_420_000.parquet', 'training/camera_box/2508530288521370100_3385_660_3405_660.parquet', 'training/camera_box/2547899409721197155_1380_000_1400_000.parquet', 'training/camera_box/2555987917096562599_1620_000_1640_000.parquet', 'training/camera_box/2570264768774616538_860_000_880_000.parquet', 'training/camera_box/2577669988012459365_1640_000_1660_000.parquet', 'training/camera_box/2581599794006798586_2440_000_2460_000.parquet', 'training/camera_box/2590213596097851051_460_000_480_000.parquet', 'training/camera_box/2598465433001774398_740_670_760_670.parquet', 'training/camera_box/2607999228439188545_2960_000_2980_000.parquet', 'training/camera_box/2618605158242502527_1860_000_1880_000.parquet', 'training/camera_box/2656110181316327570_940_000_960_000.parquet', 'training/camera_box/2660301763960988190_3742_580_3762_580.parquet', 'training/camera_box/2670674176367830809_180_000_200_000.parquet', 'training/camera_box/2681180680221317256_1144_000_1164_000.parquet', 'training/camera_box/268278198029493143_1400_000_1420_000.parquet', 'training/camera_box/2684088316387726629_180_000_200_000.parquet', 'training/camera_box/2692887320656885771_2480_000_2500_000.parquet', 'training/camera_box/2698953791490960477_2660_000_2680_000.parquet', 'training/camera_box/2711351338963414257_1360_000_1380_000.parquet', 'training/camera_box/2739239662326039445_5890_320_5910_320.parquet', 'training/camera_box/2752216004511723012_260_000_280_000.parquet', 'training/camera_box/2791302832590946720_1900_000_1920_000.parquet', 'training/camera_box/2863984611797967753_3200_000_3220_000.parquet', 'training/camera_box/2895681525868621979_480_000_500_000.parquet', 'training/camera_box/2899357195020129288_3723_163_3743_163.parquet', 'training/camera_box/2899997824484054994_320_000_340_000.parquet', 'training/camera_box/2919021496271356282_2300_000_2320_000.parquet', 'training/camera_box/2922309829144504838_1840_000_1860_000.parquet', 'training/camera_box/2935377810101940676_300_000_320_000.parquet', 'training/camera_box/2961247865039433386_920_000_940_000.parquet', 'training/camera_box/2974991090366925955_4924_000_4944_000.parquet', 'training/camera_box/2975249314261309142_6540_000_6560_000.parquet', 'training/camera_box/3002379261592154728_2256_691_2276_691.parquet', 'training/camera_box/3031519073799366723_1140_000_1160_000.parquet', 'training/camera_box/3060057659029579482_420_000_440_000.parquet', 'training/camera_box/3068522656378006650_540_000_560_000.parquet', 'training/camera_box/3078075798413050298_890_370_910_370.parquet', 'training/camera_box/3112630089558008159_7280_000_7300_000.parquet', 'training/camera_box/3132521568089292927_2220_000_2240_000.parquet', 'training/camera_box/3132641021038352938_1937_160_1957_160.parquet', 'training/camera_box/3154510051521049916_7000_000_7020_000.parquet', 'training/camera_box/3156155872654629090_2474_780_2494_780.parquet', 'training/camera_box/3194871563717679715_4980_000_5000_000.parquet', 'training/camera_box/3195159706851203049_2763_790_2783_790.parquet', 'training/camera_box/3220249619779692045_505_000_525_000.parquet', 'training/camera_box/3224923476345749285_4480_000_4500_000.parquet', 'training/camera_box/3247914894323111613_1820_000_1840_000.parquet', 'training/camera_box/3270384983482134275_3220_000_3240_000.parquet', 'training/camera_box/3276301746183196185_436_450_456_450.parquet', 'training/camera_box/33101359476901423_6720_910_6740_910.parquet', 'training/camera_box/3338044015505973232_1804_490_1824_490.parquet', 'training/camera_box/3363533094480067586_1580_000_1600_000.parquet', 'training/camera_box/3364861183015885008_1720_000_1740_000.parquet', 'training/camera_box/3375636961848927657_1942_000_1962_000.parquet', 'training/camera_box/3385534893506316900_4252_000_4272_000.parquet', 'training/camera_box/3390120876390766963_2300_000_2320_000.parquet', 'training/camera_box/3417928259332148981_7018_550_7038_550.parquet', 'training/camera_box/3418007171190630157_3585_530_3605_530.parquet', 'training/camera_box/3425716115468765803_977_756_997_756.parquet', 'training/camera_box/3437741670889149170_1411_550_1431_550.parquet', 'training/camera_box/3441838785578020259_1300_000_1320_000.parquet', 'training/camera_box/3451017128488170637_5280_000_5300_000.parquet', 'training/camera_box/3461228720457810721_4511_120_4531_120.parquet', 'training/camera_box/3461811179177118163_1161_000_1181_000.parquet', 'training/camera_box/3490810581309970603_11125_000_11145_000.parquet', 'training/camera_box/3504776317009340435_6920_000_6940_000.parquet', 'training/camera_box/3543045673995761051_460_000_480_000.parquet', 'training/camera_box/3555170065073130842_451_000_471_000.parquet', 'training/camera_box/3563349510410371738_7465_000_7485_000.parquet', 'training/camera_box/3584210979358667442_2880_000_2900_000.parquet', 'training/camera_box/3591015878717398163_1381_280_1401_280.parquet', 'training/camera_box/3617043125954612277_240_000_260_000.parquet', 'training/camera_box/3635081602482786801_900_000_920_000.parquet', 'training/camera_box/3644145307034257093_3000_400_3020_400.parquet', 'training/camera_box/3657581213864582252_340_000_360_000.parquet', 'training/camera_box/3665329186611360820_2329_010_2349_010.parquet', 'training/camera_box/3698685523057788592_4303_630_4323_630.parquet', 'training/camera_box/3711598698808133144_2060_000_2080_000.parquet', 'training/camera_box/384975055665199088_4480_000_4500_000.parquet', 'training/camera_box/3872781118550194423_3654_670_3674_670.parquet', 'training/camera_box/3894883757914505116_1840_000_1860_000.parquet', 'training/camera_box/3908622028474148527_3480_000_3500_000.parquet', 'training/camera_box/3911646355261329044_580_000_600_000.parquet', 'training/camera_box/3919438171935923501_280_000_300_000.parquet', 'training/camera_box/3927294516406132977_792_740_812_740.parquet', 'training/camera_box/3928923269768424494_3060_000_3080_000.parquet', 'training/camera_box/3966447614090524826_320_000_340_000.parquet', 'training/camera_box/3988957004231180266_5566_500_5586_500.parquet', 'training/camera_box/4013698638848102906_7757_240_7777_240.parquet', 'training/camera_box/4017824591066644473_3000_000_3020_000.parquet', 'training/camera_box/4058410353286511411_3980_000_4000_000.parquet', 'training/camera_box/4114454788208078028_660_000_680_000.parquet', 'training/camera_box/4114548607314119333_2780_000_2800_000.parquet', 'training/camera_box/4138614210962611770_2459_360_2479_360.parquet', 'training/camera_box/4164064449185492261_400_000_420_000.parquet', 'training/camera_box/4167304237516228486_5720_000_5740_000.parquet', 'training/camera_box/4191035366928259953_1732_708_1752_708.parquet', 'training/camera_box/4266984864799709257_720_000_740_000.parquet', 'training/camera_box/4277109506993614243_1648_000_1668_000.parquet', 'training/camera_box/4292360793125812833_3080_000_3100_000.parquet', 'training/camera_box/4295449061847708198_3769_000_3789_000.parquet', 'training/camera_box/4305539677513798673_2200_000_2220_000.parquet', 'training/camera_box/4323857429732097807_1005_000_1025_000.parquet', 'training/camera_box/4324227028219935045_1520_000_1540_000.parquet', 'training/camera_box/4337887720320812223_1857_930_1877_930.parquet', 'training/camera_box/4348478035380346090_1000_000_1020_000.parquet', 'training/camera_box/4380865029019172232_480_000_500_000.parquet', 'training/camera_box/4384676699661561426_1662_670_1682_670.parquet', 'training/camera_box/4392459808686681511_5006_200_5026_200.parquet', 'training/camera_box/4414235478445376689_2020_000_2040_000.parquet', 'training/camera_box/4427374597960783085_4168_000_4188_000.parquet', 'training/camera_box/4447423683538547117_536_022_556_022.parquet', 'training/camera_box/4457475194088194008_3100_000_3120_000.parquet', 'training/camera_box/4458730539804900192_535_000_555_000.parquet', 'training/camera_box/4468278022208380281_455_820_475_820.parquet', 'training/camera_box/4487677815262010875_4940_000_4960_000.parquet', 'training/camera_box/4537254579383578009_3820_000_3840_000.parquet', 'training/camera_box/4546515828974914709_922_040_942_040.parquet', 'training/camera_box/454855130179746819_4580_000_4600_000.parquet', 'training/camera_box/4575961016807404107_880_000_900_000.parquet', 'training/camera_box/4604173119409817302_2820_000_2840_000.parquet', 'training/camera_box/4641822195449131669_380_000_400_000.parquet', 'training/camera_box/4655005625668154134_560_000_580_000.parquet', 'training/camera_box/4672649953433758614_2700_000_2720_000.parquet', 'training/camera_box/4702302448560822815_927_380_947_380.parquet', 'training/camera_box/4723255145958809564_741_350_761_350.parquet', 'training/camera_box/4733704239941053266_960_000_980_000.parquet', 'training/camera_box/473735159277431842_630_095_650_095.parquet', 'training/camera_box/4747171543583769736_425_544_445_544.parquet', 'training/camera_box/4781039348168995891_280_000_300_000.parquet', 'training/camera_box/4784689467343773295_1700_000_1720_000.parquet', 'training/camera_box/4808842546020773462_2310_000_2330_000.parquet', 'training/camera_box/4880464427217074989_4680_000_4700_000.parquet', 'training/camera_box/4898453812993984151_199_000_219_000.parquet', 'training/camera_box/4916527289027259239_5180_000_5200_000.parquet', 'training/camera_box/4931036732523207946_10755_600_10775_600.parquet', 'training/camera_box/4960194482476803293_4575_960_4595_960.parquet', 'training/camera_box/4967385055468388261_720_000_740_000.parquet', 'training/camera_box/4971817041565280127_780_500_800_500.parquet', 'training/camera_box/4986495627634617319_2980_000_3000_000.parquet', 'training/camera_box/5005815668926224220_2194_330_2214_330.parquet', 'training/camera_box/5065468048522043429_2080_000_2100_000.parquet', 'training/camera_box/5072733804607719382_5807_570_5827_570.parquet', 'training/camera_box/5076950993715916459_3265_000_3285_000.parquet', 'training/camera_box/5083516879091912247_3600_000_3620_000.parquet', 'training/camera_box/5100136784230856773_2517_300_2537_300.parquet', 'training/camera_box/5121298817582693383_4882_000_4902_000.parquet', 'training/camera_box/5127440443725457056_2921_340_2941_340.parquet', 'training/camera_box/5129792222840846899_2145_000_2165_000.parquet', 'training/camera_box/5144634012371033641_920_000_940_000.parquet', 'training/camera_box/514687114615102902_6240_000_6260_000.parquet', 'training/camera_box/5189543236187113739_2929_000_2949_000.parquet', 'training/camera_box/5200186706748209867_80_000_100_000.parquet', 'training/camera_box/5214491533551928383_1918_780_1938_780.parquet', 'training/camera_box/5215905243049326497_20_000_40_000.parquet', 'training/camera_box/5222336716599194110_8940_000_8960_000.parquet', 'training/camera_box/5268267801500934740_2160_000_2180_000.parquet', 'training/camera_box/5328596138024684667_2180_000_2200_000.parquet', 'training/camera_box/5349843997395815699_1040_000_1060_000.parquet', 'training/camera_box/5423607012724948145_3900_000_3920_000.parquet', 'training/camera_box/54293441958058219_2335_200_2355_200.parquet', 'training/camera_box/5446766520699850364_157_000_177_000.parquet', 'training/camera_box/5451442719480728410_5660_000_5680_000.parquet', 'training/camera_box/5458962501360340931_3140_000_3160_000.parquet', 'training/camera_box/5459113827443493510_380_000_400_000.parquet', 'training/camera_box/5468483805452515080_4540_000_4560_000.parquet', 'training/camera_box/5495302100265783181_80_000_100_000.parquet', 'training/camera_box/550171902340535682_2640_000_2660_000.parquet', 'training/camera_box/5525943706123287091_4100_000_4120_000.parquet', 'training/camera_box/5526948896847934178_1039_000_1059_000.parquet', 'training/camera_box/5572351910320677279_3980_000_4000_000.parquet', 'training/camera_box/5576800480528461086_1000_000_1020_000.parquet', 'training/camera_box/5592790652933523081_667_770_687_770.parquet', 'training/camera_box/5602237689147924753_760_000_780_000.parquet', 'training/camera_box/5614471637960666943_6955_675_6975_675.parquet', 'training/camera_box/5691636094473163491_6889_470_6909_470.parquet', 'training/camera_box/5707035891877485758_2573_000_2593_000.parquet', 'training/camera_box/57132587708734824_1020_000_1040_000.parquet', 'training/camera_box/5718418936283106890_1200_000_1220_000.parquet', 'training/camera_box/5731414711882954246_1990_250_2010_250.parquet', 'training/camera_box/574762194520856849_1660_000_1680_000.parquet', 'training/camera_box/575209926587730008_3880_000_3900_000.parquet', 'training/camera_box/580580436928611523_792_500_812_500.parquet', 'training/camera_box/5835049423600303130_180_000_200_000.parquet', 'training/camera_box/5846229052615948000_2120_000_2140_000.parquet', 'training/camera_box/5861181219697109969_1732_000_1752_000.parquet', 'training/camera_box/5870668058140631588_1180_000_1200_000.parquet', 'training/camera_box/5871373218498789285_3360_000_3380_000.parquet', 'training/camera_box/5973788713714489548_2179_770_2199_770.parquet', 'training/camera_box/6037403592521973757_3260_000_3280_000.parquet', 'training/camera_box/6038200663843287458_283_000_303_000.parquet', 'training/camera_box/6104545334635651714_2780_000_2800_000.parquet', 'training/camera_box/6128311556082453976_2520_000_2540_000.parquet', 'training/camera_box/6142170920525844857_2080_000_2100_000.parquet', 'training/camera_box/6148393791213790916_4960_000_4980_000.parquet', 'training/camera_box/6150191934425217908_2747_800_2767_800.parquet', 'training/camera_box/616184888931414205_2020_000_2040_000.parquet', 'training/camera_box/6172160122069514875_6866_560_6886_560.parquet', 'training/camera_box/6177474146670383260_4200_000_4220_000.parquet', 'training/camera_box/6193696614129429757_2420_000_2440_000.parquet', 'training/camera_box/6207195415812436731_805_000_825_000.parquet', 'training/camera_box/6229371035421550389_2220_000_2240_000.parquet', 'training/camera_box/6234738900256277070_320_000_340_000.parquet', 'training/camera_box/6242822583398487496_73_000_93_000.parquet', 'training/camera_box/6280779486809627179_760_000_780_000.parquet', 'training/camera_box/6290334089075942139_1340_000_1360_000.parquet', 'training/camera_box/6303332643743862144_5600_000_5620_000.parquet', 'training/camera_box/634378055350569306_280_000_300_000.parquet', 'training/camera_box/6350707596465488265_2393_900_2413_900.parquet', 'training/camera_box/6378340771722906187_1120_000_1140_000.parquet', 'training/camera_box/6386303598440879824_1520_000_1540_000.parquet', 'training/camera_box/6390847454531723238_6000_000_6020_000.parquet', 'training/camera_box/6410495600874495447_5287_500_5307_500.parquet', 'training/camera_box/6417523992887712896_1180_000_1200_000.parquet', 'training/camera_box/6433401807220119698_4560_000_4580_000.parquet', 'training/camera_box/6456165750159303330_1770_080_1790_080.parquet', 'training/camera_box/6559997992780479765_1039_000_1059_000.parquet', 'training/camera_box/6561206763751799279_2348_600_2368_600.parquet', 'training/camera_box/6606076833441976341_1340_000_1360_000.parquet', 'training/camera_box/6625150143263637936_780_000_800_000.parquet', 'training/camera_box/6638427309837298695_220_000_240_000.parquet', 'training/camera_box/6674547510992884047_1560_000_1580_000.parquet', 'training/camera_box/6694593639447385226_1040_000_1060_000.parquet', 'training/camera_box/6722602826685649765_2280_000_2300_000.parquet', 'training/camera_box/6740694556948402155_3040_000_3060_000.parquet', 'training/camera_box/6742105013468660925_3645_000_3665_000.parquet', 'training/camera_box/6763005717101083473_3880_000_3900_000.parquet', 'training/camera_box/6771783338734577946_6105_840_6125_840.parquet', 'training/camera_box/6771922013310347577_4249_290_4269_290.parquet', 'training/camera_box/6791933003490312185_2607_000_2627_000.parquet', 'training/camera_box/6792191642931213648_1522_000_1542_000.parquet', 'training/camera_box/6799055159715949496_2503_000_2523_000.parquet', 'training/camera_box/6813611334239274394_535_000_555_000.parquet', 'training/camera_box/6814918034011049245_134_170_154_170.parquet', 'training/camera_box/6904827860701329567_960_000_980_000.parquet', 'training/camera_box/6935841224766931310_2770_310_2790_310.parquet', 'training/camera_box/7000927478052605119_1052_330_1072_330.parquet', 'training/camera_box/7007702792982559244_4400_000_4420_000.parquet', 'training/camera_box/7019385869759035132_4270_850_4290_850.parquet', 'training/camera_box/7038362761309539946_4207_130_4227_130.parquet', 'training/camera_box/7089765864827567005_1020_000_1040_000.parquet', 'training/camera_box/7101099554331311287_5320_000_5340_000.parquet', 'training/camera_box/7120839653809570957_1060_000_1080_000.parquet', 'training/camera_box/7187601925763611197_4384_300_4404_300.parquet', 'training/camera_box/7189996641300362130_3360_000_3380_000.parquet', 'training/camera_box/7239123081683545077_4044_370_4064_370.parquet', 'training/camera_box/7290499689576448085_3960_000_3980_000.parquet', 'training/camera_box/7313718849795510302_280_000_300_000.parquet', 'training/camera_box/7324192826315818756_620_000_640_000.parquet', 'training/camera_box/7331965392247645851_1005_940_1025_940.parquet', 'training/camera_box/7344536712079322768_1360_000_1380_000.parquet', 'training/camera_box/7373597180370847864_6020_000_6040_000.parquet', 'training/camera_box/744006317457557752_2080_000_2100_000.parquet', 'training/camera_box/7440437175443450101_94_000_114_000.parquet', 'training/camera_box/7447927974619745860_820_000_840_000.parquet', 'training/camera_box/7458568461947999548_700_000_720_000.parquet', 'training/camera_box/7466751345307077932_585_000_605_000.parquet', 'training/camera_box/7517545172000568481_2325_000_2345_000.parquet', 'training/camera_box/7543690094688232666_4945_350_4965_350.parquet', 'training/camera_box/7554208726220851641_380_000_400_000.parquet', 'training/camera_box/7566697458525030390_1440_000_1460_000.parquet', 'training/camera_box/759208896257112298_184_000_204_000.parquet', 'training/camera_box/7643597152739318064_3979_000_3999_000.parquet', 'training/camera_box/7670103006580549715_360_000_380_000.parquet', 'training/camera_box/7727809428114700355_2960_000_2980_000.parquet', 'training/camera_box/7741361323303179462_1230_310_1250_310.parquet', 'training/camera_box/7761658966964621355_1000_000_1020_000.parquet', 'training/camera_box/7768517933263896280_1120_000_1140_000.parquet', 'training/camera_box/7799671367768576481_260_000_280_000.parquet', 'training/camera_box/7837172662136597262_1140_000_1160_000.parquet', 'training/camera_box/7850521592343484282_4576_090_4596_090.parquet', 'training/camera_box/7861168750216313148_1305_290_1325_290.parquet', 'training/camera_box/786582060300383668_2944_060_2964_060.parquet', 'training/camera_box/7885161619764516373_289_280_309_280.parquet', 'training/camera_box/7890808800227629086_6162_700_6182_700.parquet', 'training/camera_box/7912728502266478772_1202_200_1222_200.parquet', 'training/camera_box/7920326980177504058_2454_310_2474_310.parquet', 'training/camera_box/7921369793217703814_1060_000_1080_000.parquet', 'training/camera_box/7934693355186591404_73_000_93_000.parquet', 'training/camera_box/7940496892864900543_4783_540_4803_540.parquet', 'training/camera_box/7950869827763684964_8685_000_8705_000.parquet', 'training/camera_box/7996500550445322129_2333_304_2353_304.parquet', 'training/camera_box/7999729608823422351_1483_600_1503_600.parquet', 'training/camera_box/8031709558315183746_491_220_511_220.parquet', 'training/camera_box/80599353855279550_2604_480_2624_480.parquet', 'training/camera_box/809159138284604331_3355_840_3375_840.parquet', 'training/camera_box/8099457465580871094_4764_380_4784_380.parquet', 'training/camera_box/8120716761799622510_862_120_882_120.parquet', 'training/camera_box/8123909110537564436_7220_000_7240_000.parquet', 'training/camera_box/8126606965364870152_985_090_1005_090.parquet', 'training/camera_box/8148053503558757176_4240_000_4260_000.parquet', 'training/camera_box/8158128948493708501_7477_230_7497_230.parquet', 'training/camera_box/8207498713503609786_3005_450_3025_450.parquet', 'training/camera_box/8222208340265444449_1400_000_1420_000.parquet', 'training/camera_box/8323028393459455521_2105_000_2125_000.parquet', 'training/camera_box/8327447186504415549_5200_000_5220_000.parquet', 'training/camera_box/8345535260120974350_1980_000_2000_000.parquet', 'training/camera_box/8399876466981146110_2560_000_2580_000.parquet', 'training/camera_box/8424573439186068308_3460_000_3480_000.parquet', 'training/camera_box/8454755173123314088_3202_000_3222_000.parquet', 'training/camera_box/8487809726845917818_4779_870_4799_870.parquet', 'training/camera_box/8494653877777333091_540_000_560_000.parquet', 'training/camera_box/8513241054672631743_115_960_135_960.parquet', 'training/camera_box/8543158371164842559_4131_530_4151_530.parquet', 'training/camera_box/857746300435138193_1869_000_1889_000.parquet', 'training/camera_box/8582923946352460474_2360_000_2380_000.parquet', 'training/camera_box/8603916601243187272_540_000_560_000.parquet', 'training/camera_box/8633296376655504176_514_000_534_000.parquet', 'training/camera_box/8659567063494726263_2480_000_2500_000.parquet', 'training/camera_box/8663006751916427679_1520_000_1540_000.parquet', 'training/camera_box/8700094808505895018_7272_488_7292_488.parquet', 'training/camera_box/8722413665055769182_2840_000_2860_000.parquet', 'training/camera_box/8745106945249251942_1207_000_1227_000.parquet', 'training/camera_box/8763126149209091146_1843_320_1863_320.parquet', 'training/camera_box/8796914080594559459_4284_170_4304_170.parquet', 'training/camera_box/8806931859563747931_1160_000_1180_000.parquet', 'training/camera_box/8811210064692949185_3066_770_3086_770.parquet', 'training/camera_box/8822503619482926605_1080_000_1100_000.parquet', 'training/camera_box/8859409804103625626_2760_000_2780_000.parquet', 'training/camera_box/8938046348067069210_3800_000_3820_000.parquet', 'training/camera_box/8965112222692085704_4860_000_4880_000.parquet', 'training/camera_box/898816942644052013_20_000_40_000.parquet', 'training/camera_box/9015546800913584551_4431_180_4451_180.parquet', 'training/camera_box/9016865488168499365_4780_000_4800_000.parquet', 'training/camera_box/9058545212382992974_5236_200_5256_200.parquet', 'training/camera_box/9062286840846668802_31_000_51_000.parquet', 'training/camera_box/9105380625923157726_4420_000_4440_000.parquet', 'training/camera_box/9110125340505914899_380_000_400_000.parquet', 'training/camera_box/9123867659877264673_3569_950_3589_950.parquet', 'training/camera_box/912496333665446669_1680_000_1700_000.parquet', 'training/camera_box/913274067754539885_913_000_933_000.parquet', 'training/camera_box/9142545919543484617_86_000_106_000.parquet', 'training/camera_box/915935412356143375_1740_030_1760_030.parquet', 'training/camera_box/9175749307679169289_5933_260_5953_260.parquet', 'training/camera_box/9179922063516210200_157_000_177_000.parquet', 'training/camera_box/9250355398701464051_4166_132_4186_132.parquet', 'training/camera_box/9288629315134424745_4360_000_4380_000.parquet', 'training/camera_box/9295161125729168140_1270_000_1290_000.parquet', 'training/camera_box/9311322119128915594_5285_000_5305_000.parquet', 'training/camera_box/9320169289978396279_1040_000_1060_000.parquet', 'training/camera_box/9325580606626376787_4509_140_4529_140.parquet', 'training/camera_box/9334364225104959137_661_000_681_000.parquet', 'training/camera_box/9350921499281634194_2403_251_2423_251.parquet', 'training/camera_box/9385013624094020582_2547_650_2567_650.parquet', 'training/camera_box/9415086857375798767_4760_000_4780_000.parquet', 'training/camera_box/9465500459680839281_1100_000_1120_000.parquet', 'training/camera_box/9509506420470671704_4049_100_4069_100.parquet', 'training/camera_box/9521653920958139982_940_000_960_000.parquet', 'training/camera_box/9529958888589376527_640_000_660_000.parquet', 'training/camera_box/9547911055204230158_1567_950_1587_950.parquet', 'training/camera_box/9568394837328971633_466_365_486_365.parquet', 'training/camera_box/9653249092275997647_980_000_1000_000.parquet', 'training/camera_box/9654060644653474834_3905_000_3925_000.parquet', 'training/camera_box/9696413700515401320_1690_000_1710_000.parquet', 'training/camera_box/972142630887801133_642_740_662_740.parquet', 'training/camera_box/9747453753779078631_940_000_960_000.parquet', 'training/camera_box/9758342966297863572_875_230_895_230.parquet', 'training/camera_box/9820553434532681355_2820_000_2840_000.parquet', 'training/camera_box/9907794657177651763_1126_570_1146_570.parquet', 'training/camera_box/990914685337955114_980_000_1000_000.parquet', 'training/camera_box/9985243312780923024_3049_720_3069_720.parquet', 'training/camera_box/_metadata', 'training/camera_image/10017090168044687777_6380_000_6400_000.parquet', 'training/camera_image/10023947602400723454_1120_000_1140_000.parquet', 'training/camera_image/1005081002024129653_5313_150_5333_150.parquet', 'training/camera_image/10061305430875486848_1080_000_1100_000.parquet', 'training/camera_image/10072140764565668044_4060_000_4080_000.parquet', 'training/camera_image/10072231702153043603_5725_000_5745_000.parquet', 'training/camera_image/10075870402459732738_1060_000_1080_000.parquet', 'training/camera_image/10082223140073588526_6140_000_6160_000.parquet', 'training/camera_image/10094743350625019937_3420_000_3440_000.parquet', 'training/camera_image/10096619443888687526_2820_000_2840_000.parquet', 'training/camera_image/10107710434105775874_760_000_780_000.parquet', 'training/camera_image/10153695247769592104_787_000_807_000.parquet', 'training/camera_image/10206293520369375008_2796_800_2816_800.parquet', 'training/camera_image/10212406498497081993_5300_000_5320_000.parquet', 'training/camera_image/1022527355599519580_4866_960_4886_960.parquet', 'training/camera_image/10226164909075980558_180_000_200_000.parquet', 'training/camera_image/10231929575853664160_1160_000_1180_000.parquet', 'training/camera_image/10235335145367115211_5420_000_5440_000.parquet', 'training/camera_image/10241508783381919015_2889_360_2909_360.parquet', 'training/camera_image/10275144660749673822_5755_561_5775_561.parquet', 'training/camera_image/10327752107000040525_1120_000_1140_000.parquet', 'training/camera_image/10391312872392849784_4099_400_4119_400.parquet', 'training/camera_image/10444454289801298640_4360_000_4380_000.parquet', 'training/camera_image/10455472356147194054_1560_000_1580_000.parquet', 'training/camera_image/10485926982439064520_4980_000_5000_000.parquet', 'training/camera_image/10498013744573185290_1240_000_1260_000.parquet', 'training/camera_image/10500357041547037089_1474_800_1494_800.parquet', 'training/camera_image/10517728057304349900_3360_000_3380_000.parquet', 'training/camera_image/1051897962568538022_238_170_258_170.parquet', 'training/camera_image/10526338824408452410_5714_660_5734_660.parquet', 'training/camera_image/10584247114982259878_490_000_510_000.parquet', 'training/camera_image/10588771936253546636_2300_000_2320_000.parquet', 'training/camera_image/10596949720463106554_1933_530_1953_530.parquet', 'training/camera_image/10599748131695282446_1380_000_1400_000.parquet', 'training/camera_image/10625026498155904401_200_000_220_000.parquet', 'training/camera_image/10664823084372323928_4360_000_4380_000.parquet', 'training/camera_image/10676267326664322837_311_180_331_180.parquet', 'training/camera_image/10723911392655396041_860_000_880_000.parquet', 'training/camera_image/10724020115992582208_7660_400_7680_400.parquet', 'training/camera_image/10734565072045778791_440_000_460_000.parquet', 'training/camera_image/10750135302241325253_180_000_200_000.parquet', 'training/camera_image/10770759614217273359_1465_000_1485_000.parquet', 'training/camera_image/10786629299947667143_3440_000_3460_000.parquet', 'training/camera_image/10793018113277660068_2714_540_2734_540.parquet', 'training/camera_image/1083056852838271990_4080_000_4100_000.parquet', 'training/camera_image/10876852935525353526_1640_000_1660_000.parquet', 'training/camera_image/10923963890428322967_1445_000_1465_000.parquet', 'training/camera_image/10927752430968246422_4940_000_4960_000.parquet', 'training/camera_image/10940952441434390507_1888_710_1908_710.parquet', 'training/camera_image/10963653239323173269_1924_000_1944_000.parquet', 'training/camera_image/10964956617027590844_1584_680_1604_680.parquet', 'training/camera_image/10975280749486260148_940_000_960_000.parquet', 'training/camera_image/11004685739714500220_2300_000_2320_000.parquet', 'training/camera_image/11017034898130016754_697_830_717_830.parquet', 'training/camera_image/11060291335850384275_3761_210_3781_210.parquet', 'training/camera_image/11070802577416161387_740_000_760_000.parquet', 'training/camera_image/11076364019363412893_1711_000_1731_000.parquet', 'training/camera_image/11113047206980595400_2560_000_2580_000.parquet', 'training/camera_image/11119453952284076633_1369_940_1389_940.parquet', 'training/camera_image/11126313430116606120_1439_990_1459_990.parquet', 'training/camera_image/11139647661584646830_5470_000_5490_000.parquet', 'training/camera_image/11183906854663518829_2294_000_2314_000.parquet', 'training/camera_image/11199484219241918646_2810_030_2830_030.parquet', 'training/camera_image/11219370372259322863_5320_000_5340_000.parquet', 'training/camera_image/11236550977973464715_3620_000_3640_000.parquet', 'training/camera_image/11252086830380107152_1540_000_1560_000.parquet', 'training/camera_image/11318901554551149504_520_000_540_000.parquet', 'training/camera_image/11343624116265195592_5910_530_5930_530.parquet', 'training/camera_image/11355519273066561009_5323_000_5343_000.parquet', 'training/camera_image/11379226583756500423_6230_810_6250_810.parquet', 'training/camera_image/11388947676680954806_5427_320_5447_320.parquet', 'training/camera_image/11392401368700458296_1086_429_1106_429.parquet', 'training/camera_image/11454085070345530663_1905_000_1925_000.parquet', 'training/camera_image/1146261869236413282_1680_000_1700_000.parquet', 'training/camera_image/11486225968269855324_92_000_112_000.parquet', 'training/camera_image/11489533038039664633_4820_000_4840_000.parquet', 'training/camera_image/11566385337103696871_5740_000_5760_000.parquet', 'training/camera_image/11588853832866011756_2184_462_2204_462.parquet', 'training/camera_image/11623618970700582562_2840_367_2860_367.parquet', 'training/camera_image/11674150664140226235_680_000_700_000.parquet', 'training/camera_image/11718898130355901268_2300_000_2320_000.parquet', 'training/camera_image/1172406780360799916_1660_000_1680_000.parquet', 'training/camera_image/11799592541704458019_9828_750_9848_750.parquet', 'training/camera_image/11839652018869852123_2565_000_2585_000.parquet', 'training/camera_image/11846396154240966170_3540_000_3560_000.parquet', 'training/camera_image/11847506886204460250_1640_000_1660_000.parquet', 'training/camera_image/1191788760630624072_3880_000_3900_000.parquet', 'training/camera_image/11918003324473417938_1400_000_1420_000.parquet', 'training/camera_image/11925224148023145510_1040_000_1060_000.parquet', 'training/camera_image/11928449532664718059_1200_000_1220_000.parquet', 'training/camera_image/11940460932056521663_1760_000_1780_000.parquet', 'training/camera_image/11967272535264406807_580_000_600_000.parquet', 'training/camera_image/11971497357570544465_1200_000_1220_000.parquet', 'training/camera_image/12012663867578114640_820_000_840_000.parquet', 'training/camera_image/12027892938363296829_4086_280_4106_280.parquet', 'training/camera_image/1208303279778032257_1360_000_1380_000.parquet', 'training/camera_image/12161824480686739258_1813_380_1833_380.parquet', 'training/camera_image/12174529769287588121_3848_440_3868_440.parquet', 'training/camera_image/12179768245749640056_5561_070_5581_070.parquet', 'training/camera_image/12200383401366682847_2552_140_2572_140.parquet', 'training/camera_image/12208410199966712301_4480_000_4500_000.parquet', 'training/camera_image/12212767626682531382_2100_150_2120_150.parquet', 'training/camera_image/12251442326766052580_1840_000_1860_000.parquet', 'training/camera_image/12257951615341726923_2196_690_2216_690.parquet', 'training/camera_image/12273083120751993429_7285_000_7305_000.parquet', 'training/camera_image/12281202743097872109_3387_370_3407_370.parquet', 'training/camera_image/12303641360375776820_4378_000_4398_000.parquet', 'training/camera_image/12304907743194762419_1522_000_1542_000.parquet', 'training/camera_image/1231623110026745648_480_000_500_000.parquet', 'training/camera_image/12321865437129862911_3480_000_3500_000.parquet', 'training/camera_image/12337317986514501583_5346_260_5366_260.parquet', 'training/camera_image/12339284075576056695_1920_000_1940_000.parquet', 'training/camera_image/12365808668068790137_2920_000_2940_000.parquet', 'training/camera_image/12473470522729755785_4000_000_4020_000.parquet', 'training/camera_image/12505030131868863688_1740_000_1760_000.parquet', 'training/camera_image/12511696717465549299_4209_630_4229_630.parquet', 'training/camera_image/12551320916264703416_1420_000_1440_000.parquet', 'training/camera_image/1255991971750044803_1700_000_1720_000.parquet', 'training/camera_image/12566399510596872945_2078_320_2098_320.parquet', 'training/camera_image/12581809607914381746_1219_547_1239_547.parquet', 'training/camera_image/1265122081809781363_2879_530_2899_530.parquet', 'training/camera_image/12681651284932598380_3585_280_3605_280.parquet', 'training/camera_image/12844373518178303651_2140_000_2160_000.parquet', 'training/camera_image/12848519977617081063_2488_000_2508_000.parquet', 'training/camera_image/12856053589272984699_1020_000_1040_000.parquet', 'training/camera_image/12858738411692807959_2865_000_2885_000.parquet', 'training/camera_image/12879640240483815315_5852_605_5872_605.parquet', 'training/camera_image/12894036666871194216_787_000_807_000.parquet', 'training/camera_image/12896629105712361308_4520_000_4540_000.parquet', 'training/camera_image/12900898236728415654_1906_686_1926_686.parquet', 'training/camera_image/12956664801249730713_2840_000_2860_000.parquet', 'training/camera_image/12974838039736660070_4586_990_4606_990.parquet', 'training/camera_image/12979718722917614085_1039_490_1059_490.parquet', 'training/camera_image/12988666890418932775_5516_730_5536_730.parquet', 'training/camera_image/13005562150845909564_3141_360_3161_360.parquet', 'training/camera_image/13033853066564892960_1040_000_1060_000.parquet', 'training/camera_image/1305342127382455702_3720_000_3740_000.parquet', 'training/camera_image/1306458236359471795_2524_330_2544_330.parquet', 'training/camera_image/13078892192456386060_2960_000_2980_000.parquet', 'training/camera_image/13085453465864374565_2040_000_2060_000.parquet', 'training/camera_image/13142190313715360621_3888_090_3908_090.parquet', 'training/camera_image/13145971249179441231_1640_000_1660_000.parquet', 'training/camera_image/13177337129001451839_9160_000_9180_000.parquet', 'training/camera_image/13181198025433053194_2620_770_2640_770.parquet', 'training/camera_image/13182548552824592684_4160_250_4180_250.parquet', 'training/camera_image/13186511704021307558_2000_000_2020_000.parquet', 'training/camera_image/13196796799137805454_3036_940_3056_940.parquet', 'training/camera_image/13207915841618107559_2980_000_3000_000.parquet', 'training/camera_image/13238419657658219864_4630_850_4650_850.parquet', 'training/camera_image/13254498462985394788_980_000_1000_000.parquet', 'training/camera_image/13258835835415292197_965_000_985_000.parquet', 'training/camera_image/13271285919570645382_5320_000_5340_000.parquet', 'training/camera_image/13310437789759009684_2645_000_2665_000.parquet', 'training/camera_image/13355317306876751663_2200_000_2220_000.parquet', 'training/camera_image/13363977648531075793_343_000_363_000.parquet', 'training/camera_image/13390791323468600062_6718_570_6738_570.parquet', 'training/camera_image/13402473631986525162_5700_000_5720_000.parquet', 'training/camera_image/13476374534576730229_240_000_260_000.parquet', 'training/camera_image/13506499849906169066_120_000_140_000.parquet', 'training/camera_image/13517115297021862252_2680_000_2700_000.parquet', 'training/camera_image/13519445614718437933_4060_000_4080_000.parquet', 'training/camera_image/1352150727715827110_3710_250_3730_250.parquet', 'training/camera_image/1357883579772440606_2365_000_2385_000.parquet', 'training/camera_image/13585809231635721258_1910_770_1930_770.parquet', 'training/camera_image/13619063687271391084_1519_680_1539_680.parquet', 'training/camera_image/13622747960068272448_1678_930_1698_930.parquet', 'training/camera_image/13629997314951696814_1207_000_1227_000.parquet', 'training/camera_image/13667377240304615855_500_000_520_000.parquet', 'training/camera_image/13679757109245957439_4167_170_4187_170.parquet', 'training/camera_image/13731697468004921673_4920_000_4940_000.parquet', 'training/camera_image/13807633218762107566_6625_000_6645_000.parquet', 'training/camera_image/13823509240483976870_1514_190_1534_190.parquet', 'training/camera_image/1382515516588059826_780_000_800_000.parquet', 'training/camera_image/13830510593707564159_5575_000_5595_000.parquet', 'training/camera_image/13840133134545942567_1060_000_1080_000.parquet', 'training/camera_image/13862220583747475906_1260_000_1280_000.parquet', 'training/camera_image/13909033332341079321_4007_930_4027_930.parquet', 'training/camera_image/13940755514149579648_821_157_841_157.parquet', 'training/camera_image/13944915979337652825_4260_668_4280_668.parquet', 'training/camera_image/13965460994524880649_2842_050_2862_050.parquet', 'training/camera_image/13984577671034960830_4545_000_4565_000.parquet', 'training/camera_image/14004546003548947884_2331_861_2351_861.parquet', 'training/camera_image/14018515129165961775_483_260_503_260.parquet', 'training/camera_image/14073491244121877213_4066_056_4086_056.parquet', 'training/camera_image/14073578965827700743_1564_000_1584_000.parquet', 'training/camera_image/14076089808269682731_54_730_74_730.parquet', 'training/camera_image/14098575914252965554_511_000_531_000.parquet', 'training/camera_image/14098605172844003779_5084_630_5104_630.parquet', 'training/camera_image/14106113060128637865_1200_000_1220_000.parquet', 'training/camera_image/141184560845819621_10582_560_10602_560.parquet', 'training/camera_image/14133920963894906769_1480_000_1500_000.parquet', 'training/camera_image/14143054494855609923_4529_100_4549_100.parquet', 'training/camera_image/1416654423768444853_2660_000_2680_000.parquet', 'training/camera_image/14183710428479823719_3140_000_3160_000.parquet', 'training/camera_image/14193044537086402364_534_000_554_000.parquet', 'training/camera_image/1422926405879888210_51_310_71_310.parquet', 'training/camera_image/14233522945839943589_100_000_120_000.parquet', 'training/camera_image/14250544550818363063_880_000_900_000.parquet', 'training/camera_image/14276116893664145886_1785_080_1805_080.parquet', 'training/camera_image/1432918953215186312_5101_320_5121_320.parquet', 'training/camera_image/14348136031422182645_3360_000_3380_000.parquet', 'training/camera_image/14358192009676582448_3396_400_3416_400.parquet', 'training/camera_image/14369250836076988112_7249_040_7269_040.parquet', 'training/camera_image/14388269713149187289_1994_280_2014_280.parquet', 'training/camera_image/14424804287031718399_1281_030_1301_030.parquet', 'training/camera_image/1442753028323350651_4065_000_4085_000.parquet', 'training/camera_image/14430914081327266277_6480_000_6500_000.parquet', 'training/camera_image/14466332043440571514_6530_560_6550_560.parquet', 'training/camera_image/14479353969865741728_2340_000_2360_000.parquet', 'training/camera_image/14503113925613619599_975_506_995_506.parquet', 'training/camera_image/14561791273891593514_2558_030_2578_030.parquet', 'training/camera_image/14619874262915043759_2801_090_2821_090.parquet', 'training/camera_image/14705303724557273004_3105_000_3125_000.parquet', 'training/camera_image/14734824171146590110_880_000_900_000.parquet', 'training/camera_image/1473681173028010305_1780_000_1800_000.parquet', 'training/camera_image/14742731916935095621_1325_000_1345_000.parquet', 'training/camera_image/14752341928540512649_4960_000_4980_000.parquet', 'training/camera_image/14753089714893635383_873_600_893_600.parquet', 'training/camera_image/14763701469114129880_2260_000_2280_000.parquet', 'training/camera_image/14766384747691229841_6315_730_6335_730.parquet', 'training/camera_image/14777753086917826209_4147_000_4167_000.parquet', 'training/camera_image/14791260641858988448_1018_000_1038_000.parquet', 'training/camera_image/14810689888487451189_720_000_740_000.parquet', 'training/camera_image/14818835630668820137_1780_000_1800_000.parquet', 'training/camera_image/14824622621331930560_2395_420_2415_420.parquet', 'training/camera_image/14830022845193837364_3488_060_3508_060.parquet', 'training/camera_image/14869732972903148657_2420_000_2440_000.parquet', 'training/camera_image/14940138913070850675_5755_330_5775_330.parquet', 'training/camera_image/14964131310266936779_3292_850_3312_850.parquet', 'training/camera_image/14964691552976940738_2219_229_2239_229.parquet', 'training/camera_image/15036582848618865396_3752_830_3772_830.parquet', 'training/camera_image/15053781258223091665_3192_117_3212_117.parquet', 'training/camera_image/15062351272945542584_5921_360_5941_360.parquet', 'training/camera_image/15090871771939393635_1266_320_1286_320.parquet', 'training/camera_image/15125792363972595336_4960_000_4980_000.parquet', 'training/camera_image/15166409572599113654_808_000_828_000.parquet', 'training/camera_image/15202102284304593700_1900_000_1920_000.parquet', 'training/camera_image/15221704733958986648_1400_000_1420_000.parquet', 'training/camera_image/15241656472211725662_2500_000_2520_000.parquet', 'training/camera_image/15265053588821562107_60_000_80_000.parquet', 'training/camera_image/15266427834976906738_1620_000_1640_000.parquet', 'training/camera_image/15270638100874320175_2720_000_2740_000.parquet', 'training/camera_image/15308653868652290306_460_000_480_000.parquet', 'training/camera_image/15331851695963211598_1620_000_1640_000.parquet', 'training/camera_image/15342828002152531464_1543_000_1563_000.parquet', 'training/camera_image/15349503153813328111_2160_000_2180_000.parquet', 'training/camera_image/15365821471737026848_1160_000_1180_000.parquet', 'training/camera_image/15367782110311024266_2103_310_2123_310.parquet', 'training/camera_image/15374821596407640257_3388_480_3408_480.parquet', 'training/camera_image/15379350264706417068_3120_000_3140_000.parquet', 'training/camera_image/15445436653637630344_3957_561_3977_561.parquet', 'training/camera_image/15448466074775525292_2920_000_2940_000.parquet', 'training/camera_image/15458436361042752328_3549_030_3569_030.parquet', 'training/camera_image/15482064737890453610_5180_000_5200_000.parquet', 'training/camera_image/15533468984793020049_800_000_820_000.parquet', 'training/camera_image/15535062863944567958_1100_000_1120_000.parquet', 'training/camera_image/15539619898625779290_760_000_780_000.parquet', 'training/camera_image/15550613280008674010_1780_000_1800_000.parquet', 'training/camera_image/15578655130939579324_620_000_640_000.parquet', 'training/camera_image/15628918650068847391_8077_670_8097_670.parquet', 'training/camera_image/15644354861949427452_3645_350_3665_350.parquet', 'training/camera_image/15646511153936256674_1620_000_1640_000.parquet', 'training/camera_image/15696964848687303249_4615_200_4635_200.parquet', 'training/camera_image/15717839202171538526_1124_920_1144_920.parquet', 'training/camera_image/15787777881771177481_8820_000_8840_000.parquet', 'training/camera_image/15795616688853411272_1245_000_1265_000.parquet', 'training/camera_image/15803855782190483017_1060_000_1080_000.parquet', 'training/camera_image/15832924468527961_1564_160_1584_160.parquet', 'training/camera_image/15834329472172048691_2956_760_2976_760.parquet', 'training/camera_image/15844593126368860820_3260_000_3280_000.parquet', 'training/camera_image/15857303257471811288_1840_000_1860_000.parquet', 'training/camera_image/15868625208244306149_4340_000_4360_000.parquet', 'training/camera_image/15882343134097151256_4820_000_4840_000.parquet', 'training/camera_image/15903184480576180688_3160_000_3180_000.parquet', 'training/camera_image/15903544160717261009_3961_870_3981_870.parquet', 'training/camera_image/15942468615931009553_1243_190_1263_190.parquet', 'training/camera_image/15943938987133888575_2767_300_2787_300.parquet', 'training/camera_image/16034875274658204340_240_000_260_000.parquet', 'training/camera_image/16042842363202855955_265_000_285_000.parquet', 'training/camera_image/16042886962142359737_1060_000_1080_000.parquet', 'training/camera_image/1605912288178321742_451_000_471_000.parquet', 'training/camera_image/16080705915014211452_620_000_640_000.parquet', 'training/camera_image/16087604685956889409_40_000_60_000.parquet', 'training/camera_image/16093022852977039323_2981_100_3001_100.parquet', 'training/camera_image/16102220208346880_1420_000_1440_000.parquet', 'training/camera_image/16105359875195888139_4420_000_4440_000.parquet', 'training/camera_image/16121633832852116614_240_000_260_000.parquet', 'training/camera_image/16153607877566142572_2262_000_2282_000.parquet', 'training/camera_image/16191439239940794174_2245_000_2265_000.parquet', 'training/camera_image/16202688197024602345_3818_820_3838_820.parquet', 'training/camera_image/16208935658045135756_4412_730_4432_730.parquet', 'training/camera_image/16224018017168210482_6353_500_6373_500.parquet', 'training/camera_image/16238753252899859750_1340_000_1360_000.parquet', 'training/camera_image/16262849101474060261_3459_585_3479_585.parquet', 'training/camera_image/16331619444570993520_1020_000_1040_000.parquet', 'training/camera_image/16336545122307923741_486_637_506_637.parquet', 'training/camera_image/16341778301681295961_178_800_198_800.parquet', 'training/camera_image/16345319168590318167_1420_000_1440_000.parquet', 'training/camera_image/16372013171456210875_5631_040_5651_040.parquet', 'training/camera_image/16388696051060074747_140_000_160_000.parquet', 'training/camera_image/16403578704435467513_5133_870_5153_870.parquet', 'training/camera_image/16435050660165962165_3635_310_3655_310.parquet', 'training/camera_image/16470190748368943792_4369_490_4389_490.parquet', 'training/camera_image/16473613811052081539_1060_000_1080_000.parquet', 'training/camera_image/16485056021060230344_1576_741_1596_741.parquet', 'training/camera_image/16504318334867223853_480_000_500_000.parquet', 'training/camera_image/16511546224219511043_6226_000_6246_000.parquet', 'training/camera_image/16534202648288984983_900_000_920_000.parquet', 'training/camera_image/16552287303455735122_7587_380_7607_380.parquet', 'training/camera_image/16561295363965082313_3720_000_3740_000.parquet', 'training/camera_image/16578409328451172992_3780_000_3800_000.parquet', 'training/camera_image/16600468011801266684_1500_000_1520_000.parquet', 'training/camera_image/16608525782988721413_100_000_120_000.parquet', 'training/camera_image/16625429321676352815_1543_860_1563_860.parquet', 'training/camera_image/16646360389507147817_3320_000_3340_000.parquet', 'training/camera_image/16646502593577530501_4878_080_4898_080.parquet', 'training/camera_image/16651261238721788858_2365_000_2385_000.parquet', 'training/camera_image/16652690380969095006_2580_000_2600_000.parquet', 'training/camera_image/16676202516797441395_2460_000_2480_000.parquet', 'training/camera_image/16676683078119047936_300_000_320_000.parquet', 'training/camera_image/16735938448970076374_1126_430_1146_430.parquet', 'training/camera_image/16793466851577046940_2800_000_2820_000.parquet', 'training/camera_image/16797668128356194527_2430_390_2450_390.parquet', 'training/camera_image/16801666784196221098_2480_000_2500_000.parquet', 'training/camera_image/16873108320324977627_780_000_800_000.parquet', 'training/camera_image/16911037681440249335_700_000_720_000.parquet', 'training/camera_image/169115044301335945_480_000_500_000.parquet', 'training/camera_image/16951470340360921766_2840_000_2860_000.parquet', 'training/camera_image/16977844994272847523_2140_000_2160_000.parquet', 'training/camera_image/17066133495361694802_1220_000_1240_000.parquet', 'training/camera_image/17144150788361379549_2720_000_2740_000.parquet', 'training/camera_image/17159836069183024120_640_000_660_000.parquet', 'training/camera_image/17160696560226550358_6229_820_6249_820.parquet', 'training/camera_image/17216329305659006368_4800_000_4820_000.parquet', 'training/camera_image/17270469718624587995_5202_030_5222_030.parquet', 'training/camera_image/17295069199227237940_3160_000_3180_000.parquet', 'training/camera_image/1730266523558914470_305_260_325_260.parquet', 'training/camera_image/17330200445788773877_2700_000_2720_000.parquet', 'training/camera_image/17342274091983078806_80_000_100_000.parquet', 'training/camera_image/17356174167372765800_1720_000_1740_000.parquet', 'training/camera_image/17364342162691622478_780_000_800_000.parquet', 'training/camera_image/1737018592744049492_1960_000_1980_000.parquet', 'training/camera_image/17386176497741125938_2180_000_2200_000.parquet', 'training/camera_image/17386718718413812426_1763_140_1783_140.parquet', 'training/camera_image/17388121177218499911_2520_000_2540_000.parquet', 'training/camera_image/17407069523496279950_4354_900_4374_900.parquet', 'training/camera_image/17437352085580560526_2120_000_2140_000.parquet', 'training/camera_image/17547795428359040137_5056_070_5076_070.parquet', 'training/camera_image/17552108427312284959_3200_000_3220_000.parquet', 'training/camera_image/17564868480517233150_3643_000_3663_000.parquet', 'training/camera_image/175830748773502782_1580_000_1600_000.parquet', 'training/camera_image/1758724094753801109_1251_037_1271_037.parquet', 'training/camera_image/17597174721305220109_178_000_198_000.parquet', 'training/camera_image/17601040886987343289_472_000_492_000.parquet', 'training/camera_image/17642771458376274038_2080_000_2100_000.parquet', 'training/camera_image/17647858901077503501_1500_000_1520_000.parquet', 'training/camera_image/17674974223808194792_8787_692_8807_692.parquet', 'training/camera_image/17677899007099302421_5911_000_5931_000.parquet', 'training/camera_image/1773696223367475365_1060_000_1080_000.parquet', 'training/camera_image/17750787536486427868_560_000_580_000.parquet', 'training/camera_image/17752423643206316420_920_850_940_850.parquet', 'training/camera_image/17759280403078053118_6060_580_6080_580.parquet', 'training/camera_image/17761959194352517553_5448_420_5468_420.parquet', 'training/camera_image/17778522338768131809_5920_000_5940_000.parquet', 'training/camera_image/17782258508241656695_1354_000_1374_000.parquet', 'training/camera_image/17790754307864212354_1520_000_1540_000.parquet', 'training/camera_image/17792522237954398691_2698_000_2718_000.parquet', 'training/camera_image/17818548625922145895_1372_430_1392_430.parquet', 'training/camera_image/17850487901509155700_9065_000_9085_000.parquet', 'training/camera_image/17874036087982478403_733_674_753_674.parquet', 'training/camera_image/17885096890374683162_755_580_775_580.parquet', 'training/camera_image/17902907331132202998_1564_000_1584_000.parquet', 'training/camera_image/17912777897400903477_2047_500_2067_500.parquet', 'training/camera_image/17941839888833418904_1240_000_1260_000.parquet', 'training/camera_image/17958696356648515477_1660_000_1680_000.parquet', 'training/camera_image/17959337482465423746_2840_000_2860_000.parquet', 'training/camera_image/17987556068410436875_520_610_540_610.parquet', 'training/camera_image/17993467596234560701_4940_000_4960_000.parquet', 'training/camera_image/1800857743596232165_1500_000_1520_000.parquet', 'training/camera_image/18025338595059503802_571_216_591_216.parquet', 'training/camera_image/18068531698704694137_920_000_940_000.parquet', 'training/camera_image/18096167044602516316_2360_000_2380_000.parquet', 'training/camera_image/18111897798871103675_320_000_340_000.parquet', 'training/camera_image/18136695827203527782_2860_000_2880_000.parquet', 'training/camera_image/18141076662151909970_2755_710_2775_710.parquet', 'training/camera_image/18233614482685846350_7060_000_7080_000.parquet', 'training/camera_image/18244334282518155052_2360_000_2380_000.parquet', 'training/camera_image/18286677872269962604_3520_000_3540_000.parquet', 'training/camera_image/18295766828140813622_6775_000_6795_000.parquet', 'training/camera_image/18311996733670569136_5880_000_5900_000.parquet', 'training/camera_image/18331713844982117868_2920_900_2940_900.parquet', 'training/camera_image/18380281348728758158_4820_000_4840_000.parquet', 'training/camera_image/183829460855609442_430_000_450_000.parquet', 'training/camera_image/18397511418934954408_620_000_640_000.parquet', 'training/camera_image/18403940760739364047_920_000_940_000.parquet', 'training/camera_image/18418533015310829002_480_000_500_000.parquet', 'training/camera_image/18441113814326864765_725_000_745_000.parquet', 'training/camera_image/1857377326903987736_80_000_100_000.parquet', 'training/camera_image/1863454917318776530_1040_000_1060_000.parquet', 'training/camera_image/1887497421568128425_94_000_114_000.parquet', 'training/camera_image/1891390218766838725_4980_000_5000_000.parquet', 'training/camera_image/1907783283319966632_3221_000_3241_000.parquet', 'training/camera_image/1918764220984209654_5680_000_5700_000.parquet', 'training/camera_image/1921439581405198744_1354_000_1374_000.parquet', 'training/camera_image/1926967104529174124_5214_780_5234_780.parquet', 'training/camera_image/1939881723297238689_6848_040_6868_040.parquet', 'training/camera_image/1940032764689855266_3690_210_3710_210.parquet', 'training/camera_image/1972128316147758939_2500_000_2520_000.parquet', 'training/camera_image/1988987616835805847_3500_000_3520_000.parquet', 'training/camera_image/1994338527906508494_3438_100_3458_100.parquet', 'training/camera_image/1999080374382764042_7094_100_7114_100.parquet', 'training/camera_image/200287570390499785_2102_000_2122_000.parquet', 'training/camera_image/2025831330434849594_1520_000_1540_000.parquet', 'training/camera_image/2036908808378190283_4340_000_4360_000.parquet', 'training/camera_image/204421859195625800_1080_000_1100_000.parquet', 'training/camera_image/2064489349728221803_3060_000_3080_000.parquet', 'training/camera_image/2075681641472425669_2635_000_2655_000.parquet', 'training/camera_image/207754730878135627_1140_000_1160_000.parquet', 'training/camera_image/2088865281951278665_4460_000_4480_000.parquet', 'training/camera_image/2101027554826767753_2504_580_2524_580.parquet', 'training/camera_image/2107164705125601090_3920_000_3940_000.parquet', 'training/camera_image/2114574223307001959_1163_280_1183_280.parquet', 'training/camera_image/2151482270865536784_900_000_920_000.parquet', 'training/camera_image/2206505463279484253_476_189_496_189.parquet', 'training/camera_image/2209007584159204953_2200_000_2220_000.parquet', 'training/camera_image/2217043033232259972_2720_000_2740_000.parquet', 'training/camera_image/2224716024428969146_1420_000_1440_000.parquet', 'training/camera_image/2259324582958830057_3767_030_3787_030.parquet', 'training/camera_image/2265177645248606981_2340_000_2360_000.parquet', 'training/camera_image/2273990870973289942_4009_680_4029_680.parquet', 'training/camera_image/2323851946122476774_7240_000_7260_000.parquet', 'training/camera_image/2330686858362435307_603_210_623_210.parquet', 'training/camera_image/2336233899565126347_1180_000_1200_000.parquet', 'training/camera_image/2342300897175196823_1179_360_1199_360.parquet', 'training/camera_image/2400780041057579262_660_000_680_000.parquet', 'training/camera_image/2415873247906962761_5460_000_5480_000.parquet', 'training/camera_image/2475623575993725245_400_000_420_000.parquet', 'training/camera_image/2508530288521370100_3385_660_3405_660.parquet', 'training/camera_image/2547899409721197155_1380_000_1400_000.parquet', 'training/camera_image/2555987917096562599_1620_000_1640_000.parquet', 'training/camera_image/2570264768774616538_860_000_880_000.parquet', 'training/camera_image/2577669988012459365_1640_000_1660_000.parquet', 'training/camera_image/2581599794006798586_2440_000_2460_000.parquet', 'training/camera_image/2590213596097851051_460_000_480_000.parquet', 'training/camera_image/2598465433001774398_740_670_760_670.parquet', 'training/camera_image/2607999228439188545_2960_000_2980_000.parquet', 'training/camera_image/2618605158242502527_1860_000_1880_000.parquet', 'training/camera_image/2656110181316327570_940_000_960_000.parquet', 'training/camera_image/2660301763960988190_3742_580_3762_580.parquet', 'training/camera_image/2670674176367830809_180_000_200_000.parquet', 'training/camera_image/2681180680221317256_1144_000_1164_000.parquet', 'training/camera_image/268278198029493143_1400_000_1420_000.parquet', 'training/camera_image/2684088316387726629_180_000_200_000.parquet', 'training/camera_image/2692887320656885771_2480_000_2500_000.parquet', 'training/camera_image/2698953791490960477_2660_000_2680_000.parquet', 'training/camera_image/2711351338963414257_1360_000_1380_000.parquet', 'training/camera_image/2739239662326039445_5890_320_5910_320.parquet', 'training/camera_image/2752216004511723012_260_000_280_000.parquet', 'training/camera_image/2791302832590946720_1900_000_1920_000.parquet', 'training/camera_image/2863984611797967753_3200_000_3220_000.parquet', 'training/camera_image/2895681525868621979_480_000_500_000.parquet', 'training/camera_image/2899357195020129288_3723_163_3743_163.parquet', 'training/camera_image/2899997824484054994_320_000_340_000.parquet', 'training/camera_image/2919021496271356282_2300_000_2320_000.parquet', 'training/camera_image/2922309829144504838_1840_000_1860_000.parquet', 'training/camera_image/2935377810101940676_300_000_320_000.parquet', 'training/camera_image/2961247865039433386_920_000_940_000.parquet', 'training/camera_image/2974991090366925955_4924_000_4944_000.parquet', 'training/camera_image/2975249314261309142_6540_000_6560_000.parquet', 'training/camera_image/3002379261592154728_2256_691_2276_691.parquet', 'training/camera_image/3031519073799366723_1140_000_1160_000.parquet', 'training/camera_image/3060057659029579482_420_000_440_000.parquet', 'training/camera_image/3068522656378006650_540_000_560_000.parquet', 'training/camera_image/3078075798413050298_890_370_910_370.parquet', 'training/camera_image/3112630089558008159_7280_000_7300_000.parquet', 'training/camera_image/3132521568089292927_2220_000_2240_000.parquet', 'training/camera_image/3132641021038352938_1937_160_1957_160.parquet', 'training/camera_image/3154510051521049916_7000_000_7020_000.parquet', 'training/camera_image/3156155872654629090_2474_780_2494_780.parquet', 'training/camera_image/3194871563717679715_4980_000_5000_000.parquet', 'training/camera_image/3195159706851203049_2763_790_2783_790.parquet', 'training/camera_image/3220249619779692045_505_000_525_000.parquet', 'training/camera_image/3224923476345749285_4480_000_4500_000.parquet', 'training/camera_image/3247914894323111613_1820_000_1840_000.parquet', 'training/camera_image/3270384983482134275_3220_000_3240_000.parquet', 'training/camera_image/3276301746183196185_436_450_456_450.parquet', 'training/camera_image/33101359476901423_6720_910_6740_910.parquet', 'training/camera_image/3338044015505973232_1804_490_1824_490.parquet', 'training/camera_image/3363533094480067586_1580_000_1600_000.parquet', 'training/camera_image/3364861183015885008_1720_000_1740_000.parquet', 'training/camera_image/3375636961848927657_1942_000_1962_000.parquet', 'training/camera_image/3385534893506316900_4252_000_4272_000.parquet', 'training/camera_image/3390120876390766963_2300_000_2320_000.parquet', 'training/camera_image/3417928259332148981_7018_550_7038_550.parquet', 'training/camera_image/3418007171190630157_3585_530_3605_530.parquet', 'training/camera_image/3425716115468765803_977_756_997_756.parquet', 'training/camera_image/3437741670889149170_1411_550_1431_550.parquet', 'training/camera_image/3441838785578020259_1300_000_1320_000.parquet', 'training/camera_image/3451017128488170637_5280_000_5300_000.parquet', 'training/camera_image/3461228720457810721_4511_120_4531_120.parquet', 'training/camera_image/3461811179177118163_1161_000_1181_000.parquet', 'training/camera_image/3490810581309970603_11125_000_11145_000.parquet', 'training/camera_image/3504776317009340435_6920_000_6940_000.parquet', 'training/camera_image/3543045673995761051_460_000_480_000.parquet', 'training/camera_image/3555170065073130842_451_000_471_000.parquet', 'training/camera_image/3563349510410371738_7465_000_7485_000.parquet', 'training/camera_image/3584210979358667442_2880_000_2900_000.parquet', 'training/camera_image/3591015878717398163_1381_280_1401_280.parquet', 'training/camera_image/3617043125954612277_240_000_260_000.parquet', 'training/camera_image/3635081602482786801_900_000_920_000.parquet', 'training/camera_image/3644145307034257093_3000_400_3020_400.parquet', 'training/camera_image/3657581213864582252_340_000_360_000.parquet', 'training/camera_image/3665329186611360820_2329_010_2349_010.parquet', 'training/camera_image/3698685523057788592_4303_630_4323_630.parquet', 'training/camera_image/3711598698808133144_2060_000_2080_000.parquet', 'training/camera_image/384975055665199088_4480_000_4500_000.parquet', 'training/camera_image/3872781118550194423_3654_670_3674_670.parquet', 'training/camera_image/3894883757914505116_1840_000_1860_000.parquet', 'training/camera_image/3908622028474148527_3480_000_3500_000.parquet', 'training/camera_image/3911646355261329044_580_000_600_000.parquet', 'training/camera_image/3919438171935923501_280_000_300_000.parquet', 'training/camera_image/3927294516406132977_792_740_812_740.parquet', 'training/camera_image/3928923269768424494_3060_000_3080_000.parquet', 'training/camera_image/3966447614090524826_320_000_340_000.parquet', 'training/camera_image/3988957004231180266_5566_500_5586_500.parquet', 'training/camera_image/4013698638848102906_7757_240_7777_240.parquet', 'training/camera_image/4017824591066644473_3000_000_3020_000.parquet', 'training/camera_image/4058410353286511411_3980_000_4000_000.parquet', 'training/camera_image/4114454788208078028_660_000_680_000.parquet', 'training/camera_image/4114548607314119333_2780_000_2800_000.parquet', 'training/camera_image/4138614210962611770_2459_360_2479_360.parquet', 'training/camera_image/4164064449185492261_400_000_420_000.parquet', 'training/camera_image/4167304237516228486_5720_000_5740_000.parquet', 'training/camera_image/4191035366928259953_1732_708_1752_708.parquet', 'training/camera_image/4266984864799709257_720_000_740_000.parquet', 'training/camera_image/4277109506993614243_1648_000_1668_000.parquet', 'training/camera_image/4292360793125812833_3080_000_3100_000.parquet', 'training/camera_image/4295449061847708198_3769_000_3789_000.parquet', 'training/camera_image/4305539677513798673_2200_000_2220_000.parquet', 'training/camera_image/4323857429732097807_1005_000_1025_000.parquet', 'training/camera_image/4324227028219935045_1520_000_1540_000.parquet', 'training/camera_image/4337887720320812223_1857_930_1877_930.parquet', 'training/camera_image/4348478035380346090_1000_000_1020_000.parquet', 'training/camera_image/4380865029019172232_480_000_500_000.parquet', 'training/camera_image/4384676699661561426_1662_670_1682_670.parquet', 'training/camera_image/4392459808686681511_5006_200_5026_200.parquet', 'training/camera_image/4414235478445376689_2020_000_2040_000.parquet', 'training/camera_image/4427374597960783085_4168_000_4188_000.parquet', 'training/camera_image/4447423683538547117_536_022_556_022.parquet', 'training/camera_image/4457475194088194008_3100_000_3120_000.parquet', 'training/camera_image/4458730539804900192_535_000_555_000.parquet', 'training/camera_image/4468278022208380281_455_820_475_820.parquet', 'training/camera_image/4487677815262010875_4940_000_4960_000.parquet', 'training/camera_image/4537254579383578009_3820_000_3840_000.parquet', 'training/camera_image/4546515828974914709_922_040_942_040.parquet', 'training/camera_image/454855130179746819_4580_000_4600_000.parquet', 'training/camera_image/4575961016807404107_880_000_900_000.parquet', 'training/camera_image/4604173119409817302_2820_000_2840_000.parquet', 'training/camera_image/4641822195449131669_380_000_400_000.parquet', 'training/camera_image/4655005625668154134_560_000_580_000.parquet', 'training/camera_image/4672649953433758614_2700_000_2720_000.parquet', 'training/camera_image/4702302448560822815_927_380_947_380.parquet', 'training/camera_image/4723255145958809564_741_350_761_350.parquet', 'training/camera_image/4733704239941053266_960_000_980_000.parquet', 'training/camera_image/473735159277431842_630_095_650_095.parquet', 'training/camera_image/4747171543583769736_425_544_445_544.parquet', 'training/camera_image/4781039348168995891_280_000_300_000.parquet', 'training/camera_image/4784689467343773295_1700_000_1720_000.parquet', 'training/camera_image/4808842546020773462_2310_000_2330_000.parquet', 'training/camera_image/4880464427217074989_4680_000_4700_000.parquet', 'training/camera_image/4898453812993984151_199_000_219_000.parquet', 'training/camera_image/4916527289027259239_5180_000_5200_000.parquet', 'training/camera_image/4931036732523207946_10755_600_10775_600.parquet', 'training/camera_image/4960194482476803293_4575_960_4595_960.parquet', 'training/camera_image/4967385055468388261_720_000_740_000.parquet', 'training/camera_image/4971817041565280127_780_500_800_500.parquet', 'training/camera_image/4986495627634617319_2980_000_3000_000.parquet', 'training/camera_image/5005815668926224220_2194_330_2214_330.parquet', 'training/camera_image/5065468048522043429_2080_000_2100_000.parquet', 'training/camera_image/5072733804607719382_5807_570_5827_570.parquet', 'training/camera_image/5076950993715916459_3265_000_3285_000.parquet', 'training/camera_image/5083516879091912247_3600_000_3620_000.parquet', 'training/camera_image/5100136784230856773_2517_300_2537_300.parquet', 'training/camera_image/5121298817582693383_4882_000_4902_000.parquet', 'training/camera_image/5127440443725457056_2921_340_2941_340.parquet', 'training/camera_image/5129792222840846899_2145_000_2165_000.parquet', 'training/camera_image/5144634012371033641_920_000_940_000.parquet', 'training/camera_image/514687114615102902_6240_000_6260_000.parquet', 'training/camera_image/5189543236187113739_2929_000_2949_000.parquet', 'training/camera_image/5200186706748209867_80_000_100_000.parquet', 'training/camera_image/5214491533551928383_1918_780_1938_780.parquet', 'training/camera_image/5215905243049326497_20_000_40_000.parquet', 'training/camera_image/5222336716599194110_8940_000_8960_000.parquet', 'training/camera_image/5268267801500934740_2160_000_2180_000.parquet', 'training/camera_image/5328596138024684667_2180_000_2200_000.parquet', 'training/camera_image/5349843997395815699_1040_000_1060_000.parquet', 'training/camera_image/5423607012724948145_3900_000_3920_000.parquet', 'training/camera_image/54293441958058219_2335_200_2355_200.parquet', 'training/camera_image/5446766520699850364_157_000_177_000.parquet', 'training/camera_image/5451442719480728410_5660_000_5680_000.parquet', 'training/camera_image/5458962501360340931_3140_000_3160_000.parquet', 'training/camera_image/5459113827443493510_380_000_400_000.parquet', 'training/camera_image/5468483805452515080_4540_000_4560_000.parquet', 'training/camera_image/5495302100265783181_80_000_100_000.parquet', 'training/camera_image/550171902340535682_2640_000_2660_000.parquet', 'training/camera_image/5525943706123287091_4100_000_4120_000.parquet', 'training/camera_image/5526948896847934178_1039_000_1059_000.parquet', 'training/camera_image/5572351910320677279_3980_000_4000_000.parquet', 'training/camera_image/5576800480528461086_1000_000_1020_000.parquet', 'training/camera_image/5592790652933523081_667_770_687_770.parquet', 'training/camera_image/5602237689147924753_760_000_780_000.parquet', 'training/camera_image/5614471637960666943_6955_675_6975_675.parquet', 'training/camera_image/5691636094473163491_6889_470_6909_470.parquet', 'training/camera_image/5707035891877485758_2573_000_2593_000.parquet', 'training/camera_image/57132587708734824_1020_000_1040_000.parquet', 'training/camera_image/5718418936283106890_1200_000_1220_000.parquet', 'training/camera_image/5731414711882954246_1990_250_2010_250.parquet', 'training/camera_image/574762194520856849_1660_000_1680_000.parquet', 'training/camera_image/575209926587730008_3880_000_3900_000.parquet', 'training/camera_image/580580436928611523_792_500_812_500.parquet', 'training/camera_image/5835049423600303130_180_000_200_000.parquet', 'training/camera_image/5846229052615948000_2120_000_2140_000.parquet', 'training/camera_image/5861181219697109969_1732_000_1752_000.parquet', 'training/camera_image/5870668058140631588_1180_000_1200_000.parquet', 'training/camera_image/5871373218498789285_3360_000_3380_000.parquet', 'training/camera_image/5973788713714489548_2179_770_2199_770.parquet', 'training/camera_image/6037403592521973757_3260_000_3280_000.parquet', 'training/camera_image/6038200663843287458_283_000_303_000.parquet', 'training/camera_image/6104545334635651714_2780_000_2800_000.parquet', 'training/camera_image/6128311556082453976_2520_000_2540_000.parquet', 'training/camera_image/6142170920525844857_2080_000_2100_000.parquet', 'training/camera_image/6148393791213790916_4960_000_4980_000.parquet', 'training/camera_image/6150191934425217908_2747_800_2767_800.parquet', 'training/camera_image/616184888931414205_2020_000_2040_000.parquet', 'training/camera_image/6172160122069514875_6866_560_6886_560.parquet', 'training/camera_image/6177474146670383260_4200_000_4220_000.parquet', 'training/camera_image/6193696614129429757_2420_000_2440_000.parquet', 'training/camera_image/6207195415812436731_805_000_825_000.parquet', 'training/camera_image/6229371035421550389_2220_000_2240_000.parquet', 'training/camera_image/6234738900256277070_320_000_340_000.parquet', 'training/camera_image/6242822583398487496_73_000_93_000.parquet', 'training/camera_image/6280779486809627179_760_000_780_000.parquet', 'training/camera_image/6290334089075942139_1340_000_1360_000.parquet', 'training/camera_image/6303332643743862144_5600_000_5620_000.parquet', 'training/camera_image/634378055350569306_280_000_300_000.parquet', 'training/camera_image/6350707596465488265_2393_900_2413_900.parquet', 'training/camera_image/6378340771722906187_1120_000_1140_000.parquet', 'training/camera_image/6386303598440879824_1520_000_1540_000.parquet', 'training/camera_image/6390847454531723238_6000_000_6020_000.parquet', 'training/camera_image/6410495600874495447_5287_500_5307_500.parquet', 'training/camera_image/6417523992887712896_1180_000_1200_000.parquet', 'training/camera_image/6433401807220119698_4560_000_4580_000.parquet', 'training/camera_image/6456165750159303330_1770_080_1790_080.parquet', 'training/camera_image/6559997992780479765_1039_000_1059_000.parquet', 'training/camera_image/6561206763751799279_2348_600_2368_600.parquet', 'training/camera_image/6606076833441976341_1340_000_1360_000.parquet', 'training/camera_image/6625150143263637936_780_000_800_000.parquet', 'training/camera_image/6638427309837298695_220_000_240_000.parquet', 'training/camera_image/6674547510992884047_1560_000_1580_000.parquet', 'training/camera_image/6694593639447385226_1040_000_1060_000.parquet', 'training/camera_image/6722602826685649765_2280_000_2300_000.parquet', 'training/camera_image/6740694556948402155_3040_000_3060_000.parquet', 'training/camera_image/6742105013468660925_3645_000_3665_000.parquet', 'training/camera_image/6763005717101083473_3880_000_3900_000.parquet', 'training/camera_image/6771783338734577946_6105_840_6125_840.parquet', 'training/camera_image/6771922013310347577_4249_290_4269_290.parquet', 'training/camera_image/6791933003490312185_2607_000_2627_000.parquet', 'training/camera_image/6792191642931213648_1522_000_1542_000.parquet', 'training/camera_image/6799055159715949496_2503_000_2523_000.parquet', 'training/camera_image/6813611334239274394_535_000_555_000.parquet', 'training/camera_image/6814918034011049245_134_170_154_170.parquet', 'training/camera_image/6904827860701329567_960_000_980_000.parquet', 'training/camera_image/6935841224766931310_2770_310_2790_310.parquet', 'training/camera_image/7000927478052605119_1052_330_1072_330.parquet', 'training/camera_image/7007702792982559244_4400_000_4420_000.parquet', 'training/camera_image/7019385869759035132_4270_850_4290_850.parquet', 'training/camera_image/7038362761309539946_4207_130_4227_130.parquet', 'training/camera_image/7089765864827567005_1020_000_1040_000.parquet', 'training/camera_image/7101099554331311287_5320_000_5340_000.parquet', 'training/camera_image/7120839653809570957_1060_000_1080_000.parquet', 'training/camera_image/7187601925763611197_4384_300_4404_300.parquet', 'training/camera_image/7189996641300362130_3360_000_3380_000.parquet', 'training/camera_image/7239123081683545077_4044_370_4064_370.parquet', 'training/camera_image/7290499689576448085_3960_000_3980_000.parquet', 'training/camera_image/7313718849795510302_280_000_300_000.parquet', 'training/camera_image/7324192826315818756_620_000_640_000.parquet', 'training/camera_image/7331965392247645851_1005_940_1025_940.parquet', 'training/camera_image/7344536712079322768_1360_000_1380_000.parquet', 'training/camera_image/7373597180370847864_6020_000_6040_000.parquet', 'training/camera_image/744006317457557752_2080_000_2100_000.parquet', 'training/camera_image/7440437175443450101_94_000_114_000.parquet', 'training/camera_image/7447927974619745860_820_000_840_000.parquet', 'training/camera_image/7458568461947999548_700_000_720_000.parquet', 'training/camera_image/7466751345307077932_585_000_605_000.parquet', 'training/camera_image/7517545172000568481_2325_000_2345_000.parquet', 'training/camera_image/7543690094688232666_4945_350_4965_350.parquet', 'training/camera_image/7554208726220851641_380_000_400_000.parquet', 'training/camera_image/7566697458525030390_1440_000_1460_000.parquet', 'training/camera_image/759208896257112298_184_000_204_000.parquet', 'training/camera_image/7643597152739318064_3979_000_3999_000.parquet', 'training/camera_image/7670103006580549715_360_000_380_000.parquet', 'training/camera_image/7727809428114700355_2960_000_2980_000.parquet', 'training/camera_image/7741361323303179462_1230_310_1250_310.parquet', 'training/camera_image/7761658966964621355_1000_000_1020_000.parquet', 'training/camera_image/7768517933263896280_1120_000_1140_000.parquet', 'training/camera_image/7799671367768576481_260_000_280_000.parquet', 'training/camera_image/7837172662136597262_1140_000_1160_000.parquet', 'training/camera_image/7850521592343484282_4576_090_4596_090.parquet', 'training/camera_image/7861168750216313148_1305_290_1325_290.parquet', 'training/camera_image/786582060300383668_2944_060_2964_060.parquet', 'training/camera_image/7885161619764516373_289_280_309_280.parquet', 'training/camera_image/7890808800227629086_6162_700_6182_700.parquet', 'training/camera_image/7912728502266478772_1202_200_1222_200.parquet', 'training/camera_image/7920326980177504058_2454_310_2474_310.parquet', 'training/camera_image/7921369793217703814_1060_000_1080_000.parquet', 'training/camera_image/7934693355186591404_73_000_93_000.parquet', 'training/camera_image/7940496892864900543_4783_540_4803_540.parquet', 'training/camera_image/7950869827763684964_8685_000_8705_000.parquet', 'training/camera_image/7996500550445322129_2333_304_2353_304.parquet', 'training/camera_image/7999729608823422351_1483_600_1503_600.parquet', 'training/camera_image/8031709558315183746_491_220_511_220.parquet', 'training/camera_image/80599353855279550_2604_480_2624_480.parquet', 'training/camera_image/809159138284604331_3355_840_3375_840.parquet', 'training/camera_image/8099457465580871094_4764_380_4784_380.parquet', 'training/camera_image/8120716761799622510_862_120_882_120.parquet', 'training/camera_image/8123909110537564436_7220_000_7240_000.parquet', 'training/camera_image/8126606965364870152_985_090_1005_090.parquet', 'training/camera_image/8148053503558757176_4240_000_4260_000.parquet', 'training/camera_image/8158128948493708501_7477_230_7497_230.parquet', 'training/camera_image/8207498713503609786_3005_450_3025_450.parquet', 'training/camera_image/8222208340265444449_1400_000_1420_000.parquet', 'training/camera_image/8323028393459455521_2105_000_2125_000.parquet', 'training/camera_image/8327447186504415549_5200_000_5220_000.parquet', 'training/camera_image/8345535260120974350_1980_000_2000_000.parquet', 'training/camera_image/8399876466981146110_2560_000_2580_000.parquet', 'training/camera_image/8424573439186068308_3460_000_3480_000.parquet', 'training/camera_image/8454755173123314088_3202_000_3222_000.parquet', 'training/camera_image/8487809726845917818_4779_870_4799_870.parquet', 'training/camera_image/8494653877777333091_540_000_560_000.parquet', 'training/camera_image/8513241054672631743_115_960_135_960.parquet', 'training/camera_image/8543158371164842559_4131_530_4151_530.parquet', 'training/camera_image/857746300435138193_1869_000_1889_000.parquet', 'training/camera_image/8582923946352460474_2360_000_2380_000.parquet', 'training/camera_image/8603916601243187272_540_000_560_000.parquet', 'training/camera_image/8633296376655504176_514_000_534_000.parquet', 'training/camera_image/8659567063494726263_2480_000_2500_000.parquet', 'training/camera_image/8663006751916427679_1520_000_1540_000.parquet', 'training/camera_image/8700094808505895018_7272_488_7292_488.parquet', 'training/camera_image/8722413665055769182_2840_000_2860_000.parquet', 'training/camera_image/8745106945249251942_1207_000_1227_000.parquet', 'training/camera_image/8763126149209091146_1843_320_1863_320.parquet', 'training/camera_image/8796914080594559459_4284_170_4304_170.parquet', 'training/camera_image/8806931859563747931_1160_000_1180_000.parquet', 'training/camera_image/8811210064692949185_3066_770_3086_770.parquet', 'training/camera_image/8822503619482926605_1080_000_1100_000.parquet', 'training/camera_image/8859409804103625626_2760_000_2780_000.parquet', 'training/camera_image/8938046348067069210_3800_000_3820_000.parquet', 'training/camera_image/8965112222692085704_4860_000_4880_000.parquet', 'training/camera_image/898816942644052013_20_000_40_000.parquet', 'training/camera_image/9015546800913584551_4431_180_4451_180.parquet', 'training/camera_image/9016865488168499365_4780_000_4800_000.parquet', 'training/camera_image/9058545212382992974_5236_200_5256_200.parquet', 'training/camera_image/9062286840846668802_31_000_51_000.parquet', 'training/camera_image/9105380625923157726_4420_000_4440_000.parquet', 'training/camera_image/9110125340505914899_380_000_400_000.parquet', 'training/camera_image/9123867659877264673_3569_950_3589_950.parquet', 'training/camera_image/912496333665446669_1680_000_1700_000.parquet', 'training/camera_image/913274067754539885_913_000_933_000.parquet', 'training/camera_image/9142545919543484617_86_000_106_000.parquet', 'training/camera_image/915935412356143375_1740_030_1760_030.parquet', 'training/camera_image/9175749307679169289_5933_260_5953_260.parquet', 'training/camera_image/9179922063516210200_157_000_177_000.parquet', 'training/camera_image/9250355398701464051_4166_132_4186_132.parquet', 'training/camera_image/9288629315134424745_4360_000_4380_000.parquet', 'training/camera_image/9295161125729168140_1270_000_1290_000.parquet', 'training/camera_image/9311322119128915594_5285_000_5305_000.parquet', 'training/camera_image/9320169289978396279_1040_000_1060_000.parquet', 'training/camera_image/9325580606626376787_4509_140_4529_140.parquet', 'training/camera_image/9334364225104959137_661_000_681_000.parquet', 'training/camera_image/9350921499281634194_2403_251_2423_251.parquet', 'training/camera_image/9385013624094020582_2547_650_2567_650.parquet', 'training/camera_image/9415086857375798767_4760_000_4780_000.parquet', 'training/camera_image/9465500459680839281_1100_000_1120_000.parquet', 'training/camera_image/9509506420470671704_4049_100_4069_100.parquet', 'training/camera_image/9521653920958139982_940_000_960_000.parquet', 'training/camera_image/9529958888589376527_640_000_660_000.parquet', 'training/camera_image/9547911055204230158_1567_950_1587_950.parquet', 'training/camera_image/9568394837328971633_466_365_486_365.parquet', 'training/camera_image/9653249092275997647_980_000_1000_000.parquet', 'training/camera_image/9654060644653474834_3905_000_3925_000.parquet', 'training/camera_image/9696413700515401320_1690_000_1710_000.parquet', 'training/camera_image/972142630887801133_642_740_662_740.parquet', 'training/camera_image/9747453753779078631_940_000_960_000.parquet', 'training/camera_image/9758342966297863572_875_230_895_230.parquet', 'training/camera_image/9820553434532681355_2820_000_2840_000.parquet', 'training/camera_image/9907794657177651763_1126_570_1146_570.parquet', 'training/camera_image/990914685337955114_980_000_1000_000.parquet', 'training/camera_image/9985243312780923024_3049_720_3069_720.parquet', 'training/camera_image/_metadata', 'validation/', 'validation/camera_box/10203656353524179475_7625_000_7645_000.parquet', 'validation/camera_box/1024360143612057520_3580_000_3600_000.parquet', 'validation/camera_box/10247954040621004675_2180_000_2200_000.parquet', 'validation/camera_box/10289507859301986274_4200_000_4220_000.parquet', 'validation/camera_box/10335539493577748957_1372_870_1392_870.parquet', 'validation/camera_box/10359308928573410754_720_000_740_000.parquet', 'validation/camera_box/10448102132863604198_472_000_492_000.parquet', 'validation/camera_box/10689101165701914459_2072_300_2092_300.parquet', 'validation/camera_box/1071392229495085036_1844_790_1864_790.parquet', 'validation/camera_box/10837554759555844344_6525_000_6545_000.parquet', 'validation/camera_box/10868756386479184868_3000_000_3020_000.parquet', 'validation/camera_box/11037651371539287009_77_670_97_670.parquet', 'validation/camera_box/11048712972908676520_545_000_565_000.parquet', 'validation/camera_box/1105338229944737854_1280_000_1300_000.parquet', 'validation/camera_box/11356601648124485814_409_000_429_000.parquet', 'validation/camera_box/11387395026864348975_3820_000_3840_000.parquet', 'validation/camera_box/11406166561185637285_1753_750_1773_750.parquet', 'validation/camera_box/11434627589960744626_4829_660_4849_660.parquet', 'validation/camera_box/11450298750351730790_1431_750_1451_750.parquet', 'validation/camera_box/11616035176233595745_3548_820_3568_820.parquet', 'validation/camera_box/11660186733224028707_420_000_440_000.parquet', 'validation/camera_box/11901761444769610243_556_000_576_000.parquet', 'validation/camera_box/12102100359426069856_3931_470_3951_470.parquet', 'validation/camera_box/12134738431513647889_3118_000_3138_000.parquet', 'validation/camera_box/12306251798468767010_560_000_580_000.parquet', 'validation/camera_box/12358364923781697038_2232_990_2252_990.parquet', 'validation/camera_box/12374656037744638388_1412_711_1432_711.parquet', 'validation/camera_box/12496433400137459534_120_000_140_000.parquet', 'validation/camera_box/12657584952502228282_3940_000_3960_000.parquet', 'validation/camera_box/12820461091157089924_5202_916_5222_916.parquet', 'validation/camera_box/12831741023324393102_2673_230_2693_230.parquet', 'validation/camera_box/12866817684252793621_480_000_500_000.parquet', 'validation/camera_box/12940710315541930162_2660_000_2680_000.parquet', 'validation/camera_box/13178092897340078601_5118_604_5138_604.parquet', 'validation/camera_box/13184115878756336167_1354_000_1374_000.parquet', 'validation/camera_box/13299463771883949918_4240_000_4260_000.parquet', 'validation/camera_box/1331771191699435763_440_000_460_000.parquet', 'validation/camera_box/13336883034283882790_7100_000_7120_000.parquet', 'validation/camera_box/13356997604177841771_3360_000_3380_000.parquet', 'validation/camera_box/13415985003725220451_6163_000_6183_000.parquet', 'validation/camera_box/13469905891836363794_4429_660_4449_660.parquet', 'validation/camera_box/13573359675885893802_1985_970_2005_970.parquet', 'validation/camera_box/13694146168933185611_800_000_820_000.parquet', 'validation/camera_box/13941626351027979229_3363_930_3383_930.parquet', 'validation/camera_box/13982731384839979987_1680_000_1700_000.parquet', 'validation/camera_box/1405149198253600237_160_000_180_000.parquet', 'validation/camera_box/14081240615915270380_4399_000_4419_000.parquet', 'validation/camera_box/14107757919671295130_3546_370_3566_370.parquet', 'validation/camera_box/14127943473592757944_2068_000_2088_000.parquet', 'validation/camera_box/14165166478774180053_1786_000_1806_000.parquet', 'validation/camera_box/14244512075981557183_1226_840_1246_840.parquet', 'validation/camera_box/14262448332225315249_1280_000_1300_000.parquet', 'validation/camera_box/14300007604205869133_1160_000_1180_000.parquet', 'validation/camera_box/14333744981238305769_5658_260_5678_260.parquet', 'validation/camera_box/14383152291533557785_240_000_260_000.parquet', 'validation/camera_box/14486517341017504003_3406_349_3426_349.parquet', 'validation/camera_box/1457696187335927618_595_027_615_027.parquet', 'validation/camera_box/14624061243736004421_1840_000_1860_000.parquet', 'validation/camera_box/1464917900451858484_1960_000_1980_000.parquet', 'validation/camera_box/14663356589561275673_935_195_955_195.parquet', 'validation/camera_box/14687328292438466674_892_000_912_000.parquet', 'validation/camera_box/14739149465358076158_4740_000_4760_000.parquet', 'validation/camera_box/14811410906788672189_373_113_393_113.parquet', 'validation/camera_box/14931160836268555821_5778_870_5798_870.parquet', 'validation/camera_box/14956919859981065721_1759_980_1779_980.parquet', 'validation/camera_box/15021599536622641101_556_150_576_150.parquet', 'validation/camera_box/15028688279822984888_1560_000_1580_000.parquet', 'validation/camera_box/1505698981571943321_1186_773_1206_773.parquet', 'validation/camera_box/15096340672898807711_3765_000_3785_000.parquet', 'validation/camera_box/15224741240438106736_960_000_980_000.parquet', 'validation/camera_box/15396462829361334065_4265_000_4285_000.parquet', 'validation/camera_box/15488266120477489949_3162_920_3182_920.parquet', 'validation/camera_box/15496233046893489569_4551_550_4571_550.parquet', 'validation/camera_box/15611747084548773814_3740_000_3760_000.parquet', 'validation/camera_box/15724298772299989727_5386_410_5406_410.parquet', 'validation/camera_box/15948509588157321530_7187_290_7207_290.parquet', 'validation/camera_box/15959580576639476066_5087_580_5107_580.parquet', 'validation/camera_box/16204463896543764114_5340_000_5360_000.parquet', 'validation/camera_box/16213317953898915772_1597_170_1617_170.parquet', 'validation/camera_box/16229547658178627464_380_000_400_000.parquet', 'validation/camera_box/16751706457322889693_4475_240_4495_240.parquet', 'validation/camera_box/16767575238225610271_5185_000_5205_000.parquet', 'validation/camera_box/16979882728032305374_2719_000_2739_000.parquet', 'validation/camera_box/17065833287841703_2980_000_3000_000.parquet', 'validation/camera_box/17135518413411879545_1480_000_1500_000.parquet', 'validation/camera_box/17136314889476348164_979_560_999_560.parquet', 'validation/camera_box/17152649515605309595_3440_000_3460_000.parquet', 'validation/camera_box/17244566492658384963_2540_000_2560_000.parquet', 'validation/camera_box/17344036177686610008_7852_160_7872_160.parquet', 'validation/camera_box/17539775446039009812_440_000_460_000.parquet', 'validation/camera_box/17612470202990834368_2800_000_2820_000.parquet', 'validation/camera_box/17626999143001784258_2760_000_2780_000.parquet', 'validation/camera_box/17694030326265859208_2340_000_2360_000.parquet', 'validation/camera_box/17703234244970638241_220_000_240_000.parquet', 'validation/camera_box/17763730878219536361_3144_635_3164_635.parquet', 'validation/camera_box/17791493328130181905_1480_000_1500_000.parquet', 'validation/camera_box/17860546506509760757_6040_000_6060_000.parquet', 'validation/camera_box/17962792089966876718_2210_933_2230_933.parquet', 'validation/camera_box/18024188333634186656_1566_600_1586_600.parquet', 'validation/camera_box/18045724074935084846_6615_900_6635_900.parquet', 'validation/camera_box/18252111882875503115_378_471_398_471.parquet', 'validation/camera_box/18305329035161925340_4466_730_4486_730.parquet', 'validation/camera_box/18331704533904883545_1560_000_1580_000.parquet', 'validation/camera_box/18333922070582247333_320_280_340_280.parquet', 'validation/camera_box/18446264979321894359_3700_000_3720_000.parquet', 'validation/camera_box/1906113358876584689_1359_560_1379_560.parquet', 'validation/camera_box/191862526745161106_1400_000_1420_000.parquet', 'validation/camera_box/1943605865180232897_680_000_700_000.parquet', 'validation/camera_box/2094681306939952000_2972_300_2992_300.parquet', 'validation/camera_box/2105808889850693535_2295_720_2315_720.parquet', 'validation/camera_box/2308204418431899833_3575_000_3595_000.parquet', 'validation/camera_box/2335854536382166371_2709_426_2729_426.parquet', 'validation/camera_box/2367305900055174138_1881_827_1901_827.parquet', 'validation/camera_box/2506799708748258165_6455_000_6475_000.parquet', 'validation/camera_box/2551868399007287341_3100_000_3120_000.parquet', 'validation/camera_box/260994483494315994_2797_545_2817_545.parquet', 'validation/camera_box/2624187140172428292_73_000_93_000.parquet', 'validation/camera_box/271338158136329280_2541_070_2561_070.parquet', 'validation/camera_box/272435602399417322_2884_130_2904_130.parquet', 'validation/camera_box/2736377008667623133_2676_410_2696_410.parquet', 'validation/camera_box/2834723872140855871_1615_000_1635_000.parquet', 'validation/camera_box/3015436519694987712_1300_000_1320_000.parquet', 'validation/camera_box/3039251927598134881_1240_610_1260_610.parquet', 'validation/camera_box/3077229433993844199_1080_000_1100_000.parquet', 'validation/camera_box/30779396576054160_1880_000_1900_000.parquet', 'validation/camera_box/3126522626440597519_806_440_826_440.parquet', 'validation/camera_box/346889320598157350_798_187_818_187.parquet', 'validation/camera_box/3577352947946244999_3980_000_4000_000.parquet', 'validation/camera_box/3651243243762122041_3920_000_3940_000.parquet', 'validation/camera_box/366934253670232570_2229_530_2249_530.parquet', 'validation/camera_box/3731719923709458059_1540_000_1560_000.parquet', 'validation/camera_box/3915587593663172342_10_000_30_000.parquet', 'validation/camera_box/4013125682946523088_3540_000_3560_000.parquet', 'validation/camera_box/4195774665746097799_7300_960_7320_960.parquet', 'validation/camera_box/4246537812751004276_1560_000_1580_000.parquet', 'validation/camera_box/4409585400955983988_3500_470_3520_470.parquet', 'validation/camera_box/4423389401016162461_4235_900_4255_900.parquet', 'validation/camera_box/4426410228514970291_1620_000_1640_000.parquet', 'validation/camera_box/447576862407975570_4360_000_4380_000.parquet', 'validation/camera_box/4490196167747784364_616_569_636_569.parquet', 'validation/camera_box/4575389405178805994_4900_000_4920_000.parquet', 'validation/camera_box/4612525129938501780_340_000_360_000.parquet', 'validation/camera_box/4690718861228194910_1980_000_2000_000.parquet', 'validation/camera_box/4759225533437988401_800_000_820_000.parquet', 'validation/camera_box/4764167778917495793_860_000_880_000.parquet', 'validation/camera_box/4816728784073043251_5273_410_5293_410.parquet', 'validation/camera_box/4854173791890687260_2880_000_2900_000.parquet', 'validation/camera_box/5183174891274719570_3464_030_3484_030.parquet', 'validation/camera_box/5289247502039512990_2640_000_2660_000.parquet', 'validation/camera_box/5302885587058866068_320_000_340_000.parquet', 'validation/camera_box/5372281728627437618_2005_000_2025_000.parquet', 'validation/camera_box/5373876050695013404_3817_170_3837_170.parquet', 'validation/camera_box/5574146396199253121_6759_360_6779_360.parquet', 'validation/camera_box/5772016415301528777_1400_000_1420_000.parquet', 'validation/camera_box/5832416115092350434_60_000_80_000.parquet', 'validation/camera_box/5847910688643719375_180_000_200_000.parquet', 'validation/camera_box/5990032395956045002_6600_000_6620_000.parquet', 'validation/camera_box/6001094526418694294_4609_470_4629_470.parquet', 'validation/camera_box/6074871217133456543_1000_000_1020_000.parquet', 'validation/camera_box/6161542573106757148_585_030_605_030.parquet', 'validation/camera_box/6183008573786657189_5414_000_5434_000.parquet', 'validation/camera_box/6324079979569135086_2372_300_2392_300.parquet', 'validation/camera_box/6491418762940479413_6520_000_6540_000.parquet', 'validation/camera_box/662188686397364823_3248_800_3268_800.parquet', 'validation/camera_box/6637600600814023975_2235_000_2255_000.parquet', 'validation/camera_box/6680764940003341232_2260_000_2280_000.parquet', 'validation/camera_box/6707256092020422936_2352_392_2372_392.parquet', 'validation/camera_box/7119831293178745002_1094_720_1114_720.parquet', 'validation/camera_box/7163140554846378423_2717_820_2737_820.parquet', 'validation/camera_box/7253952751374634065_1100_000_1120_000.parquet', 'validation/camera_box/7493781117404461396_2140_000_2160_000.parquet', 'validation/camera_box/7650923902987369309_2380_000_2400_000.parquet', 'validation/camera_box/7732779227944176527_2120_000_2140_000.parquet', 'validation/camera_box/7799643635310185714_680_000_700_000.parquet', 'validation/camera_box/7932945205197754811_780_000_800_000.parquet', 'validation/camera_box/7988627150403732100_1487_540_1507_540.parquet', 'validation/camera_box/8079607115087394458_1240_000_1260_000.parquet', 'validation/camera_box/8133434654699693993_1162_020_1182_020.parquet', 'validation/camera_box/8137195482049459160_3100_000_3120_000.parquet', 'validation/camera_box/8302000153252334863_6020_000_6040_000.parquet', 'validation/camera_box/8331804655557290264_4351_740_4371_740.parquet', 'validation/camera_box/8398516118967750070_3958_000_3978_000.parquet', 'validation/camera_box/8506432817378693815_4860_000_4880_000.parquet', 'validation/camera_box/8679184381783013073_7740_000_7760_000.parquet', 'validation/camera_box/8845277173853189216_3828_530_3848_530.parquet', 'validation/camera_box/8888517708810165484_1549_770_1569_770.parquet', 'validation/camera_box/8907419590259234067_1960_000_1980_000.parquet', 'validation/camera_box/89454214745557131_3160_000_3180_000.parquet', 'validation/camera_box/8956556778987472864_3404_790_3424_790.parquet', 'validation/camera_box/902001779062034993_2880_000_2900_000.parquet', 'validation/camera_box/9024872035982010942_2578_810_2598_810.parquet', 'validation/camera_box/9041488218266405018_6454_030_6474_030.parquet', 'validation/camera_box/9114112687541091312_1100_000_1120_000.parquet', 'validation/camera_box/9164052963393400298_4692_970_4712_970.parquet', 'validation/camera_box/9231652062943496183_1740_000_1760_000.parquet', 'validation/camera_box/9243656068381062947_1297_428_1317_428.parquet', 'validation/camera_box/9265793588137545201_2981_960_3001_960.parquet', 'validation/camera_box/933621182106051783_4160_000_4180_000.parquet', 'validation/camera_box/9443948810903981522_6538_870_6558_870.parquet', 'validation/camera_box/9472420603764812147_850_000_870_000.parquet', 'validation/camera_box/9579041874842301407_1300_000_1320_000.parquet', 'validation/camera_box/967082162553397800_5102_900_5122_900.parquet', 'validation/camera_box/_metadata', 'validation/camera_image/10203656353524179475_7625_000_7645_000.parquet', 'validation/camera_image/1024360143612057520_3580_000_3600_000.parquet', 'validation/camera_image/10247954040621004675_2180_000_2200_000.parquet', 'validation/camera_image/10289507859301986274_4200_000_4220_000.parquet', 'validation/camera_image/10335539493577748957_1372_870_1392_870.parquet', 'validation/camera_image/10359308928573410754_720_000_740_000.parquet', 'validation/camera_image/10448102132863604198_472_000_492_000.parquet', 'validation/camera_image/10689101165701914459_2072_300_2092_300.parquet', 'validation/camera_image/1071392229495085036_1844_790_1864_790.parquet', 'validation/camera_image/10837554759555844344_6525_000_6545_000.parquet', 'validation/camera_image/10868756386479184868_3000_000_3020_000.parquet', 'validation/camera_image/11037651371539287009_77_670_97_670.parquet', 'validation/camera_image/11048712972908676520_545_000_565_000.parquet', 'validation/camera_image/1105338229944737854_1280_000_1300_000.parquet', 'validation/camera_image/11356601648124485814_409_000_429_000.parquet', 'validation/camera_image/11387395026864348975_3820_000_3840_000.parquet', 'validation/camera_image/11406166561185637285_1753_750_1773_750.parquet', 'validation/camera_image/11434627589960744626_4829_660_4849_660.parquet', 'validation/camera_image/11450298750351730790_1431_750_1451_750.parquet', 'validation/camera_image/11616035176233595745_3548_820_3568_820.parquet', 'validation/camera_image/11660186733224028707_420_000_440_000.parquet', 'validation/camera_image/11901761444769610243_556_000_576_000.parquet', 'validation/camera_image/12102100359426069856_3931_470_3951_470.parquet', 'validation/camera_image/12134738431513647889_3118_000_3138_000.parquet', 'validation/camera_image/12306251798468767010_560_000_580_000.parquet', 'validation/camera_image/12358364923781697038_2232_990_2252_990.parquet', 'validation/camera_image/12374656037744638388_1412_711_1432_711.parquet', 'validation/camera_image/12496433400137459534_120_000_140_000.parquet', 'validation/camera_image/12657584952502228282_3940_000_3960_000.parquet', 'validation/camera_image/12820461091157089924_5202_916_5222_916.parquet', 'validation/camera_image/12831741023324393102_2673_230_2693_230.parquet', 'validation/camera_image/12866817684252793621_480_000_500_000.parquet', 'validation/camera_image/12940710315541930162_2660_000_2680_000.parquet', 'validation/camera_image/13178092897340078601_5118_604_5138_604.parquet', 'validation/camera_image/13184115878756336167_1354_000_1374_000.parquet', 'validation/camera_image/13299463771883949918_4240_000_4260_000.parquet', 'validation/camera_image/1331771191699435763_440_000_460_000.parquet', 'validation/camera_image/13336883034283882790_7100_000_7120_000.parquet', 'validation/camera_image/13356997604177841771_3360_000_3380_000.parquet', 'validation/camera_image/13415985003725220451_6163_000_6183_000.parquet', 'validation/camera_image/13469905891836363794_4429_660_4449_660.parquet', 'validation/camera_image/13573359675885893802_1985_970_2005_970.parquet', 'validation/camera_image/13694146168933185611_800_000_820_000.parquet', 'validation/camera_image/13941626351027979229_3363_930_3383_930.parquet', 'validation/camera_image/13982731384839979987_1680_000_1700_000.parquet', 'validation/camera_image/1405149198253600237_160_000_180_000.parquet', 'validation/camera_image/14081240615915270380_4399_000_4419_000.parquet', 'validation/camera_image/14107757919671295130_3546_370_3566_370.parquet', 'validation/camera_image/14127943473592757944_2068_000_2088_000.parquet', 'validation/camera_image/14165166478774180053_1786_000_1806_000.parquet', 'validation/camera_image/14244512075981557183_1226_840_1246_840.parquet', 'validation/camera_image/14262448332225315249_1280_000_1300_000.parquet', 'validation/camera_image/14300007604205869133_1160_000_1180_000.parquet', 'validation/camera_image/14333744981238305769_5658_260_5678_260.parquet', 'validation/camera_image/14383152291533557785_240_000_260_000.parquet', 'validation/camera_image/14486517341017504003_3406_349_3426_349.parquet', 'validation/camera_image/1457696187335927618_595_027_615_027.parquet', 'validation/camera_image/14624061243736004421_1840_000_1860_000.parquet', 'validation/camera_image/1464917900451858484_1960_000_1980_000.parquet', 'validation/camera_image/14663356589561275673_935_195_955_195.parquet', 'validation/camera_image/14687328292438466674_892_000_912_000.parquet', 'validation/camera_image/14739149465358076158_4740_000_4760_000.parquet', 'validation/camera_image/14811410906788672189_373_113_393_113.parquet', 'validation/camera_image/14931160836268555821_5778_870_5798_870.parquet', 'validation/camera_image/14956919859981065721_1759_980_1779_980.parquet', 'validation/camera_image/15021599536622641101_556_150_576_150.parquet', 'validation/camera_image/15028688279822984888_1560_000_1580_000.parquet', 'validation/camera_image/1505698981571943321_1186_773_1206_773.parquet', 'validation/camera_image/15096340672898807711_3765_000_3785_000.parquet', 'validation/camera_image/15224741240438106736_960_000_980_000.parquet', 'validation/camera_image/15396462829361334065_4265_000_4285_000.parquet', 'validation/camera_image/15488266120477489949_3162_920_3182_920.parquet', 'validation/camera_image/15496233046893489569_4551_550_4571_550.parquet', 'validation/camera_image/15611747084548773814_3740_000_3760_000.parquet', 'validation/camera_image/15724298772299989727_5386_410_5406_410.parquet', 'validation/camera_image/15948509588157321530_7187_290_7207_290.parquet', 'validation/camera_image/15959580576639476066_5087_580_5107_580.parquet', 'validation/camera_image/16204463896543764114_5340_000_5360_000.parquet', 'validation/camera_image/16213317953898915772_1597_170_1617_170.parquet', 'validation/camera_image/16229547658178627464_380_000_400_000.parquet', 'validation/camera_image/16751706457322889693_4475_240_4495_240.parquet', 'validation/camera_image/16767575238225610271_5185_000_5205_000.parquet', 'validation/camera_image/16979882728032305374_2719_000_2739_000.parquet', 'validation/camera_image/17065833287841703_2980_000_3000_000.parquet', 'validation/camera_image/17135518413411879545_1480_000_1500_000.parquet', 'validation/camera_image/17136314889476348164_979_560_999_560.parquet', 'validation/camera_image/17152649515605309595_3440_000_3460_000.parquet', 'validation/camera_image/17244566492658384963_2540_000_2560_000.parquet', 'validation/camera_image/17344036177686610008_7852_160_7872_160.parquet', 'validation/camera_image/17539775446039009812_440_000_460_000.parquet', 'validation/camera_image/17612470202990834368_2800_000_2820_000.parquet', 'validation/camera_image/17626999143001784258_2760_000_2780_000.parquet', 'validation/camera_image/17694030326265859208_2340_000_2360_000.parquet', 'validation/camera_image/17703234244970638241_220_000_240_000.parquet', 'validation/camera_image/17763730878219536361_3144_635_3164_635.parquet', 'validation/camera_image/17791493328130181905_1480_000_1500_000.parquet', 'validation/camera_image/17860546506509760757_6040_000_6060_000.parquet', 'validation/camera_image/17962792089966876718_2210_933_2230_933.parquet', 'validation/camera_image/18024188333634186656_1566_600_1586_600.parquet', 'validation/camera_image/18045724074935084846_6615_900_6635_900.parquet', 'validation/camera_image/18252111882875503115_378_471_398_471.parquet', 'validation/camera_image/18305329035161925340_4466_730_4486_730.parquet', 'validation/camera_image/18331704533904883545_1560_000_1580_000.parquet', 'validation/camera_image/18333922070582247333_320_280_340_280.parquet', 'validation/camera_image/18446264979321894359_3700_000_3720_000.parquet', 'validation/camera_image/1906113358876584689_1359_560_1379_560.parquet', 'validation/camera_image/191862526745161106_1400_000_1420_000.parquet', 'validation/camera_image/1943605865180232897_680_000_700_000.parquet', 'validation/camera_image/2094681306939952000_2972_300_2992_300.parquet', 'validation/camera_image/2105808889850693535_2295_720_2315_720.parquet', 'validation/camera_image/2308204418431899833_3575_000_3595_000.parquet', 'validation/camera_image/2335854536382166371_2709_426_2729_426.parquet', 'validation/camera_image/2367305900055174138_1881_827_1901_827.parquet', 'validation/camera_image/2506799708748258165_6455_000_6475_000.parquet', 'validation/camera_image/2551868399007287341_3100_000_3120_000.parquet', 'validation/camera_image/260994483494315994_2797_545_2817_545.parquet', 'validation/camera_image/2624187140172428292_73_000_93_000.parquet', 'validation/camera_image/271338158136329280_2541_070_2561_070.parquet', 'validation/camera_image/272435602399417322_2884_130_2904_130.parquet', 'validation/camera_image/2736377008667623133_2676_410_2696_410.parquet', 'validation/camera_image/2834723872140855871_1615_000_1635_000.parquet', 'validation/camera_image/3015436519694987712_1300_000_1320_000.parquet', 'validation/camera_image/3039251927598134881_1240_610_1260_610.parquet', 'validation/camera_image/3077229433993844199_1080_000_1100_000.parquet', 'validation/camera_image/30779396576054160_1880_000_1900_000.parquet', 'validation/camera_image/3126522626440597519_806_440_826_440.parquet', 'validation/camera_image/346889320598157350_798_187_818_187.parquet', 'validation/camera_image/3577352947946244999_3980_000_4000_000.parquet', 'validation/camera_image/3651243243762122041_3920_000_3940_000.parquet', 'validation/camera_image/366934253670232570_2229_530_2249_530.parquet', 'validation/camera_image/3731719923709458059_1540_000_1560_000.parquet', 'validation/camera_image/3915587593663172342_10_000_30_000.parquet', 'validation/camera_image/4013125682946523088_3540_000_3560_000.parquet', 'validation/camera_image/4195774665746097799_7300_960_7320_960.parquet', 'validation/camera_image/4246537812751004276_1560_000_1580_000.parquet', 'validation/camera_image/4409585400955983988_3500_470_3520_470.parquet', 'validation/camera_image/4423389401016162461_4235_900_4255_900.parquet', 'validation/camera_image/4426410228514970291_1620_000_1640_000.parquet', 'validation/camera_image/447576862407975570_4360_000_4380_000.parquet', 'validation/camera_image/4490196167747784364_616_569_636_569.parquet', 'validation/camera_image/4575389405178805994_4900_000_4920_000.parquet', 'validation/camera_image/4612525129938501780_340_000_360_000.parquet', 'validation/camera_image/4690718861228194910_1980_000_2000_000.parquet', 'validation/camera_image/4759225533437988401_800_000_820_000.parquet', 'validation/camera_image/4764167778917495793_860_000_880_000.parquet', 'validation/camera_image/4816728784073043251_5273_410_5293_410.parquet', 'validation/camera_image/4854173791890687260_2880_000_2900_000.parquet', 'validation/camera_image/5183174891274719570_3464_030_3484_030.parquet', 'validation/camera_image/5289247502039512990_2640_000_2660_000.parquet', 'validation/camera_image/5302885587058866068_320_000_340_000.parquet', 'validation/camera_image/5372281728627437618_2005_000_2025_000.parquet', 'validation/camera_image/5373876050695013404_3817_170_3837_170.parquet', 'validation/camera_image/5574146396199253121_6759_360_6779_360.parquet', 'validation/camera_image/5772016415301528777_1400_000_1420_000.parquet', 'validation/camera_image/5832416115092350434_60_000_80_000.parquet', 'validation/camera_image/5847910688643719375_180_000_200_000.parquet', 'validation/camera_image/5990032395956045002_6600_000_6620_000.parquet', 'validation/camera_image/6001094526418694294_4609_470_4629_470.parquet', 'validation/camera_image/6074871217133456543_1000_000_1020_000.parquet', 'validation/camera_image/6161542573106757148_585_030_605_030.parquet', 'validation/camera_image/6183008573786657189_5414_000_5434_000.parquet', 'validation/camera_image/6324079979569135086_2372_300_2392_300.parquet', 'validation/camera_image/6491418762940479413_6520_000_6540_000.parquet', 'validation/camera_image/662188686397364823_3248_800_3268_800.parquet', 'validation/camera_image/6637600600814023975_2235_000_2255_000.parquet', 'validation/camera_image/6680764940003341232_2260_000_2280_000.parquet', 'validation/camera_image/6707256092020422936_2352_392_2372_392.parquet', 'validation/camera_image/7119831293178745002_1094_720_1114_720.parquet', 'validation/camera_image/7163140554846378423_2717_820_2737_820.parquet', 'validation/camera_image/7253952751374634065_1100_000_1120_000.parquet', 'validation/camera_image/7493781117404461396_2140_000_2160_000.parquet', 'validation/camera_image/7650923902987369309_2380_000_2400_000.parquet', 'validation/camera_image/7732779227944176527_2120_000_2140_000.parquet', 'validation/camera_image/7799643635310185714_680_000_700_000.parquet', 'validation/camera_image/7932945205197754811_780_000_800_000.parquet', 'validation/camera_image/7988627150403732100_1487_540_1507_540.parquet', 'validation/camera_image/8079607115087394458_1240_000_1260_000.parquet', 'validation/camera_image/8133434654699693993_1162_020_1182_020.parquet', 'validation/camera_image/8137195482049459160_3100_000_3120_000.parquet', 'validation/camera_image/8302000153252334863_6020_000_6040_000.parquet', 'validation/camera_image/8331804655557290264_4351_740_4371_740.parquet', 'validation/camera_image/8398516118967750070_3958_000_3978_000.parquet', 'validation/camera_image/8506432817378693815_4860_000_4880_000.parquet', 'validation/camera_image/8679184381783013073_7740_000_7760_000.parquet', 'validation/camera_image/8845277173853189216_3828_530_3848_530.parquet', 'validation/camera_image/8888517708810165484_1549_770_1569_770.parquet', 'validation/camera_image/8907419590259234067_1960_000_1980_000.parquet', 'validation/camera_image/89454214745557131_3160_000_3180_000.parquet', 'validation/camera_image/8956556778987472864_3404_790_3424_790.parquet', 'validation/camera_image/902001779062034993_2880_000_2900_000.parquet', 'validation/camera_image/9024872035982010942_2578_810_2598_810.parquet', 'validation/camera_image/9041488218266405018_6454_030_6474_030.parquet', 'validation/camera_image/9114112687541091312_1100_000_1120_000.parquet', 'validation/camera_image/9164052963393400298_4692_970_4712_970.parquet', 'validation/camera_image/9231652062943496183_1740_000_1760_000.parquet', 'validation/camera_image/9243656068381062947_1297_428_1317_428.parquet', 'validation/camera_image/9265793588137545201_2981_960_3001_960.parquet', 'validation/camera_image/933621182106051783_4160_000_4180_000.parquet', 'validation/camera_image/9443948810903981522_6538_870_6558_870.parquet', 'validation/camera_image/9472420603764812147_850_000_870_000.parquet', 'validation/camera_image/9579041874842301407_1300_000_1320_000.parquet', 'validation/camera_image/967082162553397800_5102_900_5122_900.parquet', 'validation/camera_image/_metadata']\n"
          ]
        },
        {
          "output_type": "display_data",
          "data": {
            "text/plain": [
              "  0%|          | 0/959 [00:00<?, ?it/s]"
            ],
            "application/vnd.jupyter.widget-view+json": {
              "version_major": 2,
              "version_minor": 0,
              "model_id": "4d2f343568844374af05bcfb05639a4a"
            }
          },
          "metadata": {}
        },
        {
          "output_type": "stream",
          "name": "stdout",
          "text": [
            "completed_file_number:  0\n"
          ]
        }
      ]
    },
    {
      "cell_type": "markdown",
      "source": [
        "## Main run to create train data store and train different hyperparam models"
      ],
      "metadata": {
        "id": "VphlxgrHyf4p"
      }
    },
    {
      "cell_type": "code",
      "source": [
        "# checking and then initiating GCS file download\n",
        "if file_store == 'GCS':\n",
        "  bucket, files_list = start_gcs()\n",
        "  gcs_iterator = open_gcs_file(files_list,bucket, storage_folder = 'training')\n",
        "  file_counter = 0\n",
        "  model_list = []\n",
        "  train_file_path_list = []\n",
        "  for a_file in gcs_iterator:\n",
        "    # train data\n",
        "      box_file_blob, box_file_name,bare_image_blob, bare_image_file_name = a_file\n",
        "\n",
        "      download_blob(box_file_blob,box_file_name)\n",
        "      new_box_file_name = 'box_file_'+ box_file_name\n",
        "      os.rename(box_file_name, new_box_file_name)\n",
        "\n",
        "      download_blob(bare_image_blob,bare_image_file_name)\n",
        "      new_image_file_name = 'image_file_'+ bare_image_file_name\n",
        "      os.rename(bare_image_file_name, new_image_file_name)\n",
        "\n",
        "      train_file_path_list = unpack_store_images(new_image_file_name,new_box_file_name, store_type = 'train')\n",
        "      model_list = train_model(file_counter, model_list)\n",
        "      print('completed_file_number: ',file_counter)\n",
        "      file_counter += 1\n",
        "\n",
        "      delete_file([new_box_file_name,new_image_file_name]+train_file_path_list)\n",
        "      if (file_counter >= train_limit) and (train_limit != -1):\n",
        "        break\n",
        "\n",
        "elif file_store == 'LOCAL':\n",
        "    file_counter = 0\n",
        "    model_list = []\n",
        "    train_file_path_list = unpack_store_images(train_box_data_file_path,train_image_data_file_path, store_type = 'train')\n",
        "    model_list = train_model(file_counter, model_list)\n",
        "    delete_file([train_box_data_file_path,train_image_data_file_path]+train_file_path_list)\n",
        "else:\n",
        "  print('''check file_store variable, it should be in capital 'GCS' or 'LOCAL' ''')\n"
      ],
      "metadata": {
        "id": "CePd2VYmgOxZ"
      },
      "execution_count": null,
      "outputs": []
    },
    {
      "cell_type": "markdown",
      "source": [
        "## Model evaluation and comparison"
      ],
      "metadata": {
        "id": "Ou4B6On87oTr"
      }
    },
    {
      "cell_type": "code",
      "source": [
        "# lets get evaluation metrics in our dicts\n",
        "parameter_dict_list =[]\n",
        "for model_dict in model_list:\n",
        "  model = YOLO(model_dict['model_path'])\n",
        "  metrics = model.val(batch = 64, device\t= 'cpu')\n",
        "  map_50_95 = metrics.box.map\n",
        "  model_dict['parameters']['map_50_95'] = map_50_95\n",
        "  parameter_dict_list.append(model_dict['parameters'])"
      ],
      "metadata": {
        "id": "hElcLbaZ7z_s"
      },
      "execution_count": null,
      "outputs": []
    },
    {
      "cell_type": "code",
      "source": [
        "# let's create a model performance dataframe\n",
        "model_eval_df = pd.DataFrame(parameter_dict_list)\n",
        "dropped_df = model_eval_df.drop(['data','device','patience','workers'],axis = 1)\n",
        "dropped_df.to_csv('yolo_hyperparameter_evaluation.csv', index=False)\n",
        "dropped_df['lr0:lrf'] = dropped_df['lr0'].astype(str) + ' : '+ dropped_df['lrf'].astype(str)\n"
      ],
      "metadata": {
        "id": "am6BwYV_Cudn"
      },
      "execution_count": null,
      "outputs": []
    },
    {
      "cell_type": "code",
      "source": [
        "# let's create a plot\n",
        "\n",
        "learning_rate_chart = alt.Chart(dropped_df).mark_tick(size = 25, thickness =3).encode(\n",
        "    x= alt.X('map_50_95:Q',title = 'mean_average_percision (50:95)' ),\n",
        "    y= alt.X('lr0:lrf:N',title = 'start : end (learning rate)' ),\n",
        "    color=alt.Color(\"optimizer:N\",legend=alt.Legend(title=\"Optimizer function\"))\n",
        ").properties(title='Impact of learning rate on yolo model performance', width=600,height=200\n",
        ")\n",
        "\n",
        "momentum = alt.Chart(dropped_df).mark_tick(size = 25, thickness =3).encode(\n",
        "    x= alt.X('map_50_95:Q',title = 'mean_average_percision (50:95)' ),\n",
        "    y= alt.X('momentum:N',title = 'momentum' ),\n",
        "    color=alt.Color(\"optimizer:N\",legend=None)\n",
        ").properties(title='Impact of momentum on yolo model performance', width=600,height=200 )\n",
        "\n",
        "weight_decay = alt.Chart(dropped_df).mark_tick(size = 25, thickness =3).encode(\n",
        "    x= alt.X('map_50_95:Q',title = 'mean_average_percision (50:95)' ),\n",
        "    y= alt.X('weight_decay:N',title = 'weight_decay' ),\n",
        "    color=alt.Color(\"optimizer:N\",legend=None)\n",
        ").properties(title='Impact of weight decay on yolo model performance', width=600,height=200 )\n",
        "\n",
        "evaluation_chart = (learning_rate_chart & momentum & weight_decay).configure_axisY(titleAngle=0, titleAnchor='start').configure_axis(ticks=False\n",
        ").configure_view(stroke=None)\n",
        "\n",
        "evaluation_chart"
      ],
      "metadata": {
        "colab": {
          "base_uri": "https://localhost:8080/",
          "height": 836
        },
        "id": "Ras3nF1MJC1T",
        "outputId": "ea1470d4-3e03-4928-b34f-ba56fb40f555"
      },
      "execution_count": null,
      "outputs": [
        {
          "output_type": "execute_result",
          "data": {
            "text/html": [
              "\n",
              "<div id=\"altair-viz-1787d3306bf244f8a784fd1c609a4705\"></div>\n",
              "<script type=\"text/javascript\">\n",
              "  var VEGA_DEBUG = (typeof VEGA_DEBUG == \"undefined\") ? {} : VEGA_DEBUG;\n",
              "  (function(spec, embedOpt){\n",
              "    let outputDiv = document.currentScript.previousElementSibling;\n",
              "    if (outputDiv.id !== \"altair-viz-1787d3306bf244f8a784fd1c609a4705\") {\n",
              "      outputDiv = document.getElementById(\"altair-viz-1787d3306bf244f8a784fd1c609a4705\");\n",
              "    }\n",
              "    const paths = {\n",
              "      \"vega\": \"https://cdn.jsdelivr.net/npm//vega@5?noext\",\n",
              "      \"vega-lib\": \"https://cdn.jsdelivr.net/npm//vega-lib?noext\",\n",
              "      \"vega-lite\": \"https://cdn.jsdelivr.net/npm//vega-lite@4.17.0?noext\",\n",
              "      \"vega-embed\": \"https://cdn.jsdelivr.net/npm//vega-embed@6?noext\",\n",
              "    };\n",
              "\n",
              "    function maybeLoadScript(lib, version) {\n",
              "      var key = `${lib.replace(\"-\", \"\")}_version`;\n",
              "      return (VEGA_DEBUG[key] == version) ?\n",
              "        Promise.resolve(paths[lib]) :\n",
              "        new Promise(function(resolve, reject) {\n",
              "          var s = document.createElement('script');\n",
              "          document.getElementsByTagName(\"head\")[0].appendChild(s);\n",
              "          s.async = true;\n",
              "          s.onload = () => {\n",
              "            VEGA_DEBUG[key] = version;\n",
              "            return resolve(paths[lib]);\n",
              "          };\n",
              "          s.onerror = () => reject(`Error loading script: ${paths[lib]}`);\n",
              "          s.src = paths[lib];\n",
              "        });\n",
              "    }\n",
              "\n",
              "    function showError(err) {\n",
              "      outputDiv.innerHTML = `<div class=\"error\" style=\"color:red;\">${err}</div>`;\n",
              "      throw err;\n",
              "    }\n",
              "\n",
              "    function displayChart(vegaEmbed) {\n",
              "      vegaEmbed(outputDiv, spec, embedOpt)\n",
              "        .catch(err => showError(`Javascript Error: ${err.message}<br>This usually means there's a typo in your chart specification. See the javascript console for the full traceback.`));\n",
              "    }\n",
              "\n",
              "    if(typeof define === \"function\" && define.amd) {\n",
              "      requirejs.config({paths});\n",
              "      require([\"vega-embed\"], displayChart, err => showError(`Error loading script: ${err.message}`));\n",
              "    } else {\n",
              "      maybeLoadScript(\"vega\", \"5\")\n",
              "        .then(() => maybeLoadScript(\"vega-lite\", \"4.17.0\"))\n",
              "        .then(() => maybeLoadScript(\"vega-embed\", \"6\"))\n",
              "        .catch(showError)\n",
              "        .then(() => displayChart(vegaEmbed));\n",
              "    }\n",
              "  })({\"config\": {\"view\": {\"continuousWidth\": 400, \"continuousHeight\": 300, \"stroke\": null}, \"axis\": {\"ticks\": false}, \"axisY\": {\"titleAnchor\": \"start\", \"titleAngle\": 0}}, \"vconcat\": [{\"mark\": {\"type\": \"tick\", \"size\": 25, \"thickness\": 3}, \"encoding\": {\"color\": {\"field\": \"optimizer\", \"legend\": {\"title\": \"Optimizer function\"}, \"type\": \"nominal\"}, \"x\": {\"field\": \"map_50_95\", \"title\": \"mean_average_percision (50:95)\", \"type\": \"quantitative\"}, \"y\": {\"field\": \"lr0:lrf\", \"title\": \"start : end (learning rate)\", \"type\": \"nominal\"}}, \"height\": 200, \"title\": \"Impact of learning rate on yolo model performance\", \"width\": 600}, {\"mark\": {\"type\": \"tick\", \"size\": 25, \"thickness\": 3}, \"encoding\": {\"color\": {\"field\": \"optimizer\", \"legend\": null, \"type\": \"nominal\"}, \"x\": {\"field\": \"map_50_95\", \"title\": \"mean_average_percision (50:95)\", \"type\": \"quantitative\"}, \"y\": {\"field\": \"momentum\", \"title\": \"momentum\", \"type\": \"nominal\"}}, \"height\": 200, \"title\": \"Impact of momentum on yolo model performance\", \"width\": 600}, {\"mark\": {\"type\": \"tick\", \"size\": 25, \"thickness\": 3}, \"encoding\": {\"color\": {\"field\": \"optimizer\", \"legend\": null, \"type\": \"nominal\"}, \"x\": {\"field\": \"map_50_95\", \"title\": \"mean_average_percision (50:95)\", \"type\": \"quantitative\"}, \"y\": {\"field\": \"weight_decay\", \"title\": \"weight_decay\", \"type\": \"nominal\"}}, \"height\": 200, \"title\": \"Impact of weight decay on yolo model performance\", \"width\": 600}], \"data\": {\"name\": \"data-455a20488774ed55c66e7e50af9c1311\"}, \"$schema\": \"https://vega.github.io/schema/vega-lite/v4.17.0.json\", \"datasets\": {\"data-455a20488774ed55c66e7e50af9c1311\": [{\"batch\": 64, \"epochs\": 20, \"lr0\": 0.01, \"lrf\": 0.01, \"momentum\": 0.9, \"optimizer\": \"SGD\", \"weight_decay\": 0.0001, \"map_50_95\": 0.0025351325359895, \"lr0:lrf\": \"0.01 : 0.01\"}, {\"batch\": 64, \"epochs\": 20, \"lr0\": 0.01, \"lrf\": 0.01, \"momentum\": 0.9, \"optimizer\": \"SGD\", \"weight_decay\": 0.0005, \"map_50_95\": 0.0024145614504163, \"lr0:lrf\": \"0.01 : 0.01\"}, {\"batch\": 64, \"epochs\": 20, \"lr0\": 0.01, \"lrf\": 0.01, \"momentum\": 0.9, \"optimizer\": \"Adamax\", \"weight_decay\": 0.0001, \"map_50_95\": 0.0079872616019802, \"lr0:lrf\": \"0.01 : 0.01\"}, {\"batch\": 64, \"epochs\": 20, \"lr0\": 0.01, \"lrf\": 0.01, \"momentum\": 0.9, \"optimizer\": \"Adamax\", \"weight_decay\": 0.0005, \"map_50_95\": 0.0064847953300419, \"lr0:lrf\": \"0.01 : 0.01\"}, {\"batch\": 64, \"epochs\": 20, \"lr0\": 0.01, \"lrf\": 0.01, \"momentum\": 0.95, \"optimizer\": \"SGD\", \"weight_decay\": 0.0001, \"map_50_95\": 0.0024518275258813, \"lr0:lrf\": \"0.01 : 0.01\"}, {\"batch\": 64, \"epochs\": 20, \"lr0\": 0.01, \"lrf\": 0.01, \"momentum\": 0.95, \"optimizer\": \"SGD\", \"weight_decay\": 0.0005, \"map_50_95\": 0.0031559376407862, \"lr0:lrf\": \"0.01 : 0.01\"}, {\"batch\": 64, \"epochs\": 20, \"lr0\": 0.01, \"lrf\": 0.01, \"momentum\": 0.95, \"optimizer\": \"Adamax\", \"weight_decay\": 0.0001, \"map_50_95\": 0.0038134302767985, \"lr0:lrf\": \"0.01 : 0.01\"}, {\"batch\": 64, \"epochs\": 20, \"lr0\": 0.01, \"lrf\": 0.01, \"momentum\": 0.95, \"optimizer\": \"Adamax\", \"weight_decay\": 0.0005, \"map_50_95\": 0.0082752780192372, \"lr0:lrf\": \"0.01 : 0.01\"}, {\"batch\": 64, \"epochs\": 20, \"lr0\": 0.01, \"lrf\": 0.05, \"momentum\": 0.9, \"optimizer\": \"SGD\", \"weight_decay\": 0.0001, \"map_50_95\": 0.0024181561425424, \"lr0:lrf\": \"0.01 : 0.05\"}, {\"batch\": 64, \"epochs\": 20, \"lr0\": 0.01, \"lrf\": 0.05, \"momentum\": 0.9, \"optimizer\": \"SGD\", \"weight_decay\": 0.0005, \"map_50_95\": 0.003036437785226, \"lr0:lrf\": \"0.01 : 0.05\"}, {\"batch\": 64, \"epochs\": 20, \"lr0\": 0.01, \"lrf\": 0.05, \"momentum\": 0.9, \"optimizer\": \"Adamax\", \"weight_decay\": 0.0001, \"map_50_95\": 0.0057986431546112, \"lr0:lrf\": \"0.01 : 0.05\"}, {\"batch\": 64, \"epochs\": 20, \"lr0\": 0.01, \"lrf\": 0.05, \"momentum\": 0.9, \"optimizer\": \"Adamax\", \"weight_decay\": 0.0005, \"map_50_95\": 0.0097912052850018, \"lr0:lrf\": \"0.01 : 0.05\"}, {\"batch\": 64, \"epochs\": 20, \"lr0\": 0.01, \"lrf\": 0.05, \"momentum\": 0.95, \"optimizer\": \"SGD\", \"weight_decay\": 0.0001, \"map_50_95\": 0.003061267758536, \"lr0:lrf\": \"0.01 : 0.05\"}, {\"batch\": 64, \"epochs\": 20, \"lr0\": 0.01, \"lrf\": 0.05, \"momentum\": 0.95, \"optimizer\": \"SGD\", \"weight_decay\": 0.0005, \"map_50_95\": 0.0027737031850958, \"lr0:lrf\": \"0.01 : 0.05\"}, {\"batch\": 64, \"epochs\": 20, \"lr0\": 0.01, \"lrf\": 0.05, \"momentum\": 0.95, \"optimizer\": \"Adamax\", \"weight_decay\": 0.0001, \"map_50_95\": 0.0043567444617262, \"lr0:lrf\": \"0.01 : 0.05\"}, {\"batch\": 64, \"epochs\": 20, \"lr0\": 0.01, \"lrf\": 0.05, \"momentum\": 0.95, \"optimizer\": \"Adamax\", \"weight_decay\": 0.0005, \"map_50_95\": 0.0063856838637932, \"lr0:lrf\": \"0.01 : 0.05\"}, {\"batch\": 64, \"epochs\": 20, \"lr0\": 0.05, \"lrf\": 0.01, \"momentum\": 0.9, \"optimizer\": \"SGD\", \"weight_decay\": 0.0001, \"map_50_95\": 0.0043356474212288, \"lr0:lrf\": \"0.05 : 0.01\"}, {\"batch\": 64, \"epochs\": 20, \"lr0\": 0.05, \"lrf\": 0.01, \"momentum\": 0.9, \"optimizer\": \"SGD\", \"weight_decay\": 0.0005, \"map_50_95\": 0.0052158039383205, \"lr0:lrf\": \"0.05 : 0.01\"}, {\"batch\": 64, \"epochs\": 20, \"lr0\": 0.05, \"lrf\": 0.01, \"momentum\": 0.9, \"optimizer\": \"Adamax\", \"weight_decay\": 0.0001, \"map_50_95\": 0.0030335253154217, \"lr0:lrf\": \"0.05 : 0.01\"}, {\"batch\": 64, \"epochs\": 20, \"lr0\": 0.05, \"lrf\": 0.01, \"momentum\": 0.9, \"optimizer\": \"Adamax\", \"weight_decay\": 0.0005, \"map_50_95\": 0.0037546106608346, \"lr0:lrf\": \"0.05 : 0.01\"}, {\"batch\": 64, \"epochs\": 20, \"lr0\": 0.05, \"lrf\": 0.01, \"momentum\": 0.95, \"optimizer\": \"SGD\", \"weight_decay\": 0.0001, \"map_50_95\": 0.0111822476019015, \"lr0:lrf\": \"0.05 : 0.01\"}, {\"batch\": 64, \"epochs\": 20, \"lr0\": 0.05, \"lrf\": 0.01, \"momentum\": 0.95, \"optimizer\": \"SGD\", \"weight_decay\": 0.0005, \"map_50_95\": 0.0055019799706722, \"lr0:lrf\": \"0.05 : 0.01\"}, {\"batch\": 64, \"epochs\": 20, \"lr0\": 0.05, \"lrf\": 0.01, \"momentum\": 0.95, \"optimizer\": \"Adamax\", \"weight_decay\": 0.0001, \"map_50_95\": 0.0025511294011732, \"lr0:lrf\": \"0.05 : 0.01\"}, {\"batch\": 64, \"epochs\": 20, \"lr0\": 0.05, \"lrf\": 0.01, \"momentum\": 0.95, \"optimizer\": \"Adamax\", \"weight_decay\": 0.0005, \"map_50_95\": 0.0032577672283897, \"lr0:lrf\": \"0.05 : 0.01\"}, {\"batch\": 64, \"epochs\": 20, \"lr0\": 0.05, \"lrf\": 0.05, \"momentum\": 0.9, \"optimizer\": \"SGD\", \"weight_decay\": 0.0001, \"map_50_95\": 0.0034481939835411, \"lr0:lrf\": \"0.05 : 0.05\"}, {\"batch\": 64, \"epochs\": 20, \"lr0\": 0.05, \"lrf\": 0.05, \"momentum\": 0.9, \"optimizer\": \"SGD\", \"weight_decay\": 0.0005, \"map_50_95\": 0.0048226252458306, \"lr0:lrf\": \"0.05 : 0.05\"}, {\"batch\": 64, \"epochs\": 20, \"lr0\": 0.05, \"lrf\": 0.05, \"momentum\": 0.9, \"optimizer\": \"Adamax\", \"weight_decay\": 0.0001, \"map_50_95\": 0.003533957747442, \"lr0:lrf\": \"0.05 : 0.05\"}, {\"batch\": 64, \"epochs\": 20, \"lr0\": 0.05, \"lrf\": 0.05, \"momentum\": 0.9, \"optimizer\": \"Adamax\", \"weight_decay\": 0.0005, \"map_50_95\": 0.0031599023062989, \"lr0:lrf\": \"0.05 : 0.05\"}, {\"batch\": 64, \"epochs\": 20, \"lr0\": 0.05, \"lrf\": 0.05, \"momentum\": 0.95, \"optimizer\": \"SGD\", \"weight_decay\": 0.0001, \"map_50_95\": 0.0134190986036897, \"lr0:lrf\": \"0.05 : 0.05\"}, {\"batch\": 64, \"epochs\": 20, \"lr0\": 0.05, \"lrf\": 0.05, \"momentum\": 0.95, \"optimizer\": \"SGD\", \"weight_decay\": 0.0005, \"map_50_95\": 0.0049785018239168, \"lr0:lrf\": \"0.05 : 0.05\"}, {\"batch\": 64, \"epochs\": 20, \"lr0\": 0.05, \"lrf\": 0.05, \"momentum\": 0.95, \"optimizer\": \"Adamax\", \"weight_decay\": 0.0001, \"map_50_95\": 0.0030392019416289, \"lr0:lrf\": \"0.05 : 0.05\"}, {\"batch\": 64, \"epochs\": 20, \"lr0\": 0.05, \"lrf\": 0.05, \"momentum\": 0.95, \"optimizer\": \"Adamax\", \"weight_decay\": 0.0005, \"map_50_95\": 0.0039469095880451, \"lr0:lrf\": \"0.05 : 0.05\"}]}}, {\"mode\": \"vega-lite\"});\n",
              "</script>"
            ],
            "text/plain": [
              "alt.VConcatChart(...)"
            ]
          },
          "metadata": {},
          "execution_count": 83
        }
      ]
    },
    {
      "cell_type": "markdown",
      "source": [
        "## Selected Model Train\n",
        "- here we only train one model, based on the top. parameters identified above"
      ],
      "metadata": {
        "id": "0UD7bqZ7bj-Z"
      }
    },
    {
      "cell_type": "code",
      "source": [
        "def updated_train_model(file_counter, prev_model_list):\n",
        "  if (file_counter == 0):\n",
        "    model_list = []\n",
        "    model_data_dict = {}\n",
        "    param_grid = {'data':['yolov8_waymo.yaml'], 'epochs' : [20],\n",
        "                  'device' : [0], 'patience' : [10],\n",
        "                  'workers' : [0],'batch': [64],\n",
        "                  'optimizer': ['SGD'],\n",
        "                  'lr0': [0.05], 'lrf': [0.05],\n",
        "                  'momentum': [0.95], 'weight_decay': [0.0001], 'pretrained' : [True]}\n",
        "    grid_iterator = ParameterGrid(param_grid)\n",
        "    model_number = 0\n",
        "    for a_grid in grid_iterator:\n",
        "      model = YOLO('yolov8n.yaml')\n",
        "      model.train(data=a_grid['data'], epochs = a_grid['epochs'],device = a_grid['device'],\n",
        "                  patience = a_grid['patience'], workers = a_grid['workers'], batch = a_grid['batch'],\n",
        "                  optimizer = a_grid['optimizer'], lr0 = a_grid['lr0'], pretrained = a_grid['pretrained'],\n",
        "                  lrf = a_grid['lrf'], momentum = a_grid['momentum'], weight_decay = a_grid['weight_decay'])\n",
        "\n",
        "      model_path ='final_model' + '.pt'\n",
        "      model_data_dict={'parameters': a_grid,'model_path': model_path}\n",
        "\n",
        "      output_location = model.export()\n",
        "      updated_location = output_location.replace('torchscript','pt')\n",
        "      move_copy(updated_location, model_path)\n",
        "\n",
        "      model_list.append(model_data_dict)\n",
        "      model_number +=1\n",
        "\n",
        "    return model_list\n",
        "\n",
        "  else:\n",
        "      for a_model_dict in prev_model_list:\n",
        "        model = YOLO(a_model_dict['model_path'])\n",
        "        model.train(data=a_model_dict['parameters']['data'], epochs = a_model_dict['parameters']['epochs'],\n",
        "                    device = a_model_dict['parameters']['device'],patience = a_model_dict['parameters']['patience'],\n",
        "                    workers = a_model_dict['parameters']['workers'], batch = a_model_dict['parameters']['batch'],\n",
        "                    optimizer = a_model_dict['parameters']['optimizer'], lr0 = a_model_dict['parameters']['lr0'],\n",
        "                    lrf = a_model_dict['parameters']['lrf'], momentum = a_model_dict['parameters']['momentum'],\n",
        "                    weight_decay = a_model_dict['parameters']['weight_decay'])\n",
        "\n",
        "        output_location = model.export()\n",
        "        updated_location = output_location.replace('torchscript','pt')\n",
        "        delete_file([a_model_dict['model_path']])\n",
        "        move_copy(updated_location, a_model_dict['model_path'])\n",
        "      return prev_model_list\n"
      ],
      "metadata": {
        "id": "eGb3EWdIbmJ3"
      },
      "execution_count": null,
      "outputs": []
    },
    {
      "cell_type": "code",
      "source": [
        "# @title\n",
        "# checking and then initiating GCS file download\n",
        "if file_store == 'GCS':\n",
        "  bucket, files_list = start_gcs()\n",
        "  gcs_iterator = open_gcs_file(files_list,bucket, storage_folder = 'training')\n",
        "  file_counter = 0\n",
        "  model_list = []\n",
        "  train_file_path_list = []\n",
        "  for a_file in gcs_iterator:\n",
        "    # train data\n",
        "      box_file_blob, box_file_name,bare_image_blob, bare_image_file_name = a_file\n",
        "\n",
        "      download_blob(box_file_blob,box_file_name)\n",
        "      new_box_file_name = 'box_file_'+ box_file_name\n",
        "      os.rename(box_file_name, new_box_file_name)\n",
        "\n",
        "      download_blob(bare_image_blob,bare_image_file_name)\n",
        "      new_image_file_name = 'image_file_'+ bare_image_file_name\n",
        "      os.rename(bare_image_file_name, new_image_file_name)\n",
        "\n",
        "      train_file_path_list = unpack_store_images(new_image_file_name,new_box_file_name, store_type = 'train')\n",
        "      model_list = updated_train_model(file_counter, model_list)\n",
        "      print('completed_file_number: ',file_counter)\n",
        "      file_counter += 1\n",
        "\n",
        "      delete_file([new_box_file_name,new_image_file_name]+train_file_path_list)\n",
        "      if (file_counter >= final_model_train_limit) and (final_model_train_limit != -1):\n",
        "        break\n",
        "\n",
        "elif file_store == 'LOCAL':\n",
        "    file_counter = 0\n",
        "    model_list = []\n",
        "    train_file_path_list = unpack_store_images(train_box_data_file_path,train_image_data_file_path, store_type = 'train')\n",
        "    model_list = train_model(file_counter, model_list)\n",
        "    delete_file([train_box_data_file_path,train_image_data_file_path]+train_file_path_list)\n",
        "else:\n",
        "  print('''check file_store variable, it should be in capital 'GCS' or 'LOCAL' ''')\n"
      ],
      "metadata": {
        "collapsed": true,
        "id": "6-TrDvuddgni"
      },
      "execution_count": null,
      "outputs": []
    }
  ],
  "metadata": {
    "colab": {
      "provenance": [],
      "include_colab_link": true
    },
    "kernelspec": {
      "display_name": "Python 3",
      "name": "python3"
    },
    "language_info": {
      "name": "python"
    },
    "widgets": {
      "application/vnd.jupyter.widget-state+json": {
        "4d2f343568844374af05bcfb05639a4a": {
          "model_module": "@jupyter-widgets/controls",
          "model_name": "HBoxModel",
          "model_module_version": "1.5.0",
          "state": {
            "_dom_classes": [],
            "_model_module": "@jupyter-widgets/controls",
            "_model_module_version": "1.5.0",
            "_model_name": "HBoxModel",
            "_view_count": null,
            "_view_module": "@jupyter-widgets/controls",
            "_view_module_version": "1.5.0",
            "_view_name": "HBoxView",
            "box_style": "",
            "children": [
              "IPY_MODEL_8299a919e75349519ba12e134e85c698",
              "IPY_MODEL_4ec205f6648c40fba56f59b65d77ec2a",
              "IPY_MODEL_1dd17957a8424b3f9e8ef8b5df9732f6"
            ],
            "layout": "IPY_MODEL_ace0506d5c6545d09232c9c4dcb4ed5e"
          }
        },
        "8299a919e75349519ba12e134e85c698": {
          "model_module": "@jupyter-widgets/controls",
          "model_name": "HTMLModel",
          "model_module_version": "1.5.0",
          "state": {
            "_dom_classes": [],
            "_model_module": "@jupyter-widgets/controls",
            "_model_module_version": "1.5.0",
            "_model_name": "HTMLModel",
            "_view_count": null,
            "_view_module": "@jupyter-widgets/controls",
            "_view_module_version": "1.5.0",
            "_view_name": "HTMLView",
            "description": "",
            "description_tooltip": null,
            "layout": "IPY_MODEL_1a6e9ee372ec4f11bbdef6cad254cdaa",
            "placeholder": "​",
            "style": "IPY_MODEL_83aeb51fbcb34aceac696a2d54f471d6",
            "value": "100%"
          }
        },
        "4ec205f6648c40fba56f59b65d77ec2a": {
          "model_module": "@jupyter-widgets/controls",
          "model_name": "FloatProgressModel",
          "model_module_version": "1.5.0",
          "state": {
            "_dom_classes": [],
            "_model_module": "@jupyter-widgets/controls",
            "_model_module_version": "1.5.0",
            "_model_name": "FloatProgressModel",
            "_view_count": null,
            "_view_module": "@jupyter-widgets/controls",
            "_view_module_version": "1.5.0",
            "_view_name": "ProgressView",
            "bar_style": "success",
            "description": "",
            "description_tooltip": null,
            "layout": "IPY_MODEL_03c713fd9e91496fac3394130044516e",
            "max": 959,
            "min": 0,
            "orientation": "horizontal",
            "style": "IPY_MODEL_98d1c725792740a8869cbebe73d52389",
            "value": 959
          }
        },
        "1dd17957a8424b3f9e8ef8b5df9732f6": {
          "model_module": "@jupyter-widgets/controls",
          "model_name": "HTMLModel",
          "model_module_version": "1.5.0",
          "state": {
            "_dom_classes": [],
            "_model_module": "@jupyter-widgets/controls",
            "_model_module_version": "1.5.0",
            "_model_name": "HTMLModel",
            "_view_count": null,
            "_view_module": "@jupyter-widgets/controls",
            "_view_module_version": "1.5.0",
            "_view_name": "HTMLView",
            "description": "",
            "description_tooltip": null,
            "layout": "IPY_MODEL_1b3d209119604868893d9ba9214f6cf0",
            "placeholder": "​",
            "style": "IPY_MODEL_6f83ea1a2d374e0fb6ae3870039f4efd",
            "value": " 959/959 [00:27&lt;00:00, 31.98it/s]"
          }
        },
        "ace0506d5c6545d09232c9c4dcb4ed5e": {
          "model_module": "@jupyter-widgets/base",
          "model_name": "LayoutModel",
          "model_module_version": "1.2.0",
          "state": {
            "_model_module": "@jupyter-widgets/base",
            "_model_module_version": "1.2.0",
            "_model_name": "LayoutModel",
            "_view_count": null,
            "_view_module": "@jupyter-widgets/base",
            "_view_module_version": "1.2.0",
            "_view_name": "LayoutView",
            "align_content": null,
            "align_items": null,
            "align_self": null,
            "border": null,
            "bottom": null,
            "display": null,
            "flex": null,
            "flex_flow": null,
            "grid_area": null,
            "grid_auto_columns": null,
            "grid_auto_flow": null,
            "grid_auto_rows": null,
            "grid_column": null,
            "grid_gap": null,
            "grid_row": null,
            "grid_template_areas": null,
            "grid_template_columns": null,
            "grid_template_rows": null,
            "height": null,
            "justify_content": null,
            "justify_items": null,
            "left": null,
            "margin": null,
            "max_height": null,
            "max_width": null,
            "min_height": null,
            "min_width": null,
            "object_fit": null,
            "object_position": null,
            "order": null,
            "overflow": null,
            "overflow_x": null,
            "overflow_y": null,
            "padding": null,
            "right": null,
            "top": null,
            "visibility": null,
            "width": null
          }
        },
        "1a6e9ee372ec4f11bbdef6cad254cdaa": {
          "model_module": "@jupyter-widgets/base",
          "model_name": "LayoutModel",
          "model_module_version": "1.2.0",
          "state": {
            "_model_module": "@jupyter-widgets/base",
            "_model_module_version": "1.2.0",
            "_model_name": "LayoutModel",
            "_view_count": null,
            "_view_module": "@jupyter-widgets/base",
            "_view_module_version": "1.2.0",
            "_view_name": "LayoutView",
            "align_content": null,
            "align_items": null,
            "align_self": null,
            "border": null,
            "bottom": null,
            "display": null,
            "flex": null,
            "flex_flow": null,
            "grid_area": null,
            "grid_auto_columns": null,
            "grid_auto_flow": null,
            "grid_auto_rows": null,
            "grid_column": null,
            "grid_gap": null,
            "grid_row": null,
            "grid_template_areas": null,
            "grid_template_columns": null,
            "grid_template_rows": null,
            "height": null,
            "justify_content": null,
            "justify_items": null,
            "left": null,
            "margin": null,
            "max_height": null,
            "max_width": null,
            "min_height": null,
            "min_width": null,
            "object_fit": null,
            "object_position": null,
            "order": null,
            "overflow": null,
            "overflow_x": null,
            "overflow_y": null,
            "padding": null,
            "right": null,
            "top": null,
            "visibility": null,
            "width": null
          }
        },
        "83aeb51fbcb34aceac696a2d54f471d6": {
          "model_module": "@jupyter-widgets/controls",
          "model_name": "DescriptionStyleModel",
          "model_module_version": "1.5.0",
          "state": {
            "_model_module": "@jupyter-widgets/controls",
            "_model_module_version": "1.5.0",
            "_model_name": "DescriptionStyleModel",
            "_view_count": null,
            "_view_module": "@jupyter-widgets/base",
            "_view_module_version": "1.2.0",
            "_view_name": "StyleView",
            "description_width": ""
          }
        },
        "03c713fd9e91496fac3394130044516e": {
          "model_module": "@jupyter-widgets/base",
          "model_name": "LayoutModel",
          "model_module_version": "1.2.0",
          "state": {
            "_model_module": "@jupyter-widgets/base",
            "_model_module_version": "1.2.0",
            "_model_name": "LayoutModel",
            "_view_count": null,
            "_view_module": "@jupyter-widgets/base",
            "_view_module_version": "1.2.0",
            "_view_name": "LayoutView",
            "align_content": null,
            "align_items": null,
            "align_self": null,
            "border": null,
            "bottom": null,
            "display": null,
            "flex": null,
            "flex_flow": null,
            "grid_area": null,
            "grid_auto_columns": null,
            "grid_auto_flow": null,
            "grid_auto_rows": null,
            "grid_column": null,
            "grid_gap": null,
            "grid_row": null,
            "grid_template_areas": null,
            "grid_template_columns": null,
            "grid_template_rows": null,
            "height": null,
            "justify_content": null,
            "justify_items": null,
            "left": null,
            "margin": null,
            "max_height": null,
            "max_width": null,
            "min_height": null,
            "min_width": null,
            "object_fit": null,
            "object_position": null,
            "order": null,
            "overflow": null,
            "overflow_x": null,
            "overflow_y": null,
            "padding": null,
            "right": null,
            "top": null,
            "visibility": null,
            "width": null
          }
        },
        "98d1c725792740a8869cbebe73d52389": {
          "model_module": "@jupyter-widgets/controls",
          "model_name": "ProgressStyleModel",
          "model_module_version": "1.5.0",
          "state": {
            "_model_module": "@jupyter-widgets/controls",
            "_model_module_version": "1.5.0",
            "_model_name": "ProgressStyleModel",
            "_view_count": null,
            "_view_module": "@jupyter-widgets/base",
            "_view_module_version": "1.2.0",
            "_view_name": "StyleView",
            "bar_color": null,
            "description_width": ""
          }
        },
        "1b3d209119604868893d9ba9214f6cf0": {
          "model_module": "@jupyter-widgets/base",
          "model_name": "LayoutModel",
          "model_module_version": "1.2.0",
          "state": {
            "_model_module": "@jupyter-widgets/base",
            "_model_module_version": "1.2.0",
            "_model_name": "LayoutModel",
            "_view_count": null,
            "_view_module": "@jupyter-widgets/base",
            "_view_module_version": "1.2.0",
            "_view_name": "LayoutView",
            "align_content": null,
            "align_items": null,
            "align_self": null,
            "border": null,
            "bottom": null,
            "display": null,
            "flex": null,
            "flex_flow": null,
            "grid_area": null,
            "grid_auto_columns": null,
            "grid_auto_flow": null,
            "grid_auto_rows": null,
            "grid_column": null,
            "grid_gap": null,
            "grid_row": null,
            "grid_template_areas": null,
            "grid_template_columns": null,
            "grid_template_rows": null,
            "height": null,
            "justify_content": null,
            "justify_items": null,
            "left": null,
            "margin": null,
            "max_height": null,
            "max_width": null,
            "min_height": null,
            "min_width": null,
            "object_fit": null,
            "object_position": null,
            "order": null,
            "overflow": null,
            "overflow_x": null,
            "overflow_y": null,
            "padding": null,
            "right": null,
            "top": null,
            "visibility": null,
            "width": null
          }
        },
        "6f83ea1a2d374e0fb6ae3870039f4efd": {
          "model_module": "@jupyter-widgets/controls",
          "model_name": "DescriptionStyleModel",
          "model_module_version": "1.5.0",
          "state": {
            "_model_module": "@jupyter-widgets/controls",
            "_model_module_version": "1.5.0",
            "_model_name": "DescriptionStyleModel",
            "_view_count": null,
            "_view_module": "@jupyter-widgets/base",
            "_view_module_version": "1.2.0",
            "_view_name": "StyleView",
            "description_width": ""
          }
        }
      }
    }
  },
  "nbformat": 4,
  "nbformat_minor": 0
}