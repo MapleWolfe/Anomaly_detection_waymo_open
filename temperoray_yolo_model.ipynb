{
  "nbformat": 4,
  "nbformat_minor": 0,
  "metadata": {
    "colab": {
      "provenance": [],
      "authorship_tag": "ABX9TyOGSJ9sRMUT/E0Hs2/RmTVT",
      "include_colab_link": true
    },
    "kernelspec": {
      "name": "python3",
      "display_name": "Python 3"
    },
    "language_info": {
      "name": "python"
    }
  },
  "cells": [
    {
      "cell_type": "markdown",
      "metadata": {
        "id": "view-in-github",
        "colab_type": "text"
      },
      "source": [
        "<a href=\"https://colab.research.google.com/github/MapleWolfe/Anomaly_detection_waymo_open/blob/jai/temperoray_yolo_model.ipynb\" target=\"_parent\"><img src=\"https://colab.research.google.com/assets/colab-badge.svg\" alt=\"Open In Colab\"/></a>"
      ]
    },
    {
      "cell_type": "code",
      "execution_count": null,
      "metadata": {
        "id": "KLGbI0v4iODt"
      },
      "outputs": [],
      "source": [
        "!pip install ultralytics"
      ]
    },
    {
      "cell_type": "code",
      "source": [
        "import os\n",
        "import pandas as pd\n",
        "from PIL import Image\n",
        "import io\n",
        "import numpy as np\n",
        "from ultralytics import YOLO\n",
        "import matplotlib.pyplot as plt\n",
        "import matplotlib.patches as patches"
      ],
      "metadata": {
        "id": "B07Jdu3fiQjL"
      },
      "execution_count": null,
      "outputs": []
    },
    {
      "cell_type": "code",
      "source": [
        "#to plot one box\n",
        "def plot_a_box(box_spec_list):\n",
        "  print(box_spec_list)\n",
        "  center_x = box_spec_list[0]\n",
        "  center_y = box_spec_list[1]\n",
        "  width = box_spec_list[2]\n",
        "  height =box_spec_list[3]\n",
        "  x_min = center_x - (width / 2)\n",
        "  y_min = center_y - (height / 2)\n",
        "  rect = patches.Rectangle((x_min, y_min), width, height,linewidth=2, edgecolor='gold', facecolor='none')\n",
        "  return rect\n",
        "\n",
        "# to plot all boxes\n",
        "def plot_boxes(image_object,box_iterator_object):\n",
        "  fig, ax = plt.subplots()\n",
        "  ax.imshow(image_object)\n",
        "  for a_box in box_iterator_object:\n",
        "    one_box_val = a_box.xywh[0].tolist()\n",
        "    one_plot_box = plot_a_box(one_box_val)\n",
        "    ax.add_patch(one_plot_box)\n",
        "  ax.set_xlim(0, image_object.width)\n",
        "  return fig, ax"
      ],
      "metadata": {
        "id": "mivBKnC2ifj3"
      },
      "execution_count": null,
      "outputs": []
    },
    {
      "cell_type": "code",
      "source": [
        "image = Image.open(image_here) # image path here\n",
        "model = YOLO('yolov8n.pt')\n",
        "results = model(image)\n",
        "for result in results:\n",
        "  boxes = result.boxes  # Boxes object for bbox outputs\n",
        "  fig, ax = plot_boxes(image,boxes)\n",
        "  plt.show()\n",
        "  plt.savefig(file_path, format='jpeg', dpi=300) # here put in output filepath\n"
      ],
      "metadata": {
        "id": "1eilnF3Vih1X"
      },
      "execution_count": null,
      "outputs": []
    }
  ]
}